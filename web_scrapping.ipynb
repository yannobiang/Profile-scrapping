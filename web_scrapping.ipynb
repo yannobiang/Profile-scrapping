{
 "cells": [
  {
   "cell_type": "code",
   "execution_count": 13,
   "id": "296156eb-092f-4e55-b2ee-cbde6ad92620",
   "metadata": {},
   "outputs": [],
   "source": [
    "import requests"
   ]
  },
  {
   "cell_type": "code",
   "execution_count": 14,
   "id": "8ae32568-a2a6-4b43-96e8-01b65c96a003",
   "metadata": {},
   "outputs": [],
   "source": [
    "from bs4 import BeautifulSoup"
   ]
  },
  {
   "cell_type": "code",
   "execution_count": 82,
   "id": "e9c717b0-9cf8-4a07-ba22-a1f21c268298",
   "metadata": {},
   "outputs": [],
   "source": [
    "def extract(page, word1, word2, ville):\n",
    "    headers = {'User-Agent':'Mozilla/5.0 (Windows NT 10.0; Win64; x64) AppleWebKit/537.36 (KHTML, like Gecko) Chrome/106.0.0.0 Safari/537.36'}\n",
    "    url = f\"https://fr.indeed.com/jobs?q={word1}+{word2}&l={ville}%2C&start={page}\"\n",
    "    r = requests.get(url, headers=headers).text\n",
    "    soup = BeautifulSoup(r, 'lxml')\n",
    "    #soup = BeautifulSoup(r.content, 'html.parser')\n",
    "    return soup\n",
    "\n",
    "def transform(soup):\n",
    "    divs = soup.find_all('div', id_ = \"jobDescriptionText\")\n",
    "    deux = soup.findAll(\"div\", {\"id\": \"result\"})\n",
    "    print(deux)\n",
    "    return len(divs)\n",
    "\n",
    "    "
   ]
  },
  {
   "cell_type": "code",
   "execution_count": 83,
   "id": "dff7dea6-ab9d-4e7e-b846-24be77c589f1",
   "metadata": {},
   "outputs": [
    {
     "name": "stdout",
     "output_type": "stream",
     "text": [
      "[]\n",
      "0\n"
     ]
    }
   ],
   "source": [
    "c = extract(0, \"python\", \"developper\", \"Paris\")\n",
    "print(transform(c))"
   ]
  },
  {
   "cell_type": "code",
   "execution_count": 15,
   "id": "6e4624c1-38de-4919-9a28-83cb96e7b646",
   "metadata": {},
   "outputs": [
    {
     "ename": "AttributeError",
     "evalue": "'NoneType' object has no attribute 'find_all'",
     "output_type": "error",
     "traceback": [
      "\u001b[1;31m---------------------------------------------------------------------------\u001b[0m",
      "\u001b[1;31mAttributeError\u001b[0m                            Traceback (most recent call last)",
      "\u001b[1;32m~\\AppData\\Local\\Temp\\ipykernel_32904\\3550411700.py\u001b[0m in \u001b[0;36m<module>\u001b[1;34m\u001b[0m\n\u001b[0;32m      2\u001b[0m \u001b[0mheaders\u001b[0m \u001b[1;33m=\u001b[0m \u001b[1;33m{\u001b[0m\u001b[1;34m'User-Agent'\u001b[0m\u001b[1;33m:\u001b[0m\u001b[1;34m'Mozilla/5.0 (Windows NT 10.0; Win64; x64) AppleWebKit/537.36 (KHTML, like Gecko) Chrome/106.0.0.0 Safari/537.36'\u001b[0m\u001b[1;33m}\u001b[0m\u001b[1;33m\u001b[0m\u001b[1;33m\u001b[0m\u001b[0m\n\u001b[0;32m      3\u001b[0m \u001b[0msoup\u001b[0m \u001b[1;33m=\u001b[0m \u001b[0mBeautifulSoup\u001b[0m\u001b[1;33m(\u001b[0m\u001b[0mrequests\u001b[0m\u001b[1;33m.\u001b[0m\u001b[0mget\u001b[0m\u001b[1;33m(\u001b[0m\u001b[0murl\u001b[0m\u001b[1;33m,\u001b[0m \u001b[0mheaders\u001b[0m\u001b[1;33m=\u001b[0m\u001b[0mheaders\u001b[0m\u001b[1;33m)\u001b[0m\u001b[1;33m.\u001b[0m\u001b[0mcontent\u001b[0m\u001b[1;33m,\u001b[0m \u001b[1;34m\"html.parser\"\u001b[0m\u001b[1;33m)\u001b[0m\u001b[1;33m\u001b[0m\u001b[1;33m\u001b[0m\u001b[0m\n\u001b[1;32m----> 4\u001b[1;33m \u001b[0mLinks\u001b[0m \u001b[1;33m=\u001b[0m \u001b[0msoup\u001b[0m\u001b[1;33m.\u001b[0m\u001b[0mfind\u001b[0m\u001b[1;33m(\u001b[0m\u001b[1;34m\"div\"\u001b[0m\u001b[1;33m,\u001b[0m \u001b[1;34m\"body\"\u001b[0m\u001b[1;33m)\u001b[0m\u001b[1;33m.\u001b[0m\u001b[0mfind_all\u001b[0m\u001b[1;33m(\u001b[0m\u001b[1;34m'a'\u001b[0m\u001b[1;33m)\u001b[0m\u001b[1;33m\u001b[0m\u001b[1;33m\u001b[0m\u001b[0m\n\u001b[0m\u001b[0;32m      5\u001b[0m \u001b[1;33m\u001b[0m\u001b[0m\n\u001b[0;32m      6\u001b[0m \u001b[1;33m\u001b[0m\u001b[0m\n",
      "\u001b[1;31mAttributeError\u001b[0m: 'NoneType' object has no attribute 'find_all'"
     ]
    }
   ],
   "source": [
    "url = \"https://www.google.com/search?q=google+jobs&rlz=1C1CHBD_frFR1026FR1026&oq=google+job&aqs=chrome.0.0i131i433i512j69i57j0i512j0i20i263i512j0i512j69i60l3.6383j0j7&sourceid=chrome&ie=UTF-8&ibp=htl;jobs&sa=X&ved=2ahUKEwiq6O_H2ID7AhXIz4UKHXtRAnwQudcGKAJ6BAgIEBQ&sxsrf=ALiCzsbsNigE1Z2tEPGcyCZUcyo9uM0wjA:1666883400763#htivrt=jobs&htidocid=ew-c2W-OEMYAAAAAAAAAAA%3D%3D&fpstate=tldetail\"\n",
    "headers = {'User-Agent':'Mozilla/5.0 (Windows NT 10.0; Win64; x64) AppleWebKit/537.36 (KHTML, like Gecko) Chrome/106.0.0.0 Safari/537.36'}\n",
    "soup = BeautifulSoup(requests.get(url, headers=headers).content, \"html.parser\")\n",
    "Links = soup.find(\"div\", \"body\").find_all('a')\n",
    "\n",
    "\n",
    "Page= [tag['href'] for tag in Links]\n",
    "for pageid in range(0,2):\n",
    "    pageid=10*pageid\n",
    "    website=f'https://in.indeed.com//jobs?q=software+engineer&l=Kerala&sort=date&start={pageid}'\n",
    "    soup = BeautifulSoup(requests.get(website, headers=headers).content, \"html.parser\")\n",
    "    SubLinks = soup.find(\"div\", \"body\").find_all('a')\n",
    "    Page=list(set(Page+ [tag['href'] for tag in SubLinks]))\n",
    "\n",
    "    for job in soup.select('a[id^=\"job_\"]'):\n",
    "        job_id = job[\"id\"].split(\"_\")[-1]\n",
    "        #s = BeautifulSoup(requests.get(api_url.format(job_id=job_id), headers=headers).content,\"html.parser\",)\n",
    "    data=[]\n",
    "    Company_Name=[]\n",
    "    Location=[]\n",
    "    Job_Description=[]\n",
    "    for div_block in soup.find_all('span', class_=['companyName',],style=None):\n",
    "        Company_Name.append([line.strip() for line in div_block.stripped_strings])\n",
    "    for div_block in soup.find_all('div', class_=['companyLocation'],style=None):\n",
    "        Location.append([line.strip() for line in div_block.stripped_strings])\n",
    "    for div_block in soup.find_all('div',class_=['jobsearch-JobComponent-description icl-u-xs-mt--md'],style=None):\n",
    "        Job_Description.append([line.strip() for line in div_block.stripped_strings])"
   ]
  },
  {
   "cell_type": "code",
   "execution_count": 81,
   "id": "0b7c8a18-d2e8-45a2-ab80-00bf232d2d3b",
   "metadata": {},
   "outputs": [],
   "source": [
    "def extract(page, job):\n",
    "    headers = headers\n",
    "    url = f'https://www.indeed.com/jobs?q={job}&start={page}&vjk=e8bcf3fbe7498a5f'\n",
    "    r = requests.get(url,headers)\n",
    "    soup = BeautifulSoup(r.content, 'html.parser')\n",
    "    return soup"
   ]
  },
  {
   "cell_type": "code",
   "execution_count": 87,
   "id": "3f589370-30dd-46a3-91b1-629afb3c8fa6",
   "metadata": {},
   "outputs": [],
   "source": [
    "for job in c.select('.result'):\n",
    "        title = job.select_one('.jobTitle').get_text(' ')\n",
    "        company = job.find(class_='companyName').text\n",
    "        id1 = job.get('id')"
   ]
  },
  {
   "cell_type": "code",
   "execution_count": 89,
   "id": "fb1e65a0-daf8-4d20-a271-970adc4c0f02",
   "metadata": {},
   "outputs": [
    {
     "ename": "NameError",
     "evalue": "name 'job' is not defined",
     "output_type": "error",
     "traceback": [
      "\u001b[1;31m---------------------------------------------------------------------------\u001b[0m",
      "\u001b[1;31mNameError\u001b[0m                                 Traceback (most recent call last)",
      "\u001b[1;32m~\\AppData\\Local\\Temp\\ipykernel_11208\\4162592046.py\u001b[0m in \u001b[0;36m<module>\u001b[1;34m\u001b[0m\n\u001b[1;32m----> 1\u001b[1;33m \u001b[0mjob\u001b[0m\u001b[1;33m.\u001b[0m\u001b[0mselect_one\u001b[0m\u001b[1;33m(\u001b[0m\u001b[1;34m'.jobTitle'\u001b[0m\u001b[1;33m)\u001b[0m\u001b[1;33m\u001b[0m\u001b[1;33m\u001b[0m\u001b[0m\n\u001b[0m",
      "\u001b[1;31mNameError\u001b[0m: name 'job' is not defined"
     ]
    }
   ],
   "source": [
    "job.select_one('.jobTitle')"
   ]
  },
  {
   "cell_type": "code",
   "execution_count": 90,
   "id": "c6f83333-4718-42a3-8e4e-aec12b8e57d1",
   "metadata": {},
   "outputs": [
    {
     "data": {
      "text/plain": [
       "<!DOCTYPE html>\n",
       "<html lang=\"en-US\">\n",
       "<head>\n",
       "<title>Just a moment...</title>\n",
       "<meta content=\"text/html; charset=utf-8\" http-equiv=\"Content-Type\"/>\n",
       "<meta content=\"IE=Edge\" http-equiv=\"X-UA-Compatible\"/>\n",
       "<meta content=\"noindex,nofollow\" name=\"robots\"/>\n",
       "<meta content=\"width=device-width,initial-scale=1\" name=\"viewport\"/>\n",
       "<link href=\"/cdn-cgi/styles/challenges.css\" rel=\"stylesheet\"/>\n",
       "</head>\n",
       "<body class=\"no-js\">\n",
       "<div class=\"main-wrapper\" role=\"main\">\n",
       "<div class=\"main-content\">\n",
       "<h1 class=\"zone-name-title h1\">\n",
       "<img class=\"heading-favicon\" onerror=\"this.onerror=null;this.parentNode.removeChild(this)\" src=\"/favicon.ico\"/>\n",
       "            fr.indeed.com\n",
       "        </h1>\n",
       "<h2 class=\"h2\" id=\"challenge-running\">\n",
       "            Checking if the site connection is secure\n",
       "        </h2>\n",
       "<noscript>\n",
       "<div id=\"challenge-error-title\">\n",
       "<div class=\"h2\">\n",
       "<span class=\"icon-wrapper\">\n",
       "<div class=\"heading-icon warning-icon\"></div>\n",
       "</span>\n",
       "<span id=\"challenge-error-text\">\n",
       "                        Enable JavaScript and cookies to continue\n",
       "                    </span>\n",
       "</div>\n",
       "</div>\n",
       "</noscript>\n",
       "<div id=\"trk_jschal_js\" style=\"display:none;background-image:url('/cdn-cgi/images/trace/managed/nojs/transparent.gif?ray=760c159b3b1ad712')\"></div>\n",
       "<div class=\"core-msg spacer\" id=\"challenge-body-text\">\n",
       "            fr.indeed.com needs to review the security of your connection before proceeding.\n",
       "        </div>\n",
       "<form action=\"/jobs?q=python+developper&amp;l=Paris%2C&amp;start=0&amp;__cf_chl_f_tk=Si3MjD.BO1yk9Nybgzy2zTxoPmMD.j1TgIR017kYOgw-1666880552-0-gaNycGzNB6U\" enctype=\"application/x-www-form-urlencoded\" id=\"challenge-form\" method=\"POST\">\n",
       "<input name=\"md\" type=\"hidden\" value=\"jIMv05eyTixT_Gi7Cqy.gKnePS_BptQespp7amx1PzI-1666880552-0-AZKmaOSE1jrCu1ZvNCg21P1IscegZ4t0nPfzM1NiG53ruPxW1xXhLUhhjDhJ1kRkoTTvaDTICR26AuI0S33MrRblsknQlX1VLwpCJzWjpJ9vrhhlAYxhNkLg_OgHp88trqexHSTqu1fpc84RGylALyT4nGUHFgrKy_yo2mLX0L-lj4iRcIQmIpGeAzOQMIYSXzAuar907WvVKFItM-Tr6HLIeexLrfA8qjUOBAIG3OOYtL_FgbjFMLuaLA04pu5F5XH9Fa2W2WqLOtHQViwHUkrtc9SSyDdwSTvqcUWQ8Y4HjHPehWK_xexf320u-HX-Qa_usvmI4oGuZ9xayFqSa8hSXrc3gl5CJ6j21_CjGx-95j0V8d8Ls0OzjzlXmwqZCGIr3BqOQa2Xj4sVc2_3Me-V7vEHDaNziZ9fJztrQ3gB7UBPdvXFsZnQrulxhmbtARrE_pxjI7nQVsbPcC4DT0yVnJEW-GDKft6gVJBow3zTE-0rCTAgo9Xes7kn5Jn4X02nj2nIr6jzEmf57xe6YVSrdr4RJLjJl0EWbgaj98vNU1J0AIbx6hA1TEbw3dDhGuIoZcv9k2CaKDlAbc3whxmCe96bsfqxAMnBWTrB4HjiHoLgwDJCSZlQMe_2ykNAoy_m6lJnS8o0pjUBFyeaSNW3yT6AB80rFZ4bK7YYba4F9dQmarP9atp3J-M9qXYQezJR5dfJSZX7gcaA5MLPDIjj4Ghtyh8YCBGMiO7VLVC9viHSdKrFizRZClngSjLyxA\"/>\n",
       "<input name=\"r\" type=\"hidden\" value=\".Yqhdzt0jm9WuuuyQ3_X0l32t7SEy_nYF6rTu1LEoqk-1666880552-0-AdiRj29dWDLqrB1qTPr5GtTCnI8UDvAr1dwSO3tE9U3hQM9VZo6KkBxp5xtUsXeIE088aFgBSwQ8tE+0OoQXLliGecTpXH8sRW3HTGrajO7rNd0hEOV2SH32kCyVvE5YbNrRXamo2qJcXTcHWUEp/3wyoAyHOQ5BnOvPmi/8NIcm9Telc6OO3cg5GUkGvanWW9FAwpvyHj/cdIvjNHuuqA2B8334CnRlhUaL30eEds299NBviKIKJVJ50tmSOSgJkmtVn/YwBe1IsSfGNyx55YkfZxJOtG3EsgBmfH9ld8T87PejF5Idr4fZXis4M2rFan+yXsHDSj76EKC3EvPTb2UPfesUxOMdUpYE9eAzBqvKtYTsDERgY4PJMN4QYlvRo0kI8MZQKi/B74NW4naX8flZBFMR2sxPxd37XYb0nZUZsl3eb2R3urtWsxOByZoCTngR+eOTvV33BhahQyqJD+/uL6rJctQtHsMAZtwQNmF3vn4/La6YHs/K/yeuEs3TQm51LjxmQ6OEXkmGsDUxk4CUZy5aR8iIMUD6XVD4V/LtS1p6cYowDdd3mgQYhbXH/nV+/L/mVwvx/aMR3D0JS5BxPrSEHM1QyglQxAf9mpgOQuCzjNpgMLMExeIANKgqlKRY/dcPNmnANVaWNbEnngVwfmfmhOBESxhwrtMRwqIkk7T+LWq4w+sAX5Qv0ZY1DH59cz398jy17fZclBFmGx7L909oqpASQnPLw2YoC3lHSDs7swB9SK0iZq1YtjTzGhYJh6vVBpDs/dJVNedu6jUll3Bxauyi9OFcU/SQR3y1gx5M4DMBRKYxCr8A0Tl1N09cOJfk8JZzsiX3wyA0qq5eNb+1kWUl5BCWxDP+cNMwfcOQOR1MiMDqcBHS8ewLKVVfXQxe/jMcUrMHaw1gwKhsb1eGsSXoBV0Bo1LHPUqV0HEj3wOzEtTxdP9lz80QKNgcK7SBU7GEzw/AHtZtDssMfukw7dyi8Kl3so69jquJ0vOLnoUfXGw6y2QJJP6FtosYbZVG85GCk8mLAJAzy474RT6kJCMXLIf9/o65n1FXLFqzhwcH1Kby/6Hs5gEJVJVN/649FnAseSBbjxcdPCNl0pCtnqSlWqrRPdi6QlsWlygdiQu5jKQQDQ5e+b4Eia0mqxV0nL/rAcuu71FQ1EOixGRZ+7vuVmYVNWI7zq+krtiA4QSgpXImsSAEJaXMIa/cA07kh8N26FprF265FEdvTHs/634iMDSM04KbZq0dn7e2us9/lhiYLfMjsvu0hXiIq1G0S6JT3FatnUCw8ICXhgvOXqfE5+nDNMtaTKnRn0utxvPbf/VWaORogChThoUHra0hrtO6iJxj7MyQLJcHQtfNDpRAsemptTaOM/OE40dcNlG2+ksK++jmYgjRLI/SC0JnAFp9tIkaO8yzRYZ9INHnBRsmnqP12NgOWgoLD6NiiObnVvp6sGD2UdoF4gIGFWtayGGynz0Tpphc5AoVXv8uSR5bVwdtG8Cgmq0PSecpuFFRKZ9lxsiM/otFrFUErOuXVY38u3M3Tzvvd4ROWOW2ZhT3Fw4+Kvs1CVvk83ER+MmZ8Uz73J80APB9btqIKCajxruytyPhhmpkBXQnnCXwXxxezI59cmp6fBkRmxA2xMGaGp8HY69tmaFSslsio0Dq3Md9qyGQ23Gzg29SxbWehWCUx/hz11wnFhGBpUV2/JcI8Jlj97PBqbpROtwy0vHJ0ag0ddjy3wjiWd0vNQ53wgE7h1RJXXszbZpb80kKNh5ztPwfLJCzEDLJV1b7hNUJ8rIpnSzHxO93rnF/dzs9NDKnIx9ImWzpV48MueZ1kCHK+/uh7qogSrwVHrKwqsdP7eJxzcI9u/G8gv9dbyezdGtH2yknWY9YUemt\"/>\n",
       "</form>\n",
       "</div>\n",
       "</div>\n",
       "<script>\n",
       "    (function(){\n",
       "        window._cf_chl_opt={\n",
       "            cvId: '2',\n",
       "            cType: 'managed',\n",
       "            cNounce: '91816',\n",
       "            cRay: '760c159b3b1ad712',\n",
       "            cHash: '4dc596ba412be12',\n",
       "            cUPMDTk: \"\\/jobs?q=python+developper&l=Paris%2C&start=0&__cf_chl_tk=Si3MjD.BO1yk9Nybgzy2zTxoPmMD.j1TgIR017kYOgw-1666880552-0-gaNycGzNB6U\",\n",
       "            cFPWv: 'g',\n",
       "            cTTimeMs: '1000',\n",
       "            cTplV: 4,\n",
       "            cTplB: 'cf',\n",
       "            cRq: {\n",
       "                ru: 'aHR0cHM6Ly9mci5pbmRlZWQuY29tL2pvYnM/cT1weXRob24rZGV2ZWxvcHBlciZsPVBhcmlzJTJDJnN0YXJ0PTA=',\n",
       "                ra: 'TW96aWxsYS81LjAgKFdpbmRvd3MgTlQgMTAuMDsgV2luNjQ7IHg2NCkgQXBwbGVXZWJLaXQvNTM3LjM2IChLSFRNTCwgbGlrZSBHZWNrbykgQ2hyb21lLzEwNi4wLjAuMCBTYWZhcmkvNTM3LjM2',\n",
       "                rm: 'R0VU',\n",
       "                d: '6alLn7ztFq+DkjfVNX6o9afn947zjH2dhBmnFICeXw5hIgswIjgwnWxAbe/61BVGmqh+V0V7k76lcRUSrtgmQvFPp+m63hEJa1+I6W4oPZOnEPgFbgaN/xJtva/r+JnI5mRlNMphB9nkKVZqPMMMlaZaAjaTWjBxSq/f3uMxGcPPMZMs2n4U3rdxSI9FAqH8B5ORpf6omciQJNcIxKHdzwfHVGZCx1Ooi0wrUkblohA9HVRDEtkE8lQ041g92bIHX3rGvbzrKvB8sQMxG537XsJ9xYUlp8vXIkLmJWMkzAf4NXudpDM2rKu4BhWvtLKrsbb2pvGEkKY1fA2Ba+QjtA6dK9+Ozm82Fsa3ibZe7VbKhMuXiCU7gUbwboz9vN0Es+AOqLNMZTQTSiblrr1JGp1lhc7JBMSKM/4GlK1/AL1fKOavX4s1UbPO0wQT2TSDms3zNrBv7D0H47i4ZZWslvxcz0xk4e7qqCCRX/62hc5PAE8fQQLbj9xns+yuWG2bcslK52olOGh15YtmadQW5DlzEI1wbnK2aQp2Jl8FIXs/PCwDIf3OETkhTfMjuJoNGokd7XcirYIe8O/IrCtHYzQg3rxT4J2m9ydoGFifk8eyfteKsaZk1I9xpLN6gb4Np8AYEy0Q361uShtl3txS6A==',\n",
       "                t: 'MTY2Njg4MDU1Mi4yMDcwMDA=',\n",
       "                m: 'SqoSg1w/z8KzUQ06Iz3/FiNHzKSn27L0fLSP2bpmQkk=',\n",
       "                i1: 'cjC+A8P3eFWWpzjfjDnsSA==',\n",
       "                i2: 'ty+Ga/fAc7cr6N7Z/E6Rpw==',\n",
       "                zh: '2kfjrLYfAVNem19Lin3oP+VKo7ladb55se1eVtiLLnQ=',\n",
       "                uh: 'HZL1KRhXOQOkEniYBm1JExUUTMI8JHb4+DBxUC9Snyk=',\n",
       "                hh: 'gLgMmhX/kJItEDPAzFqOlZjzCLQDUQA5c3ByqchULdk=',\n",
       "            }\n",
       "        };\n",
       "        var trkjs = document.createElement('img');\n",
       "        trkjs.setAttribute('src', '/cdn-cgi/images/trace/managed/js/transparent.gif?ray=760c159b3b1ad712');\n",
       "        trkjs.setAttribute('style', 'display: none');\n",
       "        document.body.appendChild(trkjs);\n",
       "        var cpo = document.createElement('script');\n",
       "        cpo.src = '/cdn-cgi/challenge-platform/h/g/orchestrate/managed/v1?ray=760c159b3b1ad712';\n",
       "        window._cf_chl_opt.cOgUHash = location.hash === '' && location.href.indexOf('#') !== -1 ? '#' : location.hash;\n",
       "        window._cf_chl_opt.cOgUQuery = location.search === '' && location.href.slice(0, -window._cf_chl_opt.cOgUHash.length).indexOf('?') !== -1 ? '?' : location.search;\n",
       "        if (window.history && window.history.replaceState) {\n",
       "            var ogU = location.pathname + window._cf_chl_opt.cOgUQuery + window._cf_chl_opt.cOgUHash;\n",
       "            history.replaceState(null, null, \"\\/jobs?q=python+developper&l=Paris%2C&start=0&__cf_chl_rt_tk=Si3MjD.BO1yk9Nybgzy2zTxoPmMD.j1TgIR017kYOgw-1666880552-0-gaNycGzNB6U\" + window._cf_chl_opt.cOgUHash);\n",
       "            cpo.onload = function() {\n",
       "                history.replaceState(null, null, ogU);\n",
       "            };\n",
       "        }\n",
       "        document.getElementsByTagName('head')[0].appendChild(cpo);\n",
       "    }());\n",
       "</script>\n",
       "<div class=\"footer\" role=\"contentinfo\">\n",
       "<div class=\"footer-inner\">\n",
       "<div class=\"clearfix diagnostic-wrapper\">\n",
       "<div class=\"ray-id\">Ray ID: <code>760c159b3b1ad712</code></div>\n",
       "</div>\n",
       "<div class=\"text-center\">Performance &amp; security by <a href=\"https://www.cloudflare.com?utm_source=challenge&amp;utm_campaign=m\" rel=\"noopener noreferrer\" target=\"_blank\">Cloudflare</a></div>\n",
       "</div>\n",
       "</div>\n",
       "</body>\n",
       "</html>"
      ]
     },
     "execution_count": 90,
     "metadata": {},
     "output_type": "execute_result"
    }
   ],
   "source": [
    "c"
   ]
  },
  {
   "cell_type": "code",
   "execution_count": 6,
   "id": "e8ed034f-200a-413d-af68-457d13a8daa8",
   "metadata": {},
   "outputs": [],
   "source": [
    "import time, json\n",
    "from selenium import webdriver\n",
    "from selenium.webdriver.chrome.service import Service\n",
    "from webdriver_manager.chrome import ChromeDriverManager\n",
    "from parsel import Selector\n"
   ]
  },
  {
   "cell_type": "code",
   "execution_count": null,
   "id": "4bea3b46-1d7c-4575-a489-2926b43dd9f8",
   "metadata": {},
   "outputs": [],
   "source": [
    "driver = webdriver.Chrome(executable_path=\"C:\\Program Files\\Google\\Chrome\\Application\\chrome.exe\")"
   ]
  },
  {
   "cell_type": "code",
   "execution_count": 17,
   "id": "7bd50bf5-836f-4ddb-bf2f-e227b1080813",
   "metadata": {},
   "outputs": [
    {
     "ename": "WebDriverException",
     "evalue": "Message: 'geckodriver' executable needs to be in PATH. \n",
     "output_type": "error",
     "traceback": [
      "\u001b[1;31m---------------------------------------------------------------------------\u001b[0m",
      "\u001b[1;31mFileNotFoundError\u001b[0m                         Traceback (most recent call last)",
      "\u001b[1;32mc:\\users\\projet\\project_2\\.env\\lib\\site-packages\\selenium\\webdriver\\common\\service.py\u001b[0m in \u001b[0;36mstart\u001b[1;34m(self)\u001b[0m\n\u001b[0;32m     75\u001b[0m                                             \u001b[0mstdin\u001b[0m\u001b[1;33m=\u001b[0m\u001b[0mPIPE\u001b[0m\u001b[1;33m,\u001b[0m\u001b[1;33m\u001b[0m\u001b[1;33m\u001b[0m\u001b[0m\n\u001b[1;32m---> 76\u001b[1;33m                                             creationflags=self.creationflags)\n\u001b[0m\u001b[0;32m     77\u001b[0m         \u001b[1;32mexcept\u001b[0m \u001b[0mTypeError\u001b[0m\u001b[1;33m:\u001b[0m\u001b[1;33m\u001b[0m\u001b[1;33m\u001b[0m\u001b[0m\n",
      "\u001b[1;32m~\\AppData\\Local\\Programs\\Python\\Python37\\lib\\subprocess.py\u001b[0m in \u001b[0;36m__init__\u001b[1;34m(self, args, bufsize, executable, stdin, stdout, stderr, preexec_fn, close_fds, shell, cwd, env, universal_newlines, startupinfo, creationflags, restore_signals, start_new_session, pass_fds, encoding, errors, text)\u001b[0m\n\u001b[0;32m    799\u001b[0m                                 \u001b[0merrread\u001b[0m\u001b[1;33m,\u001b[0m \u001b[0merrwrite\u001b[0m\u001b[1;33m,\u001b[0m\u001b[1;33m\u001b[0m\u001b[1;33m\u001b[0m\u001b[0m\n\u001b[1;32m--> 800\u001b[1;33m                                 restore_signals, start_new_session)\n\u001b[0m\u001b[0;32m    801\u001b[0m         \u001b[1;32mexcept\u001b[0m\u001b[1;33m:\u001b[0m\u001b[1;33m\u001b[0m\u001b[1;33m\u001b[0m\u001b[0m\n",
      "\u001b[1;32m~\\AppData\\Local\\Programs\\Python\\Python37\\lib\\subprocess.py\u001b[0m in \u001b[0;36m_execute_child\u001b[1;34m(self, args, executable, preexec_fn, close_fds, pass_fds, cwd, env, startupinfo, creationflags, shell, p2cread, p2cwrite, c2pread, c2pwrite, errread, errwrite, unused_restore_signals, unused_start_new_session)\u001b[0m\n\u001b[0;32m   1206\u001b[0m                                          \u001b[0mos\u001b[0m\u001b[1;33m.\u001b[0m\u001b[0mfspath\u001b[0m\u001b[1;33m(\u001b[0m\u001b[0mcwd\u001b[0m\u001b[1;33m)\u001b[0m \u001b[1;32mif\u001b[0m \u001b[0mcwd\u001b[0m \u001b[1;32mis\u001b[0m \u001b[1;32mnot\u001b[0m \u001b[1;32mNone\u001b[0m \u001b[1;32melse\u001b[0m \u001b[1;32mNone\u001b[0m\u001b[1;33m,\u001b[0m\u001b[1;33m\u001b[0m\u001b[1;33m\u001b[0m\u001b[0m\n\u001b[1;32m-> 1207\u001b[1;33m                                          startupinfo)\n\u001b[0m\u001b[0;32m   1208\u001b[0m             \u001b[1;32mfinally\u001b[0m\u001b[1;33m:\u001b[0m\u001b[1;33m\u001b[0m\u001b[1;33m\u001b[0m\u001b[0m\n",
      "\u001b[1;31mFileNotFoundError\u001b[0m: [WinError 2] Le fichier spécifié est introuvable",
      "\nDuring handling of the above exception, another exception occurred:\n",
      "\u001b[1;31mWebDriverException\u001b[0m                        Traceback (most recent call last)",
      "\u001b[1;32m~\\AppData\\Local\\Temp\\ipykernel_32904\\4090708740.py\u001b[0m in \u001b[0;36m<module>\u001b[1;34m\u001b[0m\n\u001b[0;32m      1\u001b[0m \u001b[1;32mfrom\u001b[0m \u001b[0mselenium\u001b[0m \u001b[1;32mimport\u001b[0m \u001b[0mwebdriver\u001b[0m\u001b[1;33m\u001b[0m\u001b[1;33m\u001b[0m\u001b[0m\n\u001b[1;32m----> 2\u001b[1;33m \u001b[0mdriver\u001b[0m \u001b[1;33m=\u001b[0m \u001b[0mwebdriver\u001b[0m\u001b[1;33m.\u001b[0m\u001b[0mFirefox\u001b[0m\u001b[1;33m(\u001b[0m\u001b[1;33m)\u001b[0m\u001b[1;33m\u001b[0m\u001b[1;33m\u001b[0m\u001b[0m\n\u001b[0m\u001b[0;32m      3\u001b[0m \u001b[0mdriver\u001b[0m\u001b[1;33m.\u001b[0m\u001b[0mget\u001b[0m\u001b[1;33m(\u001b[0m\u001b[1;34m\"https://stackoverflow.com/questions/34256762/error-could-not-find-a-version-that-satisfies-the-requirement-webdriver-from\"\u001b[0m\u001b[1;33m)\u001b[0m\u001b[1;33m\u001b[0m\u001b[1;33m\u001b[0m\u001b[0m\n",
      "\u001b[1;32mc:\\users\\projet\\project_2\\.env\\lib\\site-packages\\selenium\\webdriver\\firefox\\webdriver.py\u001b[0m in \u001b[0;36m__init__\u001b[1;34m(self, firefox_profile, firefox_binary, capabilities, proxy, executable_path, options, service_log_path, service_args, service, desired_capabilities, log_path, keep_alive)\u001b[0m\n\u001b[0;32m    170\u001b[0m                 \u001b[0mservice_args\u001b[0m\u001b[1;33m=\u001b[0m\u001b[0mservice_args\u001b[0m\u001b[1;33m,\u001b[0m\u001b[1;33m\u001b[0m\u001b[1;33m\u001b[0m\u001b[0m\n\u001b[0;32m    171\u001b[0m                 log_path=service_log_path)\n\u001b[1;32m--> 172\u001b[1;33m         \u001b[0mself\u001b[0m\u001b[1;33m.\u001b[0m\u001b[0mservice\u001b[0m\u001b[1;33m.\u001b[0m\u001b[0mstart\u001b[0m\u001b[1;33m(\u001b[0m\u001b[1;33m)\u001b[0m\u001b[1;33m\u001b[0m\u001b[1;33m\u001b[0m\u001b[0m\n\u001b[0m\u001b[0;32m    173\u001b[0m \u001b[1;33m\u001b[0m\u001b[0m\n\u001b[0;32m    174\u001b[0m         executor = FirefoxRemoteConnection(\n",
      "\u001b[1;32mc:\\users\\projet\\project_2\\.env\\lib\\site-packages\\selenium\\webdriver\\common\\service.py\u001b[0m in \u001b[0;36mstart\u001b[1;34m(self)\u001b[0m\n\u001b[0;32m     81\u001b[0m                 raise WebDriverException(\n\u001b[0;32m     82\u001b[0m                     \"'{}' executable needs to be in PATH. {}\".format(\n\u001b[1;32m---> 83\u001b[1;33m                         os.path.basename(self.path), self.start_error_message)\n\u001b[0m\u001b[0;32m     84\u001b[0m                 )\n\u001b[0;32m     85\u001b[0m             \u001b[1;32melif\u001b[0m \u001b[0merr\u001b[0m\u001b[1;33m.\u001b[0m\u001b[0merrno\u001b[0m \u001b[1;33m==\u001b[0m \u001b[0merrno\u001b[0m\u001b[1;33m.\u001b[0m\u001b[0mEACCES\u001b[0m\u001b[1;33m:\u001b[0m\u001b[1;33m\u001b[0m\u001b[1;33m\u001b[0m\u001b[0m\n",
      "\u001b[1;31mWebDriverException\u001b[0m: Message: 'geckodriver' executable needs to be in PATH. \n"
     ]
    }
   ],
   "source": [
    "from selenium import webdriver\n",
    "driver = webdriver.Firefox()\n",
    "driver.get(\"https://stackoverflow.com/questions/34256762/error-could-not-find-a-version-that-satisfies-the-requirement-webdriver-from\")"
   ]
  },
  {
   "cell_type": "code",
   "execution_count": 20,
   "id": "eb4b5b28-7f02-4d45-9cb0-29bba97e7abe",
   "metadata": {},
   "outputs": [
    {
     "name": "stderr",
     "output_type": "stream",
     "text": [
      "c:\\users\\projet\\project_2\\.env\\lib\\site-packages\\ipykernel_launcher.py:1: DeprecationWarning: executable_path has been deprecated, please pass in a Service object\n",
      "  \"\"\"Entry point for launching an IPython kernel.\n"
     ]
    },
    {
     "ename": "KeyboardInterrupt",
     "evalue": "",
     "output_type": "error",
     "traceback": [
      "\u001b[1;31m---------------------------------------------------------------------------\u001b[0m",
      "\u001b[1;31mtimeout\u001b[0m                                   Traceback (most recent call last)",
      "\u001b[1;32m~\\AppData\\Local\\Programs\\Python\\Python37\\lib\\socket.py\u001b[0m in \u001b[0;36mcreate_connection\u001b[1;34m(address, timeout, source_address)\u001b[0m\n\u001b[0;32m    715\u001b[0m                 \u001b[0msock\u001b[0m\u001b[1;33m.\u001b[0m\u001b[0mbind\u001b[0m\u001b[1;33m(\u001b[0m\u001b[0msource_address\u001b[0m\u001b[1;33m)\u001b[0m\u001b[1;33m\u001b[0m\u001b[1;33m\u001b[0m\u001b[0m\n\u001b[1;32m--> 716\u001b[1;33m             \u001b[0msock\u001b[0m\u001b[1;33m.\u001b[0m\u001b[0mconnect\u001b[0m\u001b[1;33m(\u001b[0m\u001b[0msa\u001b[0m\u001b[1;33m)\u001b[0m\u001b[1;33m\u001b[0m\u001b[1;33m\u001b[0m\u001b[0m\n\u001b[0m\u001b[0;32m    717\u001b[0m             \u001b[1;31m# Break explicitly a reference cycle\u001b[0m\u001b[1;33m\u001b[0m\u001b[1;33m\u001b[0m\u001b[1;33m\u001b[0m\u001b[0m\n",
      "\u001b[1;31mtimeout\u001b[0m: timed out",
      "\nDuring handling of the above exception, another exception occurred:\n",
      "\u001b[1;31mKeyboardInterrupt\u001b[0m                         Traceback (most recent call last)",
      "\u001b[1;32m~\\AppData\\Local\\Temp\\ipykernel_32904\\2827848855.py\u001b[0m in \u001b[0;36m<module>\u001b[1;34m\u001b[0m\n\u001b[1;32m----> 1\u001b[1;33m \u001b[0mdriver\u001b[0m \u001b[1;33m=\u001b[0m \u001b[0mwebdriver\u001b[0m\u001b[1;33m.\u001b[0m\u001b[0mChrome\u001b[0m\u001b[1;33m(\u001b[0m\u001b[0mexecutable_path\u001b[0m\u001b[1;33m=\u001b[0m\u001b[1;34m\"C:\\Program Files\\Google\\Chrome\\Application\\chrome.exe\"\u001b[0m\u001b[1;33m)\u001b[0m\u001b[1;33m\u001b[0m\u001b[1;33m\u001b[0m\u001b[0m\n\u001b[0m\u001b[0;32m      2\u001b[0m \u001b[0mdriver\u001b[0m\u001b[1;33m.\u001b[0m\u001b[0mget\u001b[0m\u001b[1;33m(\u001b[0m\u001b[1;34m\"'https://www.indeed.com/jobs?q=Data Scientist&start=0&vjk=e8bcf3fbe7498a5f'\"\u001b[0m\u001b[1;33m)\u001b[0m\u001b[1;33m\u001b[0m\u001b[1;33m\u001b[0m\u001b[0m\n\u001b[0;32m      3\u001b[0m \u001b[0mprint\u001b[0m\u001b[1;33m(\u001b[0m\u001b[0mdriver\u001b[0m\u001b[1;33m.\u001b[0m\u001b[0mpage_source\u001b[0m\u001b[1;33m)\u001b[0m\u001b[1;33m\u001b[0m\u001b[1;33m\u001b[0m\u001b[0m\n\u001b[0;32m      4\u001b[0m \u001b[0mdriver\u001b[0m\u001b[1;33m.\u001b[0m\u001b[0mquit\u001b[0m\u001b[1;33m(\u001b[0m\u001b[1;33m)\u001b[0m\u001b[1;33m\u001b[0m\u001b[1;33m\u001b[0m\u001b[0m\n",
      "\u001b[1;32mc:\\users\\projet\\project_2\\.env\\lib\\site-packages\\selenium\\webdriver\\chrome\\webdriver.py\u001b[0m in \u001b[0;36m__init__\u001b[1;34m(self, executable_path, port, options, service_args, desired_capabilities, service_log_path, chrome_options, service, keep_alive)\u001b[0m\n\u001b[0;32m     70\u001b[0m                          \u001b[0mport\u001b[0m\u001b[1;33m,\u001b[0m \u001b[0moptions\u001b[0m\u001b[1;33m,\u001b[0m\u001b[1;33m\u001b[0m\u001b[1;33m\u001b[0m\u001b[0m\n\u001b[0;32m     71\u001b[0m                          \u001b[0mservice_args\u001b[0m\u001b[1;33m,\u001b[0m \u001b[0mdesired_capabilities\u001b[0m\u001b[1;33m,\u001b[0m\u001b[1;33m\u001b[0m\u001b[1;33m\u001b[0m\u001b[0m\n\u001b[1;32m---> 72\u001b[1;33m                          service_log_path, service, keep_alive)\n\u001b[0m",
      "\u001b[1;32mc:\\users\\projet\\project_2\\.env\\lib\\site-packages\\selenium\\webdriver\\chromium\\webdriver.py\u001b[0m in \u001b[0;36m__init__\u001b[1;34m(self, browser_name, vendor_prefix, port, options, service_args, desired_capabilities, service_log_path, service, keep_alive)\u001b[0m\n\u001b[0;32m     87\u001b[0m \u001b[1;33m\u001b[0m\u001b[0m\n\u001b[0;32m     88\u001b[0m         \u001b[0mself\u001b[0m\u001b[1;33m.\u001b[0m\u001b[0mservice\u001b[0m \u001b[1;33m=\u001b[0m \u001b[0mservice\u001b[0m\u001b[1;33m\u001b[0m\u001b[1;33m\u001b[0m\u001b[0m\n\u001b[1;32m---> 89\u001b[1;33m         \u001b[0mself\u001b[0m\u001b[1;33m.\u001b[0m\u001b[0mservice\u001b[0m\u001b[1;33m.\u001b[0m\u001b[0mstart\u001b[0m\u001b[1;33m(\u001b[0m\u001b[1;33m)\u001b[0m\u001b[1;33m\u001b[0m\u001b[1;33m\u001b[0m\u001b[0m\n\u001b[0m\u001b[0;32m     90\u001b[0m \u001b[1;33m\u001b[0m\u001b[0m\n\u001b[0;32m     91\u001b[0m         \u001b[1;32mtry\u001b[0m\u001b[1;33m:\u001b[0m\u001b[1;33m\u001b[0m\u001b[1;33m\u001b[0m\u001b[0m\n",
      "\u001b[1;32mc:\\users\\projet\\project_2\\.env\\lib\\site-packages\\selenium\\webdriver\\common\\service.py\u001b[0m in \u001b[0;36mstart\u001b[1;34m(self)\u001b[0m\n\u001b[0;32m     97\u001b[0m         \u001b[1;32mwhile\u001b[0m \u001b[1;32mTrue\u001b[0m\u001b[1;33m:\u001b[0m\u001b[1;33m\u001b[0m\u001b[1;33m\u001b[0m\u001b[0m\n\u001b[0;32m     98\u001b[0m             \u001b[0mself\u001b[0m\u001b[1;33m.\u001b[0m\u001b[0massert_process_still_running\u001b[0m\u001b[1;33m(\u001b[0m\u001b[1;33m)\u001b[0m\u001b[1;33m\u001b[0m\u001b[1;33m\u001b[0m\u001b[0m\n\u001b[1;32m---> 99\u001b[1;33m             \u001b[1;32mif\u001b[0m \u001b[0mself\u001b[0m\u001b[1;33m.\u001b[0m\u001b[0mis_connectable\u001b[0m\u001b[1;33m(\u001b[0m\u001b[1;33m)\u001b[0m\u001b[1;33m:\u001b[0m\u001b[1;33m\u001b[0m\u001b[1;33m\u001b[0m\u001b[0m\n\u001b[0m\u001b[0;32m    100\u001b[0m                 \u001b[1;32mbreak\u001b[0m\u001b[1;33m\u001b[0m\u001b[1;33m\u001b[0m\u001b[0m\n\u001b[0;32m    101\u001b[0m \u001b[1;33m\u001b[0m\u001b[0m\n",
      "\u001b[1;32mc:\\users\\projet\\project_2\\.env\\lib\\site-packages\\selenium\\webdriver\\common\\service.py\u001b[0m in \u001b[0;36mis_connectable\u001b[1;34m(self)\u001b[0m\n\u001b[0;32m    114\u001b[0m \u001b[1;33m\u001b[0m\u001b[0m\n\u001b[0;32m    115\u001b[0m     \u001b[1;32mdef\u001b[0m \u001b[0mis_connectable\u001b[0m\u001b[1;33m(\u001b[0m\u001b[0mself\u001b[0m\u001b[1;33m)\u001b[0m\u001b[1;33m:\u001b[0m\u001b[1;33m\u001b[0m\u001b[1;33m\u001b[0m\u001b[0m\n\u001b[1;32m--> 116\u001b[1;33m         \u001b[1;32mreturn\u001b[0m \u001b[0mutils\u001b[0m\u001b[1;33m.\u001b[0m\u001b[0mis_connectable\u001b[0m\u001b[1;33m(\u001b[0m\u001b[0mself\u001b[0m\u001b[1;33m.\u001b[0m\u001b[0mport\u001b[0m\u001b[1;33m)\u001b[0m\u001b[1;33m\u001b[0m\u001b[1;33m\u001b[0m\u001b[0m\n\u001b[0m\u001b[0;32m    117\u001b[0m \u001b[1;33m\u001b[0m\u001b[0m\n\u001b[0;32m    118\u001b[0m     \u001b[1;32mdef\u001b[0m \u001b[0msend_remote_shutdown_command\u001b[0m\u001b[1;33m(\u001b[0m\u001b[0mself\u001b[0m\u001b[1;33m)\u001b[0m\u001b[1;33m:\u001b[0m\u001b[1;33m\u001b[0m\u001b[1;33m\u001b[0m\u001b[0m\n",
      "\u001b[1;32mc:\\users\\projet\\project_2\\.env\\lib\\site-packages\\selenium\\webdriver\\common\\utils.py\u001b[0m in \u001b[0;36mis_connectable\u001b[1;34m(port, host)\u001b[0m\n\u001b[0;32m    105\u001b[0m     \u001b[0msocket_\u001b[0m \u001b[1;33m=\u001b[0m \u001b[1;32mNone\u001b[0m\u001b[1;33m\u001b[0m\u001b[1;33m\u001b[0m\u001b[0m\n\u001b[0;32m    106\u001b[0m     \u001b[1;32mtry\u001b[0m\u001b[1;33m:\u001b[0m\u001b[1;33m\u001b[0m\u001b[1;33m\u001b[0m\u001b[0m\n\u001b[1;32m--> 107\u001b[1;33m         \u001b[0msocket_\u001b[0m \u001b[1;33m=\u001b[0m \u001b[0msocket\u001b[0m\u001b[1;33m.\u001b[0m\u001b[0mcreate_connection\u001b[0m\u001b[1;33m(\u001b[0m\u001b[1;33m(\u001b[0m\u001b[0mhost\u001b[0m\u001b[1;33m,\u001b[0m \u001b[0mport\u001b[0m\u001b[1;33m)\u001b[0m\u001b[1;33m,\u001b[0m \u001b[1;36m1\u001b[0m\u001b[1;33m)\u001b[0m\u001b[1;33m\u001b[0m\u001b[1;33m\u001b[0m\u001b[0m\n\u001b[0m\u001b[0;32m    108\u001b[0m         \u001b[0mresult\u001b[0m \u001b[1;33m=\u001b[0m \u001b[1;32mTrue\u001b[0m\u001b[1;33m\u001b[0m\u001b[1;33m\u001b[0m\u001b[0m\n\u001b[0;32m    109\u001b[0m     \u001b[1;32mexcept\u001b[0m \u001b[0m_is_connectable_exceptions\u001b[0m\u001b[1;33m:\u001b[0m\u001b[1;33m\u001b[0m\u001b[1;33m\u001b[0m\u001b[0m\n",
      "\u001b[1;32m~\\AppData\\Local\\Programs\\Python\\Python37\\lib\\socket.py\u001b[0m in \u001b[0;36mcreate_connection\u001b[1;34m(address, timeout, source_address)\u001b[0m\n\u001b[0;32m    714\u001b[0m             \u001b[1;32mif\u001b[0m \u001b[0msource_address\u001b[0m\u001b[1;33m:\u001b[0m\u001b[1;33m\u001b[0m\u001b[1;33m\u001b[0m\u001b[0m\n\u001b[0;32m    715\u001b[0m                 \u001b[0msock\u001b[0m\u001b[1;33m.\u001b[0m\u001b[0mbind\u001b[0m\u001b[1;33m(\u001b[0m\u001b[0msource_address\u001b[0m\u001b[1;33m)\u001b[0m\u001b[1;33m\u001b[0m\u001b[1;33m\u001b[0m\u001b[0m\n\u001b[1;32m--> 716\u001b[1;33m             \u001b[0msock\u001b[0m\u001b[1;33m.\u001b[0m\u001b[0mconnect\u001b[0m\u001b[1;33m(\u001b[0m\u001b[0msa\u001b[0m\u001b[1;33m)\u001b[0m\u001b[1;33m\u001b[0m\u001b[1;33m\u001b[0m\u001b[0m\n\u001b[0m\u001b[0;32m    717\u001b[0m             \u001b[1;31m# Break explicitly a reference cycle\u001b[0m\u001b[1;33m\u001b[0m\u001b[1;33m\u001b[0m\u001b[1;33m\u001b[0m\u001b[0m\n\u001b[0;32m    718\u001b[0m             \u001b[0merr\u001b[0m \u001b[1;33m=\u001b[0m \u001b[1;32mNone\u001b[0m\u001b[1;33m\u001b[0m\u001b[1;33m\u001b[0m\u001b[0m\n",
      "\u001b[1;31mKeyboardInterrupt\u001b[0m: "
     ]
    }
   ],
   "source": [
    "\n"
   ]
  },
  {
   "cell_type": "code",
   "execution_count": null,
   "id": "0e7efe8e-60fc-4e81-a2ad-e8b5612868f1",
   "metadata": {},
   "outputs": [],
   "source": [
    "driver.quit()"
   ]
  },
  {
   "cell_type": "code",
   "execution_count": 25,
   "id": "d00e8091-1766-434a-b952-d38215d7bc7f",
   "metadata": {},
   "outputs": [
    {
     "name": "stdout",
     "output_type": "stream",
     "text": [
      "Start scraping all google jobs ...\n",
      "Please, Do not close chrome driver. It will be closed automatically after finished.\n",
      "This process maybe take more than 10 minutes\n"
     ]
    },
    {
     "ename": "TypeError",
     "evalue": "__init__() takes 1 positional argument but 2 were given",
     "output_type": "error",
     "traceback": [
      "\u001b[1;31m---------------------------------------------------------------------------\u001b[0m",
      "\u001b[1;31mTypeError\u001b[0m                                 Traceback (most recent call last)",
      "\u001b[1;32m~\\AppData\\Local\\Temp\\ipykernel_32904\\758940728.py\u001b[0m in \u001b[0;36m<module>\u001b[1;34m\u001b[0m\n\u001b[0;32m    154\u001b[0m     \u001b[0mprint\u001b[0m\u001b[1;33m(\u001b[0m\u001b[1;34m'This process maybe take more than 10 minutes'\u001b[0m\u001b[1;33m)\u001b[0m\u001b[1;33m\u001b[0m\u001b[1;33m\u001b[0m\u001b[0m\n\u001b[0;32m    155\u001b[0m \u001b[1;33m\u001b[0m\u001b[0m\n\u001b[1;32m--> 156\u001b[1;33m     \u001b[0mchrome_options\u001b[0m \u001b[1;33m=\u001b[0m \u001b[0mwebdriver\u001b[0m\u001b[1;33m.\u001b[0m\u001b[0mChromeOptions\u001b[0m\u001b[1;33m(\u001b[0m\u001b[1;34m\"C:\\Program Files\\Google\\Chrome\\Application\\chrome.exe\"\u001b[0m\u001b[1;33m)\u001b[0m\u001b[1;33m\u001b[0m\u001b[1;33m\u001b[0m\u001b[0m\n\u001b[0m\u001b[0;32m    157\u001b[0m     \u001b[1;31m# Set chrome in headless mode to hide the UI\u001b[0m\u001b[1;33m\u001b[0m\u001b[1;33m\u001b[0m\u001b[1;33m\u001b[0m\u001b[0m\n\u001b[0;32m    158\u001b[0m     \u001b[1;31m# chrome_options.add_argument('headless')\u001b[0m\u001b[1;33m\u001b[0m\u001b[1;33m\u001b[0m\u001b[1;33m\u001b[0m\u001b[0m\n",
      "\u001b[1;31mTypeError\u001b[0m: __init__() takes 1 positional argument but 2 were given"
     ]
    }
   ],
   "source": [
    "import requests\n",
    "from selenium import webdriver\n",
    "from selenium.webdriver.common.by import By\n",
    "from selenium.webdriver.support.ui import WebDriverWait\n",
    "from selenium.webdriver.support import expected_conditions as EC\n",
    "from selenium.common.exceptions import TimeoutException\n",
    "from bs4 import BeautifulSoup\n",
    "import json\n",
    "import time\n",
    "\n",
    "\n",
    "jobs = []\n",
    "total = 0\n",
    "\n",
    "\n",
    "def scrape(start_url):\n",
    "    \"\"\"Prepare a website url and scrape all pages\"\"\"\n",
    "\n",
    "    # Scrape all pages\n",
    "    start = time.time()\n",
    "    count_pages = 0\n",
    "    while True:\n",
    "        website_url = start_url.replace('st=0', 'st={}'.format(count_pages))\n",
    "        try:\n",
    "            parse(website_url)\n",
    "        except TimeoutException:\n",
    "            browser.quit()\n",
    "            print('All data successfully scraped!')\n",
    "            end = time.time()\n",
    "            print('Time: {} minutes \\n'.format(round((end - start) / 60), 1))\n",
    "            break\n",
    "        count_pages += 20\n",
    "\n",
    "    # Store all jobs and total count\n",
    "    data = {\n",
    "        'total': total,\n",
    "        'jobs': jobs\n",
    "    }\n",
    "    return json.dumps(data)\n",
    "\n",
    "\n",
    "def parse(jobs_page):\n",
    "    \"\"\"Parse main jobs page and get all jobs URLs\"\"\"\n",
    "    global total\n",
    "\n",
    "    # Open first URL\n",
    "    browser.get(jobs_page)\n",
    "\n",
    "    # Waite or sleep till all page data loaded\n",
    "    WebDriverWait(browser, 20).until(\n",
    "        EC.presence_of_all_elements_located((By.CLASS_NAME, 'GXRRIBB-e-G'))\n",
    "    )\n",
    "\n",
    "    body = browser.page_source\n",
    "\n",
    "    # Parse page html to extract jobs info\n",
    "    soup = BeautifulSoup(body, 'html.parser')\n",
    "    jobs_content = soup.select('.GXRRIBB-e-G')\n",
    "\n",
    "    # Store the count of jobs located in this page\n",
    "    total += len(jobs_content)\n",
    "\n",
    "    # Get all jobs links (URLs) form jobs info (jobs_content variable)\n",
    "    jobs_urls = []\n",
    "    for job in jobs_content:\n",
    "        job_header = job.select_one('h2 a')\n",
    "\n",
    "        # Check that the job related to Google company\n",
    "        # To make sure that the html structure will be the same\n",
    "        company = job.select_one(\n",
    "            'div.sr-content div.summary .secondary-text').get_text()\n",
    "        if company != 'DeepMind':\n",
    "            job_link = 'https://careers.google.com/jobs'\\\n",
    "                       + job_header.get('href')\n",
    "            jobs_urls.append(job_link)\n",
    "\n",
    "    parse_jobs(jobs_urls)\n",
    "\n",
    "\n",
    "def parse_jobs(jobs_urls):\n",
    "    \n",
    "    \n",
    "    \"\"\"Parse all jobs data\"\"\"\n",
    "    global jobs\n",
    "\n",
    "    # Open jobs URLs one by one to get page html\n",
    "    jobs_html = []\n",
    "    for url in jobs_urls:\n",
    "        browser.execute_script(\"window.open('{}', 'new_window')\".format(url))\n",
    "        browser.switch_to.window(browser.window_handles[1])\n",
    "\n",
    "        # Waite till all page data loaded\n",
    "        try:\n",
    "            WebDriverWait(browser, 20).until(\n",
    "                EC.element_to_be_clickable((By.CSS_SELECTOR, 'a.secondary-text'))\n",
    "            )\n",
    "        except TimeoutException:\n",
    "            browser.close()\n",
    "            browser.switch_to.window(browser.window_handles[0])\n",
    "            continue\n",
    "        '''\n",
    "        WebDriverWait(browser, 20).until(\n",
    "            EC.presence_of_all_elements_located((By.CSS_SELECTOR, '.description-section p'))\n",
    "        )\n",
    "        '''\n",
    "\n",
    "        jobs_html.append(browser.page_source)\n",
    "\n",
    "        # Close the current windows and switch to the main window\n",
    "        browser.close()\n",
    "        browser.switch_to.window(browser.window_handles[0])\n",
    "\n",
    "    # Parse all pages html to get jobs data\n",
    "    jobs_list = []\n",
    "    for job in jobs_html:\n",
    "        soup = BeautifulSoup(job, 'html.parser')\n",
    "        job_id = soup.find('div', attrs={'itemtype': 'http://schema.org/JobPosting'}).get('id')\n",
    "        job_title = soup.select_one('div.card-company-job-details > h1 a.title.text').get_text()\n",
    "        location = soup.select_one('div.card-company-job-details .details-panel > a').get_text()\n",
    "        desc = soup.select_one('div.detail-item .description-section.text.with-benefits').get_text()\n",
    "        resp_qual = soup.select('div.detail-item .description-section .GXRRIBB-S-c .description-content')\n",
    "        resp = resp_qual[0].get_text()\n",
    "        qual = resp_qual[1].get_text()\n",
    "\n",
    "        job_dict = {\n",
    "            'job_id': job_id,\n",
    "            'title': job_title,\n",
    "            'location': location,\n",
    "            'intro': desc,\n",
    "            'resps': resp,\n",
    "            'quals': qual\n",
    "        }\n",
    "\n",
    "        jobs_list.append(job_dict)\n",
    "\n",
    "    # Store the current jobs list with all scraped lists before\n",
    "    jobs += jobs_list\n",
    "\n",
    "\n",
    "if __name__ == '__main__':\n",
    "    print('Start scraping all google jobs ...')\n",
    "\n",
    "    # Prepare the URL\n",
    "    base_url = 'https://careers.google.com/jobs'\n",
    "    params = {\n",
    "        't': 'sq',\n",
    "        'li': '20',\n",
    "        'st': '0',\n",
    "        'jlo': 'all'\n",
    "    }\n",
    "    result = requests.get(url=base_url, params=params)\n",
    "    url = result.url.replace('?', '#')\n",
    "    \n",
    "    print('Please, Do not close chrome driver. '\n",
    "          'It will be closed automatically after finished.')\n",
    "    print('This process maybe take more than 10 minutes')\n",
    "\n",
    "    chrome_options = webdriver.ChromeOptions(\"C:\\Program Files\\Google\\Chrome\\Application\\chrome.exe\")\n",
    "    # Set chrome in headless mode to hide the UI\n",
    "    # chrome_options.add_argument('headless')\n",
    "    \n",
    "    # Creates and open a new instance of the chrome driver\n",
    "    browser = webdriver.Chrome(chrome_options=chrome_options)\n",
    "\n",
    "    data_json = scrape(url)\n",
    "    print(data_json)\n",
    "    with open('data.json', 'w') as file:\n",
    "        json.dump(json.loads(data_json), file)"
   ]
  },
  {
   "cell_type": "code",
   "execution_count": 37,
   "id": "a7f063bd-466b-4da0-8433-4f33762ab362",
   "metadata": {},
   "outputs": [],
   "source": [
    "url = \"https://www.indeed.com/jobs?q=Data Scientist&start=0&vjk=e8bcf3fbe7498a5f\""
   ]
  },
  {
   "cell_type": "code",
   "execution_count": 11,
   "id": "c086a515-1385-43b9-bb36-7bcebcb704b7",
   "metadata": {},
   "outputs": [
    {
     "name": "stderr",
     "output_type": "stream",
     "text": [
      "c:\\users\\projet\\project_2\\.env\\lib\\site-packages\\ipykernel_launcher.py:1: DeprecationWarning: executable_path has been deprecated, please pass in a Service object\n",
      "  \"\"\"Entry point for launching an IPython kernel.\n"
     ]
    },
    {
     "ename": "NameError",
     "evalue": "name 'options' is not defined",
     "output_type": "error",
     "traceback": [
      "\u001b[1;31m---------------------------------------------------------------------------\u001b[0m",
      "\u001b[1;31mNameError\u001b[0m                                 Traceback (most recent call last)",
      "\u001b[1;32m~\\AppData\\Local\\Temp\\ipykernel_25012\\1962253795.py\u001b[0m in \u001b[0;36m<module>\u001b[1;34m\u001b[0m\n\u001b[0;32m      1\u001b[0m \u001b[0mdriver\u001b[0m \u001b[1;33m=\u001b[0m \u001b[0mwebdriver\u001b[0m\u001b[1;33m.\u001b[0m\u001b[0mChrome\u001b[0m\u001b[1;33m(\u001b[0m\u001b[0mexecutable_path\u001b[0m\u001b[1;33m=\u001b[0m\u001b[1;34m\"C:/Users/Projet/Downloads/chromedriver_win32/chromedriver.exe\"\u001b[0m\u001b[1;33m)\u001b[0m\u001b[1;33m\u001b[0m\u001b[1;33m\u001b[0m\u001b[0m\n\u001b[1;32m----> 2\u001b[1;33m \u001b[0mdriver\u001b[0m \u001b[1;33m=\u001b[0m \u001b[0mwebdriver\u001b[0m\u001b[1;33m.\u001b[0m\u001b[0mChrome\u001b[0m\u001b[1;33m(\u001b[0m\u001b[0moptions\u001b[0m \u001b[1;33m=\u001b[0m \u001b[0moptions\u001b[0m\u001b[1;33m)\u001b[0m\u001b[1;33m\u001b[0m\u001b[1;33m\u001b[0m\u001b[0m\n\u001b[0m\u001b[0;32m      3\u001b[0m \u001b[0mdriver\u001b[0m\u001b[1;33m.\u001b[0m\u001b[0mmaximize_window\u001b[0m\u001b[1;33m(\u001b[0m\u001b[1;33m)\u001b[0m\u001b[1;33m\u001b[0m\u001b[1;33m\u001b[0m\u001b[0m\n\u001b[0;32m      4\u001b[0m \u001b[0mdriver\u001b[0m\u001b[1;33m.\u001b[0m\u001b[0mget\u001b[0m\u001b[1;33m(\u001b[0m\u001b[1;34m\"https://www.reddit.com/\"\u001b[0m\u001b[1;33m)\u001b[0m\u001b[1;33m\u001b[0m\u001b[1;33m\u001b[0m\u001b[0m\n\u001b[0;32m      5\u001b[0m \u001b[0mwait\u001b[0m \u001b[1;33m=\u001b[0m \u001b[0mWebDriverWait\u001b[0m\u001b[1;33m(\u001b[0m\u001b[0mdriver\u001b[0m\u001b[1;33m,\u001b[0m \u001b[1;36m10\u001b[0m\u001b[1;33m)\u001b[0m\u001b[1;33m\u001b[0m\u001b[1;33m\u001b[0m\u001b[0m\n",
      "\u001b[1;31mNameError\u001b[0m: name 'options' is not defined"
     ]
    }
   ],
   "source": [
    "driver = webdriver.Chrome(executable_path=\"C:/Users/Projet/Downloads/chromedriver_win32/chromedriver.exe\")\n",
    "driver = webdriver.Chrome(options = options)\n",
    "driver.maximize_window()\n",
    "driver.get(\"https://www.reddit.com/\")\n",
    "wait = WebDriverWait(driver, 10)"
   ]
  },
  {
   "cell_type": "code",
   "execution_count": null,
   "id": "cc030a98-02c7-4425-831d-d4c6b05014f1",
   "metadata": {},
   "outputs": [],
   "source": [
    "keyword = input("
   ]
  },
  {
   "cell_type": "code",
   "execution_count": null,
   "id": "515e36df-a369-4a05-a1b7-6a96aa7a9b2f",
   "metadata": {},
   "outputs": [],
   "source": [
    "driver.get(\"https://www.indeed.com/jobs?q=Data Scientist&start=0&vjk=e8bcf3fbe7498a5f\")\n",
    "print(driver.page_source)"
   ]
  },
  {
   "cell_type": "code",
   "execution_count": null,
   "id": "02a7ec3a-fb45-46fd-abc3-cf7a9dcc887a",
   "metadata": {},
   "outputs": [],
   "source": [
    "def scrape(start_url):\n",
    "    \"\"\"Prepare a website url and scrape all pages\"\"\"\n",
    "\n",
    "    # Scrape all pages\n",
    "    start = time.time()\n",
    "    count_pages = 0\n",
    "    while True:\n",
    "        website_url = start_url.replace('st=0', 'st={}'.format(count_pages))\n",
    "        try:\n",
    "            parse(website_url)\n",
    "        except TimeoutException:\n",
    "            browser.quit()\n",
    "            print('All data successfully scraped!')\n",
    "            end = time.time()\n",
    "            print('Time: {} minutes \\n'.format(round((end - start) / 60), 1))\n",
    "            break\n",
    "        count_pages += 20\n",
    "\n",
    "    # Store all jobs and total count\n",
    "    data = {\n",
    "        'total': total,\n",
    "        'jobs': jobs\n",
    "    }\n",
    "    return json.dumps(data)"
   ]
  },
  {
   "cell_type": "code",
   "execution_count": 5,
   "id": "cdef76b1-8d9b-4a06-98b3-444f2beebdf1",
   "metadata": {},
   "outputs": [
    {
     "name": "stderr",
     "output_type": "stream",
     "text": [
      "c:\\users\\projet\\project_2\\.env\\lib\\site-packages\\ipykernel_launcher.py:1: DeprecationWarning: executable_path has been deprecated, please pass in a Service object\n",
      "  \"\"\"Entry point for launching an IPython kernel.\n"
     ]
    },
    {
     "ename": "WebDriverException",
     "evalue": "Message: Can not connect to the Service C:\\Program Files\\Google\\Chrome\\Application\\chrome.exe\n",
     "output_type": "error",
     "traceback": [
      "\u001b[1;31m---------------------------------------------------------------------------\u001b[0m",
      "\u001b[1;31mWebDriverException\u001b[0m                        Traceback (most recent call last)",
      "\u001b[1;32m~\\AppData\\Local\\Temp\\ipykernel_25012\\3693715870.py\u001b[0m in \u001b[0;36m<module>\u001b[1;34m\u001b[0m\n\u001b[1;32m----> 1\u001b[1;33m \u001b[0mdriver\u001b[0m \u001b[1;33m=\u001b[0m \u001b[0mwebdriver\u001b[0m\u001b[1;33m.\u001b[0m\u001b[0mChrome\u001b[0m\u001b[1;33m(\u001b[0m\u001b[1;34m\"C:\\Program Files\\Google\\Chrome\\Application\\chrome.exe\"\u001b[0m\u001b[1;33m)\u001b[0m\u001b[1;33m\u001b[0m\u001b[1;33m\u001b[0m\u001b[0m\n\u001b[0m\u001b[0;32m      2\u001b[0m \u001b[0mdriver\u001b[0m\u001b[1;33m.\u001b[0m\u001b[0mget\u001b[0m\u001b[1;33m(\u001b[0m\u001b[1;34m\"http://www.ebay.fr\"\u001b[0m\u001b[1;33m)\u001b[0m\u001b[1;33m\u001b[0m\u001b[1;33m\u001b[0m\u001b[0m\n\u001b[0;32m      3\u001b[0m \u001b[1;33m\u001b[0m\u001b[0m\n\u001b[0;32m      4\u001b[0m \u001b[1;31m# En fonction de notre connection et des performance de notre machine il faudra attendre\u001b[0m\u001b[1;33m\u001b[0m\u001b[1;33m\u001b[0m\u001b[1;33m\u001b[0m\u001b[0m\n\u001b[0;32m      5\u001b[0m \u001b[1;33m\u001b[0m\u001b[0m\n",
      "\u001b[1;32mc:\\users\\projet\\project_2\\.env\\lib\\site-packages\\selenium\\webdriver\\chrome\\webdriver.py\u001b[0m in \u001b[0;36m__init__\u001b[1;34m(self, executable_path, port, options, service_args, desired_capabilities, service_log_path, chrome_options, service, keep_alive)\u001b[0m\n\u001b[0;32m     70\u001b[0m                          \u001b[0mport\u001b[0m\u001b[1;33m,\u001b[0m \u001b[0moptions\u001b[0m\u001b[1;33m,\u001b[0m\u001b[1;33m\u001b[0m\u001b[1;33m\u001b[0m\u001b[0m\n\u001b[0;32m     71\u001b[0m                          \u001b[0mservice_args\u001b[0m\u001b[1;33m,\u001b[0m \u001b[0mdesired_capabilities\u001b[0m\u001b[1;33m,\u001b[0m\u001b[1;33m\u001b[0m\u001b[1;33m\u001b[0m\u001b[0m\n\u001b[1;32m---> 72\u001b[1;33m                          service_log_path, service, keep_alive)\n\u001b[0m",
      "\u001b[1;32mc:\\users\\projet\\project_2\\.env\\lib\\site-packages\\selenium\\webdriver\\chromium\\webdriver.py\u001b[0m in \u001b[0;36m__init__\u001b[1;34m(self, browser_name, vendor_prefix, port, options, service_args, desired_capabilities, service_log_path, service, keep_alive)\u001b[0m\n\u001b[0;32m     87\u001b[0m \u001b[1;33m\u001b[0m\u001b[0m\n\u001b[0;32m     88\u001b[0m         \u001b[0mself\u001b[0m\u001b[1;33m.\u001b[0m\u001b[0mservice\u001b[0m \u001b[1;33m=\u001b[0m \u001b[0mservice\u001b[0m\u001b[1;33m\u001b[0m\u001b[1;33m\u001b[0m\u001b[0m\n\u001b[1;32m---> 89\u001b[1;33m         \u001b[0mself\u001b[0m\u001b[1;33m.\u001b[0m\u001b[0mservice\u001b[0m\u001b[1;33m.\u001b[0m\u001b[0mstart\u001b[0m\u001b[1;33m(\u001b[0m\u001b[1;33m)\u001b[0m\u001b[1;33m\u001b[0m\u001b[1;33m\u001b[0m\u001b[0m\n\u001b[0m\u001b[0;32m     90\u001b[0m \u001b[1;33m\u001b[0m\u001b[0m\n\u001b[0;32m     91\u001b[0m         \u001b[1;32mtry\u001b[0m\u001b[1;33m:\u001b[0m\u001b[1;33m\u001b[0m\u001b[1;33m\u001b[0m\u001b[0m\n",
      "\u001b[1;32mc:\\users\\projet\\project_2\\.env\\lib\\site-packages\\selenium\\webdriver\\common\\service.py\u001b[0m in \u001b[0;36mstart\u001b[1;34m(self)\u001b[0m\n\u001b[0;32m    103\u001b[0m             \u001b[0msleep\u001b[0m\u001b[1;33m(\u001b[0m\u001b[1;36m0.5\u001b[0m\u001b[1;33m)\u001b[0m\u001b[1;33m\u001b[0m\u001b[1;33m\u001b[0m\u001b[0m\n\u001b[0;32m    104\u001b[0m             \u001b[1;32mif\u001b[0m \u001b[0mcount\u001b[0m \u001b[1;33m==\u001b[0m \u001b[1;36m60\u001b[0m\u001b[1;33m:\u001b[0m\u001b[1;33m\u001b[0m\u001b[1;33m\u001b[0m\u001b[0m\n\u001b[1;32m--> 105\u001b[1;33m                 \u001b[1;32mraise\u001b[0m \u001b[0mWebDriverException\u001b[0m\u001b[1;33m(\u001b[0m\u001b[1;34m\"Can not connect to the Service %s\"\u001b[0m \u001b[1;33m%\u001b[0m \u001b[0mself\u001b[0m\u001b[1;33m.\u001b[0m\u001b[0mpath\u001b[0m\u001b[1;33m)\u001b[0m\u001b[1;33m\u001b[0m\u001b[1;33m\u001b[0m\u001b[0m\n\u001b[0m\u001b[0;32m    106\u001b[0m \u001b[1;33m\u001b[0m\u001b[0m\n\u001b[0;32m    107\u001b[0m     \u001b[1;32mdef\u001b[0m \u001b[0massert_process_still_running\u001b[0m\u001b[1;33m(\u001b[0m\u001b[0mself\u001b[0m\u001b[1;33m)\u001b[0m\u001b[1;33m:\u001b[0m\u001b[1;33m\u001b[0m\u001b[1;33m\u001b[0m\u001b[0m\n",
      "\u001b[1;31mWebDriverException\u001b[0m: Message: Can not connect to the Service C:\\Program Files\\Google\\Chrome\\Application\\chrome.exe\n"
     ]
    }
   ],
   "source": [
    "driver = webdriver.Chrome(\"C:\\Program Files\\Google\\Chrome\\Application\\chrome.exe\")\n",
    "driver.get(\"http://www.ebay.fr\")\n",
    " \n",
    "# En fonction de notre connection et des performance de notre machine il faudra attendre\n",
    " \n"
   ]
  },
  {
   "cell_type": "code",
   "execution_count": null,
   "id": "48f36e7b-c247-4c6f-951f-6cfefa462979",
   "metadata": {},
   "outputs": [],
   "source": [
    "# que la page charge avant de passer à la suite\n",
    "time.sleep(10)"
   ]
  },
  {
   "cell_type": "code",
   "execution_count": null,
   "id": "28b681a8-5b6f-479f-89b0-9237cb2341fb",
   "metadata": {},
   "outputs": [],
   "source": [
    "search_bar = driver.find_element_by_name(\"_nkw\")\n",
    "search_bar.send_keys(\"iphone\")\n",
    "search_bar.send_keys(Keys.ENTER)"
   ]
  },
  {
   "cell_type": "code",
   "execution_count": null,
   "id": "fd7adca6-87dc-43ba-a9e8-e5495885c1c5",
   "metadata": {},
   "outputs": [],
   "source": [
    "is_last_page = False\n",
    "while not is_last_page:\n",
    "    offers = driver.find_elements_by_css_selector(\"div#ResultSetItems &amp;amp;amp;amp;amp;amp;gt; ul &amp;amp;amp;amp;amp;amp;gt; li.sresult\")\n",
    "    for offer in offers:\n",
    "        title = offer.find_element_by_css_selector(\"h3.lvtitle a\").get_attribute(\"title\")\n",
    "        print(\"Titre : \",title)\n",
    "        image = offer.find_element_by_css_selector(\"div.lvpicinner img.img\").get_attribute(\"src\")\n",
    "        print(\"Image : \",image)\n",
    "        price = offer.find_element_by_css_selector(\"li.lvprice span\").text\n",
    "        print(\"Prix : \",price)\n",
    "        print(\"\")\n",
    "    next_page = driver.find_element_by_css_selector(\"table#Pagination a.next\")\n",
    "    is_last_page = next_page.get_attribute(\"arial-disabled\")\n",
    "    if is_last_page == \"true\" or is_last_page == \"True\":\n",
    "        is_last_page = True\n",
    "    else:\n",
    "        next_page.click()\n",
    "    sleep(10)"
   ]
  },
  {
   "cell_type": "code",
   "execution_count": null,
   "id": "da2d8b7a-65de-4e49-9fd4-24ae0d9e608d",
   "metadata": {},
   "outputs": [],
   "source": []
  }
 ],
 "metadata": {
  "kernelspec": {
   "display_name": "Python 3 (ipykernel)",
   "language": "python",
   "name": "python3"
  },
  "language_info": {
   "codemirror_mode": {
    "name": "ipython",
    "version": 3
   },
   "file_extension": ".py",
   "mimetype": "text/x-python",
   "name": "python",
   "nbconvert_exporter": "python",
   "pygments_lexer": "ipython3",
   "version": "3.7.7"
  }
 },
 "nbformat": 4,
 "nbformat_minor": 5
}
