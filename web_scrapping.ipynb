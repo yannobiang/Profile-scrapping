{
 "cells": [
  {
   "cell_type": "code",
   "execution_count": 13,
   "id": "296156eb-092f-4e55-b2ee-cbde6ad92620",
   "metadata": {},
   "outputs": [],
   "source": [
    "import requests"
   ]
  },
  {
   "cell_type": "code",
   "execution_count": 14,
   "id": "8ae32568-a2a6-4b43-96e8-01b65c96a003",
   "metadata": {},
   "outputs": [],
   "source": [
    "from bs4 import BeautifulSoup"
   ]
  },
  {
   "cell_type": "code",
   "execution_count": 82,
   "id": "e9c717b0-9cf8-4a07-ba22-a1f21c268298",
   "metadata": {},
   "outputs": [],
   "source": [
    "def extract(page, word1, word2, ville):\n",
    "    headers = {'User-Agent':'Mozilla/5.0 (Windows NT 10.0; Win64; x64) AppleWebKit/537.36 (KHTML, like Gecko) Chrome/106.0.0.0 Safari/537.36'}\n",
    "    url = f\"https://fr.indeed.com/jobs?q={word1}+{word2}&l={ville}%2C&start={page}\"\n",
    "    r = requests.get(url, headers=headers).text\n",
    "    soup = BeautifulSoup(r, 'lxml')\n",
    "    #soup = BeautifulSoup(r.content, 'html.parser')\n",
    "    return soup\n",
    "\n",
    "def transform(soup):\n",
    "    divs = soup.find_all('div', id_ = \"jobDescriptionText\")\n",
    "    deux = soup.findAll(\"div\", {\"id\": \"result\"})\n",
    "    print(deux)\n",
    "    return len(divs)\n",
    "\n",
    "    "
   ]
  },
  {
   "cell_type": "code",
   "execution_count": 83,
   "id": "dff7dea6-ab9d-4e7e-b846-24be77c589f1",
   "metadata": {},
   "outputs": [
    {
     "name": "stdout",
     "output_type": "stream",
     "text": [
      "[]\n",
      "0\n"
     ]
    }
   ],
   "source": [
    "c = extract(0, \"python\", \"developper\", \"Paris\")\n",
    "print(transform(c))"
   ]
  },
  {
   "cell_type": "code",
   "execution_count": 15,
   "id": "6e4624c1-38de-4919-9a28-83cb96e7b646",
   "metadata": {},
   "outputs": [
    {
     "ename": "AttributeError",
     "evalue": "'NoneType' object has no attribute 'find_all'",
     "output_type": "error",
     "traceback": [
      "\u001b[1;31m---------------------------------------------------------------------------\u001b[0m",
      "\u001b[1;31mAttributeError\u001b[0m                            Traceback (most recent call last)",
      "\u001b[1;32m~\\AppData\\Local\\Temp\\ipykernel_32904\\3550411700.py\u001b[0m in \u001b[0;36m<module>\u001b[1;34m\u001b[0m\n\u001b[0;32m      2\u001b[0m \u001b[0mheaders\u001b[0m \u001b[1;33m=\u001b[0m \u001b[1;33m{\u001b[0m\u001b[1;34m'User-Agent'\u001b[0m\u001b[1;33m:\u001b[0m\u001b[1;34m'Mozilla/5.0 (Windows NT 10.0; Win64; x64) AppleWebKit/537.36 (KHTML, like Gecko) Chrome/106.0.0.0 Safari/537.36'\u001b[0m\u001b[1;33m}\u001b[0m\u001b[1;33m\u001b[0m\u001b[1;33m\u001b[0m\u001b[0m\n\u001b[0;32m      3\u001b[0m \u001b[0msoup\u001b[0m \u001b[1;33m=\u001b[0m \u001b[0mBeautifulSoup\u001b[0m\u001b[1;33m(\u001b[0m\u001b[0mrequests\u001b[0m\u001b[1;33m.\u001b[0m\u001b[0mget\u001b[0m\u001b[1;33m(\u001b[0m\u001b[0murl\u001b[0m\u001b[1;33m,\u001b[0m \u001b[0mheaders\u001b[0m\u001b[1;33m=\u001b[0m\u001b[0mheaders\u001b[0m\u001b[1;33m)\u001b[0m\u001b[1;33m.\u001b[0m\u001b[0mcontent\u001b[0m\u001b[1;33m,\u001b[0m \u001b[1;34m\"html.parser\"\u001b[0m\u001b[1;33m)\u001b[0m\u001b[1;33m\u001b[0m\u001b[1;33m\u001b[0m\u001b[0m\n\u001b[1;32m----> 4\u001b[1;33m \u001b[0mLinks\u001b[0m \u001b[1;33m=\u001b[0m \u001b[0msoup\u001b[0m\u001b[1;33m.\u001b[0m\u001b[0mfind\u001b[0m\u001b[1;33m(\u001b[0m\u001b[1;34m\"div\"\u001b[0m\u001b[1;33m,\u001b[0m \u001b[1;34m\"body\"\u001b[0m\u001b[1;33m)\u001b[0m\u001b[1;33m.\u001b[0m\u001b[0mfind_all\u001b[0m\u001b[1;33m(\u001b[0m\u001b[1;34m'a'\u001b[0m\u001b[1;33m)\u001b[0m\u001b[1;33m\u001b[0m\u001b[1;33m\u001b[0m\u001b[0m\n\u001b[0m\u001b[0;32m      5\u001b[0m \u001b[1;33m\u001b[0m\u001b[0m\n\u001b[0;32m      6\u001b[0m \u001b[1;33m\u001b[0m\u001b[0m\n",
      "\u001b[1;31mAttributeError\u001b[0m: 'NoneType' object has no attribute 'find_all'"
     ]
    }
   ],
   "source": [
    "url = \"https://www.google.com/search?q=google+jobs&rlz=1C1CHBD_frFR1026FR1026&oq=google+job&aqs=chrome.0.0i131i433i512j69i57j0i512j0i20i263i512j0i512j69i60l3.6383j0j7&sourceid=chrome&ie=UTF-8&ibp=htl;jobs&sa=X&ved=2ahUKEwiq6O_H2ID7AhXIz4UKHXtRAnwQudcGKAJ6BAgIEBQ&sxsrf=ALiCzsbsNigE1Z2tEPGcyCZUcyo9uM0wjA:1666883400763#htivrt=jobs&htidocid=ew-c2W-OEMYAAAAAAAAAAA%3D%3D&fpstate=tldetail\"\n",
    "headers = {'User-Agent':'Mozilla/5.0 (Windows NT 10.0; Win64; x64) AppleWebKit/537.36 (KHTML, like Gecko) Chrome/106.0.0.0 Safari/537.36'}\n",
    "soup = BeautifulSoup(requests.get(url, headers=headers).content, \"html.parser\")\n",
    "Links = soup.find(\"div\", \"body\").find_all('a')\n",
    "\n",
    "\n",
    "Page= [tag['href'] for tag in Links]\n",
    "for pageid in range(0,2):\n",
    "    pageid=10*pageid\n",
    "    website=f'https://in.indeed.com//jobs?q=software+engineer&l=Kerala&sort=date&start={pageid}'\n",
    "    soup = BeautifulSoup(requests.get(website, headers=headers).content, \"html.parser\")\n",
    "    SubLinks = soup.find(\"div\", \"body\").find_all('a')\n",
    "    Page=list(set(Page+ [tag['href'] for tag in SubLinks]))\n",
    "\n",
    "    for job in soup.select('a[id^=\"job_\"]'):\n",
    "        job_id = job[\"id\"].split(\"_\")[-1]\n",
    "        #s = BeautifulSoup(requests.get(api_url.format(job_id=job_id), headers=headers).content,\"html.parser\",)\n",
    "    data=[]\n",
    "    Company_Name=[]\n",
    "    Location=[]\n",
    "    Job_Description=[]\n",
    "    for div_block in soup.find_all('span', class_=['companyName',],style=None):\n",
    "        Company_Name.append([line.strip() for line in div_block.stripped_strings])\n",
    "    for div_block in soup.find_all('div', class_=['companyLocation'],style=None):\n",
    "        Location.append([line.strip() for line in div_block.stripped_strings])\n",
    "    for div_block in soup.find_all('div',class_=['jobsearch-JobComponent-description icl-u-xs-mt--md'],style=None):\n",
    "        Job_Description.append([line.strip() for line in div_block.stripped_strings])"
   ]
  },
  {
   "cell_type": "code",
   "execution_count": 81,
   "id": "0b7c8a18-d2e8-45a2-ab80-00bf232d2d3b",
   "metadata": {},
   "outputs": [],
   "source": [
    "def extract(page, job):\n",
    "    headers = headers\n",
    "    url = f'https://www.indeed.com/jobs?q={job}&start={page}&vjk=e8bcf3fbe7498a5f'\n",
    "    r = requests.get(url,headers)\n",
    "    soup = BeautifulSoup(r.content, 'html.parser')\n",
    "    return soup"
   ]
  },
  {
   "cell_type": "code",
   "execution_count": 87,
   "id": "3f589370-30dd-46a3-91b1-629afb3c8fa6",
   "metadata": {},
   "outputs": [],
   "source": [
    "for job in c.select('.result'):\n",
    "        title = job.select_one('.jobTitle').get_text(' ')\n",
    "        company = job.find(class_='companyName').text\n",
    "        id1 = job.get('id')"
   ]
  },
  {
   "cell_type": "code",
   "execution_count": 89,
   "id": "fb1e65a0-daf8-4d20-a271-970adc4c0f02",
   "metadata": {},
   "outputs": [
    {
     "ename": "NameError",
     "evalue": "name 'job' is not defined",
     "output_type": "error",
     "traceback": [
      "\u001b[1;31m---------------------------------------------------------------------------\u001b[0m",
      "\u001b[1;31mNameError\u001b[0m                                 Traceback (most recent call last)",
      "\u001b[1;32m~\\AppData\\Local\\Temp\\ipykernel_11208\\4162592046.py\u001b[0m in \u001b[0;36m<module>\u001b[1;34m\u001b[0m\n\u001b[1;32m----> 1\u001b[1;33m \u001b[0mjob\u001b[0m\u001b[1;33m.\u001b[0m\u001b[0mselect_one\u001b[0m\u001b[1;33m(\u001b[0m\u001b[1;34m'.jobTitle'\u001b[0m\u001b[1;33m)\u001b[0m\u001b[1;33m\u001b[0m\u001b[1;33m\u001b[0m\u001b[0m\n\u001b[0m",
      "\u001b[1;31mNameError\u001b[0m: name 'job' is not defined"
     ]
    }
   ],
   "source": [
    "job.select_one('.jobTitle')"
   ]
  },
  {
   "cell_type": "code",
   "execution_count": 90,
   "id": "c6f83333-4718-42a3-8e4e-aec12b8e57d1",
   "metadata": {},
   "outputs": [
    {
     "data": {
      "text/plain": [
       "<!DOCTYPE html>\n",
       "<html lang=\"en-US\">\n",
       "<head>\n",
       "<title>Just a moment...</title>\n",
       "<meta content=\"text/html; charset=utf-8\" http-equiv=\"Content-Type\"/>\n",
       "<meta content=\"IE=Edge\" http-equiv=\"X-UA-Compatible\"/>\n",
       "<meta content=\"noindex,nofollow\" name=\"robots\"/>\n",
       "<meta content=\"width=device-width,initial-scale=1\" name=\"viewport\"/>\n",
       "<link href=\"/cdn-cgi/styles/challenges.css\" rel=\"stylesheet\"/>\n",
       "</head>\n",
       "<body class=\"no-js\">\n",
       "<div class=\"main-wrapper\" role=\"main\">\n",
       "<div class=\"main-content\">\n",
       "<h1 class=\"zone-name-title h1\">\n",
       "<img class=\"heading-favicon\" onerror=\"this.onerror=null;this.parentNode.removeChild(this)\" src=\"/favicon.ico\"/>\n",
       "            fr.indeed.com\n",
       "        </h1>\n",
       "<h2 class=\"h2\" id=\"challenge-running\">\n",
       "            Checking if the site connection is secure\n",
       "        </h2>\n",
       "<noscript>\n",
       "<div id=\"challenge-error-title\">\n",
       "<div class=\"h2\">\n",
       "<span class=\"icon-wrapper\">\n",
       "<div class=\"heading-icon warning-icon\"></div>\n",
       "</span>\n",
       "<span id=\"challenge-error-text\">\n",
       "                        Enable JavaScript and cookies to continue\n",
       "                    </span>\n",
       "</div>\n",
       "</div>\n",
       "</noscript>\n",
       "<div id=\"trk_jschal_js\" style=\"display:none;background-image:url('/cdn-cgi/images/trace/managed/nojs/transparent.gif?ray=760c159b3b1ad712')\"></div>\n",
       "<div class=\"core-msg spacer\" id=\"challenge-body-text\">\n",
       "            fr.indeed.com needs to review the security of your connection before proceeding.\n",
       "        </div>\n",
       "<form action=\"/jobs?q=python+developper&amp;l=Paris%2C&amp;start=0&amp;__cf_chl_f_tk=Si3MjD.BO1yk9Nybgzy2zTxoPmMD.j1TgIR017kYOgw-1666880552-0-gaNycGzNB6U\" enctype=\"application/x-www-form-urlencoded\" id=\"challenge-form\" method=\"POST\">\n",
       "<input name=\"md\" type=\"hidden\" value=\"jIMv05eyTixT_Gi7Cqy.gKnePS_BptQespp7amx1PzI-1666880552-0-AZKmaOSE1jrCu1ZvNCg21P1IscegZ4t0nPfzM1NiG53ruPxW1xXhLUhhjDhJ1kRkoTTvaDTICR26AuI0S33MrRblsknQlX1VLwpCJzWjpJ9vrhhlAYxhNkLg_OgHp88trqexHSTqu1fpc84RGylALyT4nGUHFgrKy_yo2mLX0L-lj4iRcIQmIpGeAzOQMIYSXzAuar907WvVKFItM-Tr6HLIeexLrfA8qjUOBAIG3OOYtL_FgbjFMLuaLA04pu5F5XH9Fa2W2WqLOtHQViwHUkrtc9SSyDdwSTvqcUWQ8Y4HjHPehWK_xexf320u-HX-Qa_usvmI4oGuZ9xayFqSa8hSXrc3gl5CJ6j21_CjGx-95j0V8d8Ls0OzjzlXmwqZCGIr3BqOQa2Xj4sVc2_3Me-V7vEHDaNziZ9fJztrQ3gB7UBPdvXFsZnQrulxhmbtARrE_pxjI7nQVsbPcC4DT0yVnJEW-GDKft6gVJBow3zTE-0rCTAgo9Xes7kn5Jn4X02nj2nIr6jzEmf57xe6YVSrdr4RJLjJl0EWbgaj98vNU1J0AIbx6hA1TEbw3dDhGuIoZcv9k2CaKDlAbc3whxmCe96bsfqxAMnBWTrB4HjiHoLgwDJCSZlQMe_2ykNAoy_m6lJnS8o0pjUBFyeaSNW3yT6AB80rFZ4bK7YYba4F9dQmarP9atp3J-M9qXYQezJR5dfJSZX7gcaA5MLPDIjj4Ghtyh8YCBGMiO7VLVC9viHSdKrFizRZClngSjLyxA\"/>\n",
       "<input name=\"r\" type=\"hidden\" value=\".Yqhdzt0jm9WuuuyQ3_X0l32t7SEy_nYF6rTu1LEoqk-1666880552-0-AdiRj29dWDLqrB1qTPr5GtTCnI8UDvAr1dwSO3tE9U3hQM9VZo6KkBxp5xtUsXeIE088aFgBSwQ8tE+0OoQXLliGecTpXH8sRW3HTGrajO7rNd0hEOV2SH32kCyVvE5YbNrRXamo2qJcXTcHWUEp/3wyoAyHOQ5BnOvPmi/8NIcm9Telc6OO3cg5GUkGvanWW9FAwpvyHj/cdIvjNHuuqA2B8334CnRlhUaL30eEds299NBviKIKJVJ50tmSOSgJkmtVn/YwBe1IsSfGNyx55YkfZxJOtG3EsgBmfH9ld8T87PejF5Idr4fZXis4M2rFan+yXsHDSj76EKC3EvPTb2UPfesUxOMdUpYE9eAzBqvKtYTsDERgY4PJMN4QYlvRo0kI8MZQKi/B74NW4naX8flZBFMR2sxPxd37XYb0nZUZsl3eb2R3urtWsxOByZoCTngR+eOTvV33BhahQyqJD+/uL6rJctQtHsMAZtwQNmF3vn4/La6YHs/K/yeuEs3TQm51LjxmQ6OEXkmGsDUxk4CUZy5aR8iIMUD6XVD4V/LtS1p6cYowDdd3mgQYhbXH/nV+/L/mVwvx/aMR3D0JS5BxPrSEHM1QyglQxAf9mpgOQuCzjNpgMLMExeIANKgqlKRY/dcPNmnANVaWNbEnngVwfmfmhOBESxhwrtMRwqIkk7T+LWq4w+sAX5Qv0ZY1DH59cz398jy17fZclBFmGx7L909oqpASQnPLw2YoC3lHSDs7swB9SK0iZq1YtjTzGhYJh6vVBpDs/dJVNedu6jUll3Bxauyi9OFcU/SQR3y1gx5M4DMBRKYxCr8A0Tl1N09cOJfk8JZzsiX3wyA0qq5eNb+1kWUl5BCWxDP+cNMwfcOQOR1MiMDqcBHS8ewLKVVfXQxe/jMcUrMHaw1gwKhsb1eGsSXoBV0Bo1LHPUqV0HEj3wOzEtTxdP9lz80QKNgcK7SBU7GEzw/AHtZtDssMfukw7dyi8Kl3so69jquJ0vOLnoUfXGw6y2QJJP6FtosYbZVG85GCk8mLAJAzy474RT6kJCMXLIf9/o65n1FXLFqzhwcH1Kby/6Hs5gEJVJVN/649FnAseSBbjxcdPCNl0pCtnqSlWqrRPdi6QlsWlygdiQu5jKQQDQ5e+b4Eia0mqxV0nL/rAcuu71FQ1EOixGRZ+7vuVmYVNWI7zq+krtiA4QSgpXImsSAEJaXMIa/cA07kh8N26FprF265FEdvTHs/634iMDSM04KbZq0dn7e2us9/lhiYLfMjsvu0hXiIq1G0S6JT3FatnUCw8ICXhgvOXqfE5+nDNMtaTKnRn0utxvPbf/VWaORogChThoUHra0hrtO6iJxj7MyQLJcHQtfNDpRAsemptTaOM/OE40dcNlG2+ksK++jmYgjRLI/SC0JnAFp9tIkaO8yzRYZ9INHnBRsmnqP12NgOWgoLD6NiiObnVvp6sGD2UdoF4gIGFWtayGGynz0Tpphc5AoVXv8uSR5bVwdtG8Cgmq0PSecpuFFRKZ9lxsiM/otFrFUErOuXVY38u3M3Tzvvd4ROWOW2ZhT3Fw4+Kvs1CVvk83ER+MmZ8Uz73J80APB9btqIKCajxruytyPhhmpkBXQnnCXwXxxezI59cmp6fBkRmxA2xMGaGp8HY69tmaFSslsio0Dq3Md9qyGQ23Gzg29SxbWehWCUx/hz11wnFhGBpUV2/JcI8Jlj97PBqbpROtwy0vHJ0ag0ddjy3wjiWd0vNQ53wgE7h1RJXXszbZpb80kKNh5ztPwfLJCzEDLJV1b7hNUJ8rIpnSzHxO93rnF/dzs9NDKnIx9ImWzpV48MueZ1kCHK+/uh7qogSrwVHrKwqsdP7eJxzcI9u/G8gv9dbyezdGtH2yknWY9YUemt\"/>\n",
       "</form>\n",
       "</div>\n",
       "</div>\n",
       "<script>\n",
       "    (function(){\n",
       "        window._cf_chl_opt={\n",
       "            cvId: '2',\n",
       "            cType: 'managed',\n",
       "            cNounce: '91816',\n",
       "            cRay: '760c159b3b1ad712',\n",
       "            cHash: '4dc596ba412be12',\n",
       "            cUPMDTk: \"\\/jobs?q=python+developper&l=Paris%2C&start=0&__cf_chl_tk=Si3MjD.BO1yk9Nybgzy2zTxoPmMD.j1TgIR017kYOgw-1666880552-0-gaNycGzNB6U\",\n",
       "            cFPWv: 'g',\n",
       "            cTTimeMs: '1000',\n",
       "            cTplV: 4,\n",
       "            cTplB: 'cf',\n",
       "            cRq: {\n",
       "                ru: 'aHR0cHM6Ly9mci5pbmRlZWQuY29tL2pvYnM/cT1weXRob24rZGV2ZWxvcHBlciZsPVBhcmlzJTJDJnN0YXJ0PTA=',\n",
       "                ra: 'TW96aWxsYS81LjAgKFdpbmRvd3MgTlQgMTAuMDsgV2luNjQ7IHg2NCkgQXBwbGVXZWJLaXQvNTM3LjM2IChLSFRNTCwgbGlrZSBHZWNrbykgQ2hyb21lLzEwNi4wLjAuMCBTYWZhcmkvNTM3LjM2',\n",
       "                rm: 'R0VU',\n",
       "                d: '6alLn7ztFq+DkjfVNX6o9afn947zjH2dhBmnFICeXw5hIgswIjgwnWxAbe/61BVGmqh+V0V7k76lcRUSrtgmQvFPp+m63hEJa1+I6W4oPZOnEPgFbgaN/xJtva/r+JnI5mRlNMphB9nkKVZqPMMMlaZaAjaTWjBxSq/f3uMxGcPPMZMs2n4U3rdxSI9FAqH8B5ORpf6omciQJNcIxKHdzwfHVGZCx1Ooi0wrUkblohA9HVRDEtkE8lQ041g92bIHX3rGvbzrKvB8sQMxG537XsJ9xYUlp8vXIkLmJWMkzAf4NXudpDM2rKu4BhWvtLKrsbb2pvGEkKY1fA2Ba+QjtA6dK9+Ozm82Fsa3ibZe7VbKhMuXiCU7gUbwboz9vN0Es+AOqLNMZTQTSiblrr1JGp1lhc7JBMSKM/4GlK1/AL1fKOavX4s1UbPO0wQT2TSDms3zNrBv7D0H47i4ZZWslvxcz0xk4e7qqCCRX/62hc5PAE8fQQLbj9xns+yuWG2bcslK52olOGh15YtmadQW5DlzEI1wbnK2aQp2Jl8FIXs/PCwDIf3OETkhTfMjuJoNGokd7XcirYIe8O/IrCtHYzQg3rxT4J2m9ydoGFifk8eyfteKsaZk1I9xpLN6gb4Np8AYEy0Q361uShtl3txS6A==',\n",
       "                t: 'MTY2Njg4MDU1Mi4yMDcwMDA=',\n",
       "                m: 'SqoSg1w/z8KzUQ06Iz3/FiNHzKSn27L0fLSP2bpmQkk=',\n",
       "                i1: 'cjC+A8P3eFWWpzjfjDnsSA==',\n",
       "                i2: 'ty+Ga/fAc7cr6N7Z/E6Rpw==',\n",
       "                zh: '2kfjrLYfAVNem19Lin3oP+VKo7ladb55se1eVtiLLnQ=',\n",
       "                uh: 'HZL1KRhXOQOkEniYBm1JExUUTMI8JHb4+DBxUC9Snyk=',\n",
       "                hh: 'gLgMmhX/kJItEDPAzFqOlZjzCLQDUQA5c3ByqchULdk=',\n",
       "            }\n",
       "        };\n",
       "        var trkjs = document.createElement('img');\n",
       "        trkjs.setAttribute('src', '/cdn-cgi/images/trace/managed/js/transparent.gif?ray=760c159b3b1ad712');\n",
       "        trkjs.setAttribute('style', 'display: none');\n",
       "        document.body.appendChild(trkjs);\n",
       "        var cpo = document.createElement('script');\n",
       "        cpo.src = '/cdn-cgi/challenge-platform/h/g/orchestrate/managed/v1?ray=760c159b3b1ad712';\n",
       "        window._cf_chl_opt.cOgUHash = location.hash === '' && location.href.indexOf('#') !== -1 ? '#' : location.hash;\n",
       "        window._cf_chl_opt.cOgUQuery = location.search === '' && location.href.slice(0, -window._cf_chl_opt.cOgUHash.length).indexOf('?') !== -1 ? '?' : location.search;\n",
       "        if (window.history && window.history.replaceState) {\n",
       "            var ogU = location.pathname + window._cf_chl_opt.cOgUQuery + window._cf_chl_opt.cOgUHash;\n",
       "            history.replaceState(null, null, \"\\/jobs?q=python+developper&l=Paris%2C&start=0&__cf_chl_rt_tk=Si3MjD.BO1yk9Nybgzy2zTxoPmMD.j1TgIR017kYOgw-1666880552-0-gaNycGzNB6U\" + window._cf_chl_opt.cOgUHash);\n",
       "            cpo.onload = function() {\n",
       "                history.replaceState(null, null, ogU);\n",
       "            };\n",
       "        }\n",
       "        document.getElementsByTagName('head')[0].appendChild(cpo);\n",
       "    }());\n",
       "</script>\n",
       "<div class=\"footer\" role=\"contentinfo\">\n",
       "<div class=\"footer-inner\">\n",
       "<div class=\"clearfix diagnostic-wrapper\">\n",
       "<div class=\"ray-id\">Ray ID: <code>760c159b3b1ad712</code></div>\n",
       "</div>\n",
       "<div class=\"text-center\">Performance &amp; security by <a href=\"https://www.cloudflare.com?utm_source=challenge&amp;utm_campaign=m\" rel=\"noopener noreferrer\" target=\"_blank\">Cloudflare</a></div>\n",
       "</div>\n",
       "</div>\n",
       "</body>\n",
       "</html>"
      ]
     },
     "execution_count": 90,
     "metadata": {},
     "output_type": "execute_result"
    }
   ],
   "source": [
    "c"
   ]
  },
  {
   "cell_type": "code",
   "execution_count": 6,
   "id": "e8ed034f-200a-413d-af68-457d13a8daa8",
   "metadata": {},
   "outputs": [],
   "source": [
    "import time, json\n",
    "from selenium import webdriver\n",
    "from selenium.webdriver.chrome.service import Service\n",
    "from webdriver_manager.chrome import ChromeDriverManager\n",
    "from parsel import Selector\n"
   ]
  },
  {
   "cell_type": "code",
   "execution_count": null,
   "id": "4bea3b46-1d7c-4575-a489-2926b43dd9f8",
   "metadata": {},
   "outputs": [],
   "source": [
    "driver = webdriver.Chrome(executable_path=\"C:\\Program Files\\Google\\Chrome\\Application\\chrome.exe\")"
   ]
  },
  {
   "cell_type": "code",
   "execution_count": 17,
   "id": "7bd50bf5-836f-4ddb-bf2f-e227b1080813",
   "metadata": {},
   "outputs": [
    {
     "ename": "WebDriverException",
     "evalue": "Message: 'geckodriver' executable needs to be in PATH. \n",
     "output_type": "error",
     "traceback": [
      "\u001b[1;31m---------------------------------------------------------------------------\u001b[0m",
      "\u001b[1;31mFileNotFoundError\u001b[0m                         Traceback (most recent call last)",
      "\u001b[1;32mc:\\users\\projet\\project_2\\.env\\lib\\site-packages\\selenium\\webdriver\\common\\service.py\u001b[0m in \u001b[0;36mstart\u001b[1;34m(self)\u001b[0m\n\u001b[0;32m     75\u001b[0m                                             \u001b[0mstdin\u001b[0m\u001b[1;33m=\u001b[0m\u001b[0mPIPE\u001b[0m\u001b[1;33m,\u001b[0m\u001b[1;33m\u001b[0m\u001b[1;33m\u001b[0m\u001b[0m\n\u001b[1;32m---> 76\u001b[1;33m                                             creationflags=self.creationflags)\n\u001b[0m\u001b[0;32m     77\u001b[0m         \u001b[1;32mexcept\u001b[0m \u001b[0mTypeError\u001b[0m\u001b[1;33m:\u001b[0m\u001b[1;33m\u001b[0m\u001b[1;33m\u001b[0m\u001b[0m\n",
      "\u001b[1;32m~\\AppData\\Local\\Programs\\Python\\Python37\\lib\\subprocess.py\u001b[0m in \u001b[0;36m__init__\u001b[1;34m(self, args, bufsize, executable, stdin, stdout, stderr, preexec_fn, close_fds, shell, cwd, env, universal_newlines, startupinfo, creationflags, restore_signals, start_new_session, pass_fds, encoding, errors, text)\u001b[0m\n\u001b[0;32m    799\u001b[0m                                 \u001b[0merrread\u001b[0m\u001b[1;33m,\u001b[0m \u001b[0merrwrite\u001b[0m\u001b[1;33m,\u001b[0m\u001b[1;33m\u001b[0m\u001b[1;33m\u001b[0m\u001b[0m\n\u001b[1;32m--> 800\u001b[1;33m                                 restore_signals, start_new_session)\n\u001b[0m\u001b[0;32m    801\u001b[0m         \u001b[1;32mexcept\u001b[0m\u001b[1;33m:\u001b[0m\u001b[1;33m\u001b[0m\u001b[1;33m\u001b[0m\u001b[0m\n",
      "\u001b[1;32m~\\AppData\\Local\\Programs\\Python\\Python37\\lib\\subprocess.py\u001b[0m in \u001b[0;36m_execute_child\u001b[1;34m(self, args, executable, preexec_fn, close_fds, pass_fds, cwd, env, startupinfo, creationflags, shell, p2cread, p2cwrite, c2pread, c2pwrite, errread, errwrite, unused_restore_signals, unused_start_new_session)\u001b[0m\n\u001b[0;32m   1206\u001b[0m                                          \u001b[0mos\u001b[0m\u001b[1;33m.\u001b[0m\u001b[0mfspath\u001b[0m\u001b[1;33m(\u001b[0m\u001b[0mcwd\u001b[0m\u001b[1;33m)\u001b[0m \u001b[1;32mif\u001b[0m \u001b[0mcwd\u001b[0m \u001b[1;32mis\u001b[0m \u001b[1;32mnot\u001b[0m \u001b[1;32mNone\u001b[0m \u001b[1;32melse\u001b[0m \u001b[1;32mNone\u001b[0m\u001b[1;33m,\u001b[0m\u001b[1;33m\u001b[0m\u001b[1;33m\u001b[0m\u001b[0m\n\u001b[1;32m-> 1207\u001b[1;33m                                          startupinfo)\n\u001b[0m\u001b[0;32m   1208\u001b[0m             \u001b[1;32mfinally\u001b[0m\u001b[1;33m:\u001b[0m\u001b[1;33m\u001b[0m\u001b[1;33m\u001b[0m\u001b[0m\n",
      "\u001b[1;31mFileNotFoundError\u001b[0m: [WinError 2] Le fichier spécifié est introuvable",
      "\nDuring handling of the above exception, another exception occurred:\n",
      "\u001b[1;31mWebDriverException\u001b[0m                        Traceback (most recent call last)",
      "\u001b[1;32m~\\AppData\\Local\\Temp\\ipykernel_32904\\4090708740.py\u001b[0m in \u001b[0;36m<module>\u001b[1;34m\u001b[0m\n\u001b[0;32m      1\u001b[0m \u001b[1;32mfrom\u001b[0m \u001b[0mselenium\u001b[0m \u001b[1;32mimport\u001b[0m \u001b[0mwebdriver\u001b[0m\u001b[1;33m\u001b[0m\u001b[1;33m\u001b[0m\u001b[0m\n\u001b[1;32m----> 2\u001b[1;33m \u001b[0mdriver\u001b[0m \u001b[1;33m=\u001b[0m \u001b[0mwebdriver\u001b[0m\u001b[1;33m.\u001b[0m\u001b[0mFirefox\u001b[0m\u001b[1;33m(\u001b[0m\u001b[1;33m)\u001b[0m\u001b[1;33m\u001b[0m\u001b[1;33m\u001b[0m\u001b[0m\n\u001b[0m\u001b[0;32m      3\u001b[0m \u001b[0mdriver\u001b[0m\u001b[1;33m.\u001b[0m\u001b[0mget\u001b[0m\u001b[1;33m(\u001b[0m\u001b[1;34m\"https://stackoverflow.com/questions/34256762/error-could-not-find-a-version-that-satisfies-the-requirement-webdriver-from\"\u001b[0m\u001b[1;33m)\u001b[0m\u001b[1;33m\u001b[0m\u001b[1;33m\u001b[0m\u001b[0m\n",
      "\u001b[1;32mc:\\users\\projet\\project_2\\.env\\lib\\site-packages\\selenium\\webdriver\\firefox\\webdriver.py\u001b[0m in \u001b[0;36m__init__\u001b[1;34m(self, firefox_profile, firefox_binary, capabilities, proxy, executable_path, options, service_log_path, service_args, service, desired_capabilities, log_path, keep_alive)\u001b[0m\n\u001b[0;32m    170\u001b[0m                 \u001b[0mservice_args\u001b[0m\u001b[1;33m=\u001b[0m\u001b[0mservice_args\u001b[0m\u001b[1;33m,\u001b[0m\u001b[1;33m\u001b[0m\u001b[1;33m\u001b[0m\u001b[0m\n\u001b[0;32m    171\u001b[0m                 log_path=service_log_path)\n\u001b[1;32m--> 172\u001b[1;33m         \u001b[0mself\u001b[0m\u001b[1;33m.\u001b[0m\u001b[0mservice\u001b[0m\u001b[1;33m.\u001b[0m\u001b[0mstart\u001b[0m\u001b[1;33m(\u001b[0m\u001b[1;33m)\u001b[0m\u001b[1;33m\u001b[0m\u001b[1;33m\u001b[0m\u001b[0m\n\u001b[0m\u001b[0;32m    173\u001b[0m \u001b[1;33m\u001b[0m\u001b[0m\n\u001b[0;32m    174\u001b[0m         executor = FirefoxRemoteConnection(\n",
      "\u001b[1;32mc:\\users\\projet\\project_2\\.env\\lib\\site-packages\\selenium\\webdriver\\common\\service.py\u001b[0m in \u001b[0;36mstart\u001b[1;34m(self)\u001b[0m\n\u001b[0;32m     81\u001b[0m                 raise WebDriverException(\n\u001b[0;32m     82\u001b[0m                     \"'{}' executable needs to be in PATH. {}\".format(\n\u001b[1;32m---> 83\u001b[1;33m                         os.path.basename(self.path), self.start_error_message)\n\u001b[0m\u001b[0;32m     84\u001b[0m                 )\n\u001b[0;32m     85\u001b[0m             \u001b[1;32melif\u001b[0m \u001b[0merr\u001b[0m\u001b[1;33m.\u001b[0m\u001b[0merrno\u001b[0m \u001b[1;33m==\u001b[0m \u001b[0merrno\u001b[0m\u001b[1;33m.\u001b[0m\u001b[0mEACCES\u001b[0m\u001b[1;33m:\u001b[0m\u001b[1;33m\u001b[0m\u001b[1;33m\u001b[0m\u001b[0m\n",
      "\u001b[1;31mWebDriverException\u001b[0m: Message: 'geckodriver' executable needs to be in PATH. \n"
     ]
    }
   ],
   "source": [
    "from selenium import webdriver\n",
    "driver = webdriver.Firefox()\n",
    "driver.get(\"https://stackoverflow.com/questions/34256762/error-could-not-find-a-version-that-satisfies-the-requirement-webdriver-from\")"
   ]
  },
  {
   "cell_type": "code",
   "execution_count": 20,
   "id": "eb4b5b28-7f02-4d45-9cb0-29bba97e7abe",
   "metadata": {},
   "outputs": [
    {
     "name": "stderr",
     "output_type": "stream",
     "text": [
      "c:\\users\\projet\\project_2\\.env\\lib\\site-packages\\ipykernel_launcher.py:1: DeprecationWarning: executable_path has been deprecated, please pass in a Service object\n",
      "  \"\"\"Entry point for launching an IPython kernel.\n"
     ]
    },
    {
     "ename": "KeyboardInterrupt",
     "evalue": "",
     "output_type": "error",
     "traceback": [
      "\u001b[1;31m---------------------------------------------------------------------------\u001b[0m",
      "\u001b[1;31mtimeout\u001b[0m                                   Traceback (most recent call last)",
      "\u001b[1;32m~\\AppData\\Local\\Programs\\Python\\Python37\\lib\\socket.py\u001b[0m in \u001b[0;36mcreate_connection\u001b[1;34m(address, timeout, source_address)\u001b[0m\n\u001b[0;32m    715\u001b[0m                 \u001b[0msock\u001b[0m\u001b[1;33m.\u001b[0m\u001b[0mbind\u001b[0m\u001b[1;33m(\u001b[0m\u001b[0msource_address\u001b[0m\u001b[1;33m)\u001b[0m\u001b[1;33m\u001b[0m\u001b[1;33m\u001b[0m\u001b[0m\n\u001b[1;32m--> 716\u001b[1;33m             \u001b[0msock\u001b[0m\u001b[1;33m.\u001b[0m\u001b[0mconnect\u001b[0m\u001b[1;33m(\u001b[0m\u001b[0msa\u001b[0m\u001b[1;33m)\u001b[0m\u001b[1;33m\u001b[0m\u001b[1;33m\u001b[0m\u001b[0m\n\u001b[0m\u001b[0;32m    717\u001b[0m             \u001b[1;31m# Break explicitly a reference cycle\u001b[0m\u001b[1;33m\u001b[0m\u001b[1;33m\u001b[0m\u001b[1;33m\u001b[0m\u001b[0m\n",
      "\u001b[1;31mtimeout\u001b[0m: timed out",
      "\nDuring handling of the above exception, another exception occurred:\n",
      "\u001b[1;31mKeyboardInterrupt\u001b[0m                         Traceback (most recent call last)",
      "\u001b[1;32m~\\AppData\\Local\\Temp\\ipykernel_32904\\2827848855.py\u001b[0m in \u001b[0;36m<module>\u001b[1;34m\u001b[0m\n\u001b[1;32m----> 1\u001b[1;33m \u001b[0mdriver\u001b[0m \u001b[1;33m=\u001b[0m \u001b[0mwebdriver\u001b[0m\u001b[1;33m.\u001b[0m\u001b[0mChrome\u001b[0m\u001b[1;33m(\u001b[0m\u001b[0mexecutable_path\u001b[0m\u001b[1;33m=\u001b[0m\u001b[1;34m\"C:\\Program Files\\Google\\Chrome\\Application\\chrome.exe\"\u001b[0m\u001b[1;33m)\u001b[0m\u001b[1;33m\u001b[0m\u001b[1;33m\u001b[0m\u001b[0m\n\u001b[0m\u001b[0;32m      2\u001b[0m \u001b[0mdriver\u001b[0m\u001b[1;33m.\u001b[0m\u001b[0mget\u001b[0m\u001b[1;33m(\u001b[0m\u001b[1;34m\"'https://www.indeed.com/jobs?q=Data Scientist&start=0&vjk=e8bcf3fbe7498a5f'\"\u001b[0m\u001b[1;33m)\u001b[0m\u001b[1;33m\u001b[0m\u001b[1;33m\u001b[0m\u001b[0m\n\u001b[0;32m      3\u001b[0m \u001b[0mprint\u001b[0m\u001b[1;33m(\u001b[0m\u001b[0mdriver\u001b[0m\u001b[1;33m.\u001b[0m\u001b[0mpage_source\u001b[0m\u001b[1;33m)\u001b[0m\u001b[1;33m\u001b[0m\u001b[1;33m\u001b[0m\u001b[0m\n\u001b[0;32m      4\u001b[0m \u001b[0mdriver\u001b[0m\u001b[1;33m.\u001b[0m\u001b[0mquit\u001b[0m\u001b[1;33m(\u001b[0m\u001b[1;33m)\u001b[0m\u001b[1;33m\u001b[0m\u001b[1;33m\u001b[0m\u001b[0m\n",
      "\u001b[1;32mc:\\users\\projet\\project_2\\.env\\lib\\site-packages\\selenium\\webdriver\\chrome\\webdriver.py\u001b[0m in \u001b[0;36m__init__\u001b[1;34m(self, executable_path, port, options, service_args, desired_capabilities, service_log_path, chrome_options, service, keep_alive)\u001b[0m\n\u001b[0;32m     70\u001b[0m                          \u001b[0mport\u001b[0m\u001b[1;33m,\u001b[0m \u001b[0moptions\u001b[0m\u001b[1;33m,\u001b[0m\u001b[1;33m\u001b[0m\u001b[1;33m\u001b[0m\u001b[0m\n\u001b[0;32m     71\u001b[0m                          \u001b[0mservice_args\u001b[0m\u001b[1;33m,\u001b[0m \u001b[0mdesired_capabilities\u001b[0m\u001b[1;33m,\u001b[0m\u001b[1;33m\u001b[0m\u001b[1;33m\u001b[0m\u001b[0m\n\u001b[1;32m---> 72\u001b[1;33m                          service_log_path, service, keep_alive)\n\u001b[0m",
      "\u001b[1;32mc:\\users\\projet\\project_2\\.env\\lib\\site-packages\\selenium\\webdriver\\chromium\\webdriver.py\u001b[0m in \u001b[0;36m__init__\u001b[1;34m(self, browser_name, vendor_prefix, port, options, service_args, desired_capabilities, service_log_path, service, keep_alive)\u001b[0m\n\u001b[0;32m     87\u001b[0m \u001b[1;33m\u001b[0m\u001b[0m\n\u001b[0;32m     88\u001b[0m         \u001b[0mself\u001b[0m\u001b[1;33m.\u001b[0m\u001b[0mservice\u001b[0m \u001b[1;33m=\u001b[0m \u001b[0mservice\u001b[0m\u001b[1;33m\u001b[0m\u001b[1;33m\u001b[0m\u001b[0m\n\u001b[1;32m---> 89\u001b[1;33m         \u001b[0mself\u001b[0m\u001b[1;33m.\u001b[0m\u001b[0mservice\u001b[0m\u001b[1;33m.\u001b[0m\u001b[0mstart\u001b[0m\u001b[1;33m(\u001b[0m\u001b[1;33m)\u001b[0m\u001b[1;33m\u001b[0m\u001b[1;33m\u001b[0m\u001b[0m\n\u001b[0m\u001b[0;32m     90\u001b[0m \u001b[1;33m\u001b[0m\u001b[0m\n\u001b[0;32m     91\u001b[0m         \u001b[1;32mtry\u001b[0m\u001b[1;33m:\u001b[0m\u001b[1;33m\u001b[0m\u001b[1;33m\u001b[0m\u001b[0m\n",
      "\u001b[1;32mc:\\users\\projet\\project_2\\.env\\lib\\site-packages\\selenium\\webdriver\\common\\service.py\u001b[0m in \u001b[0;36mstart\u001b[1;34m(self)\u001b[0m\n\u001b[0;32m     97\u001b[0m         \u001b[1;32mwhile\u001b[0m \u001b[1;32mTrue\u001b[0m\u001b[1;33m:\u001b[0m\u001b[1;33m\u001b[0m\u001b[1;33m\u001b[0m\u001b[0m\n\u001b[0;32m     98\u001b[0m             \u001b[0mself\u001b[0m\u001b[1;33m.\u001b[0m\u001b[0massert_process_still_running\u001b[0m\u001b[1;33m(\u001b[0m\u001b[1;33m)\u001b[0m\u001b[1;33m\u001b[0m\u001b[1;33m\u001b[0m\u001b[0m\n\u001b[1;32m---> 99\u001b[1;33m             \u001b[1;32mif\u001b[0m \u001b[0mself\u001b[0m\u001b[1;33m.\u001b[0m\u001b[0mis_connectable\u001b[0m\u001b[1;33m(\u001b[0m\u001b[1;33m)\u001b[0m\u001b[1;33m:\u001b[0m\u001b[1;33m\u001b[0m\u001b[1;33m\u001b[0m\u001b[0m\n\u001b[0m\u001b[0;32m    100\u001b[0m                 \u001b[1;32mbreak\u001b[0m\u001b[1;33m\u001b[0m\u001b[1;33m\u001b[0m\u001b[0m\n\u001b[0;32m    101\u001b[0m \u001b[1;33m\u001b[0m\u001b[0m\n",
      "\u001b[1;32mc:\\users\\projet\\project_2\\.env\\lib\\site-packages\\selenium\\webdriver\\common\\service.py\u001b[0m in \u001b[0;36mis_connectable\u001b[1;34m(self)\u001b[0m\n\u001b[0;32m    114\u001b[0m \u001b[1;33m\u001b[0m\u001b[0m\n\u001b[0;32m    115\u001b[0m     \u001b[1;32mdef\u001b[0m \u001b[0mis_connectable\u001b[0m\u001b[1;33m(\u001b[0m\u001b[0mself\u001b[0m\u001b[1;33m)\u001b[0m\u001b[1;33m:\u001b[0m\u001b[1;33m\u001b[0m\u001b[1;33m\u001b[0m\u001b[0m\n\u001b[1;32m--> 116\u001b[1;33m         \u001b[1;32mreturn\u001b[0m \u001b[0mutils\u001b[0m\u001b[1;33m.\u001b[0m\u001b[0mis_connectable\u001b[0m\u001b[1;33m(\u001b[0m\u001b[0mself\u001b[0m\u001b[1;33m.\u001b[0m\u001b[0mport\u001b[0m\u001b[1;33m)\u001b[0m\u001b[1;33m\u001b[0m\u001b[1;33m\u001b[0m\u001b[0m\n\u001b[0m\u001b[0;32m    117\u001b[0m \u001b[1;33m\u001b[0m\u001b[0m\n\u001b[0;32m    118\u001b[0m     \u001b[1;32mdef\u001b[0m \u001b[0msend_remote_shutdown_command\u001b[0m\u001b[1;33m(\u001b[0m\u001b[0mself\u001b[0m\u001b[1;33m)\u001b[0m\u001b[1;33m:\u001b[0m\u001b[1;33m\u001b[0m\u001b[1;33m\u001b[0m\u001b[0m\n",
      "\u001b[1;32mc:\\users\\projet\\project_2\\.env\\lib\\site-packages\\selenium\\webdriver\\common\\utils.py\u001b[0m in \u001b[0;36mis_connectable\u001b[1;34m(port, host)\u001b[0m\n\u001b[0;32m    105\u001b[0m     \u001b[0msocket_\u001b[0m \u001b[1;33m=\u001b[0m \u001b[1;32mNone\u001b[0m\u001b[1;33m\u001b[0m\u001b[1;33m\u001b[0m\u001b[0m\n\u001b[0;32m    106\u001b[0m     \u001b[1;32mtry\u001b[0m\u001b[1;33m:\u001b[0m\u001b[1;33m\u001b[0m\u001b[1;33m\u001b[0m\u001b[0m\n\u001b[1;32m--> 107\u001b[1;33m         \u001b[0msocket_\u001b[0m \u001b[1;33m=\u001b[0m \u001b[0msocket\u001b[0m\u001b[1;33m.\u001b[0m\u001b[0mcreate_connection\u001b[0m\u001b[1;33m(\u001b[0m\u001b[1;33m(\u001b[0m\u001b[0mhost\u001b[0m\u001b[1;33m,\u001b[0m \u001b[0mport\u001b[0m\u001b[1;33m)\u001b[0m\u001b[1;33m,\u001b[0m \u001b[1;36m1\u001b[0m\u001b[1;33m)\u001b[0m\u001b[1;33m\u001b[0m\u001b[1;33m\u001b[0m\u001b[0m\n\u001b[0m\u001b[0;32m    108\u001b[0m         \u001b[0mresult\u001b[0m \u001b[1;33m=\u001b[0m \u001b[1;32mTrue\u001b[0m\u001b[1;33m\u001b[0m\u001b[1;33m\u001b[0m\u001b[0m\n\u001b[0;32m    109\u001b[0m     \u001b[1;32mexcept\u001b[0m \u001b[0m_is_connectable_exceptions\u001b[0m\u001b[1;33m:\u001b[0m\u001b[1;33m\u001b[0m\u001b[1;33m\u001b[0m\u001b[0m\n",
      "\u001b[1;32m~\\AppData\\Local\\Programs\\Python\\Python37\\lib\\socket.py\u001b[0m in \u001b[0;36mcreate_connection\u001b[1;34m(address, timeout, source_address)\u001b[0m\n\u001b[0;32m    714\u001b[0m             \u001b[1;32mif\u001b[0m \u001b[0msource_address\u001b[0m\u001b[1;33m:\u001b[0m\u001b[1;33m\u001b[0m\u001b[1;33m\u001b[0m\u001b[0m\n\u001b[0;32m    715\u001b[0m                 \u001b[0msock\u001b[0m\u001b[1;33m.\u001b[0m\u001b[0mbind\u001b[0m\u001b[1;33m(\u001b[0m\u001b[0msource_address\u001b[0m\u001b[1;33m)\u001b[0m\u001b[1;33m\u001b[0m\u001b[1;33m\u001b[0m\u001b[0m\n\u001b[1;32m--> 716\u001b[1;33m             \u001b[0msock\u001b[0m\u001b[1;33m.\u001b[0m\u001b[0mconnect\u001b[0m\u001b[1;33m(\u001b[0m\u001b[0msa\u001b[0m\u001b[1;33m)\u001b[0m\u001b[1;33m\u001b[0m\u001b[1;33m\u001b[0m\u001b[0m\n\u001b[0m\u001b[0;32m    717\u001b[0m             \u001b[1;31m# Break explicitly a reference cycle\u001b[0m\u001b[1;33m\u001b[0m\u001b[1;33m\u001b[0m\u001b[1;33m\u001b[0m\u001b[0m\n\u001b[0;32m    718\u001b[0m             \u001b[0merr\u001b[0m \u001b[1;33m=\u001b[0m \u001b[1;32mNone\u001b[0m\u001b[1;33m\u001b[0m\u001b[1;33m\u001b[0m\u001b[0m\n",
      "\u001b[1;31mKeyboardInterrupt\u001b[0m: "
     ]
    }
   ],
   "source": [
    "\n"
   ]
  },
  {
   "cell_type": "code",
   "execution_count": null,
   "id": "0e7efe8e-60fc-4e81-a2ad-e8b5612868f1",
   "metadata": {},
   "outputs": [],
   "source": [
    "driver.quit()"
   ]
  },
  {
   "cell_type": "code",
   "execution_count": 25,
   "id": "d00e8091-1766-434a-b952-d38215d7bc7f",
   "metadata": {},
   "outputs": [
    {
     "name": "stdout",
     "output_type": "stream",
     "text": [
      "Start scraping all google jobs ...\n",
      "Please, Do not close chrome driver. It will be closed automatically after finished.\n",
      "This process maybe take more than 10 minutes\n"
     ]
    },
    {
     "ename": "TypeError",
     "evalue": "__init__() takes 1 positional argument but 2 were given",
     "output_type": "error",
     "traceback": [
      "\u001b[1;31m---------------------------------------------------------------------------\u001b[0m",
      "\u001b[1;31mTypeError\u001b[0m                                 Traceback (most recent call last)",
      "\u001b[1;32m~\\AppData\\Local\\Temp\\ipykernel_32904\\758940728.py\u001b[0m in \u001b[0;36m<module>\u001b[1;34m\u001b[0m\n\u001b[0;32m    154\u001b[0m     \u001b[0mprint\u001b[0m\u001b[1;33m(\u001b[0m\u001b[1;34m'This process maybe take more than 10 minutes'\u001b[0m\u001b[1;33m)\u001b[0m\u001b[1;33m\u001b[0m\u001b[1;33m\u001b[0m\u001b[0m\n\u001b[0;32m    155\u001b[0m \u001b[1;33m\u001b[0m\u001b[0m\n\u001b[1;32m--> 156\u001b[1;33m     \u001b[0mchrome_options\u001b[0m \u001b[1;33m=\u001b[0m \u001b[0mwebdriver\u001b[0m\u001b[1;33m.\u001b[0m\u001b[0mChromeOptions\u001b[0m\u001b[1;33m(\u001b[0m\u001b[1;34m\"C:\\Program Files\\Google\\Chrome\\Application\\chrome.exe\"\u001b[0m\u001b[1;33m)\u001b[0m\u001b[1;33m\u001b[0m\u001b[1;33m\u001b[0m\u001b[0m\n\u001b[0m\u001b[0;32m    157\u001b[0m     \u001b[1;31m# Set chrome in headless mode to hide the UI\u001b[0m\u001b[1;33m\u001b[0m\u001b[1;33m\u001b[0m\u001b[1;33m\u001b[0m\u001b[0m\n\u001b[0;32m    158\u001b[0m     \u001b[1;31m# chrome_options.add_argument('headless')\u001b[0m\u001b[1;33m\u001b[0m\u001b[1;33m\u001b[0m\u001b[1;33m\u001b[0m\u001b[0m\n",
      "\u001b[1;31mTypeError\u001b[0m: __init__() takes 1 positional argument but 2 were given"
     ]
    }
   ],
   "source": [
    "import requests\n",
    "from selenium import webdriver\n",
    "from selenium.webdriver.common.by import By\n",
    "from selenium.webdriver.support.ui import WebDriverWait\n",
    "from selenium.webdriver.support import expected_conditions as EC\n",
    "from selenium.common.exceptions import TimeoutException\n",
    "from bs4 import BeautifulSoup\n",
    "import json\n",
    "import time\n",
    "\n",
    "\n",
    "jobs = []\n",
    "total = 0\n",
    "\n",
    "\n",
    "def scrape(start_url):\n",
    "    \"\"\"Prepare a website url and scrape all pages\"\"\"\n",
    "\n",
    "    # Scrape all pages\n",
    "    start = time.time()\n",
    "    count_pages = 0\n",
    "    while True:\n",
    "        website_url = start_url.replace('st=0', 'st={}'.format(count_pages))\n",
    "        try:\n",
    "            parse(website_url)\n",
    "        except TimeoutException:\n",
    "            browser.quit()\n",
    "            print('All data successfully scraped!')\n",
    "            end = time.time()\n",
    "            print('Time: {} minutes \\n'.format(round((end - start) / 60), 1))\n",
    "            break\n",
    "        count_pages += 20\n",
    "\n",
    "    # Store all jobs and total count\n",
    "    data = {\n",
    "        'total': total,\n",
    "        'jobs': jobs\n",
    "    }\n",
    "    return json.dumps(data)\n",
    "\n",
    "\n",
    "def parse(jobs_page):\n",
    "    \"\"\"Parse main jobs page and get all jobs URLs\"\"\"\n",
    "    global total\n",
    "\n",
    "    # Open first URL\n",
    "    browser.get(jobs_page)\n",
    "\n",
    "    # Waite or sleep till all page data loaded\n",
    "    WebDriverWait(browser, 20).until(\n",
    "        EC.presence_of_all_elements_located((By.CLASS_NAME, 'GXRRIBB-e-G'))\n",
    "    )\n",
    "\n",
    "    body = browser.page_source\n",
    "\n",
    "    # Parse page html to extract jobs info\n",
    "    soup = BeautifulSoup(body, 'html.parser')\n",
    "    jobs_content = soup.select('.GXRRIBB-e-G')\n",
    "\n",
    "    # Store the count of jobs located in this page\n",
    "    total += len(jobs_content)\n",
    "\n",
    "    # Get all jobs links (URLs) form jobs info (jobs_content variable)\n",
    "    jobs_urls = []\n",
    "    for job in jobs_content:\n",
    "        job_header = job.select_one('h2 a')\n",
    "\n",
    "        # Check that the job related to Google company\n",
    "        # To make sure that the html structure will be the same\n",
    "        company = job.select_one(\n",
    "            'div.sr-content div.summary .secondary-text').get_text()\n",
    "        if company != 'DeepMind':\n",
    "            job_link = 'https://careers.google.com/jobs'\\\n",
    "                       + job_header.get('href')\n",
    "            jobs_urls.append(job_link)\n",
    "\n",
    "    parse_jobs(jobs_urls)\n",
    "\n",
    "\n",
    "def parse_jobs(jobs_urls):\n",
    "    \n",
    "    \n",
    "    \"\"\"Parse all jobs data\"\"\"\n",
    "    global jobs\n",
    "\n",
    "    # Open jobs URLs one by one to get page html\n",
    "    jobs_html = []\n",
    "    for url in jobs_urls:\n",
    "        browser.execute_script(\"window.open('{}', 'new_window')\".format(url))\n",
    "        browser.switch_to.window(browser.window_handles[1])\n",
    "\n",
    "        # Waite till all page data loaded\n",
    "        try:\n",
    "            WebDriverWait(browser, 20).until(\n",
    "                EC.element_to_be_clickable((By.CSS_SELECTOR, 'a.secondary-text'))\n",
    "            )\n",
    "        except TimeoutException:\n",
    "            browser.close()\n",
    "            browser.switch_to.window(browser.window_handles[0])\n",
    "            continue\n",
    "        '''\n",
    "        WebDriverWait(browser, 20).until(\n",
    "            EC.presence_of_all_elements_located((By.CSS_SELECTOR, '.description-section p'))\n",
    "        )\n",
    "        '''\n",
    "\n",
    "        jobs_html.append(browser.page_source)\n",
    "\n",
    "        # Close the current windows and switch to the main window\n",
    "        browser.close()\n",
    "        browser.switch_to.window(browser.window_handles[0])\n",
    "\n",
    "    # Parse all pages html to get jobs data\n",
    "    jobs_list = []\n",
    "    for job in jobs_html:\n",
    "        soup = BeautifulSoup(job, 'html.parser')\n",
    "        job_id = soup.find('div', attrs={'itemtype': 'http://schema.org/JobPosting'}).get('id')\n",
    "        job_title = soup.select_one('div.card-company-job-details > h1 a.title.text').get_text()\n",
    "        location = soup.select_one('div.card-company-job-details .details-panel > a').get_text()\n",
    "        desc = soup.select_one('div.detail-item .description-section.text.with-benefits').get_text()\n",
    "        resp_qual = soup.select('div.detail-item .description-section .GXRRIBB-S-c .description-content')\n",
    "        resp = resp_qual[0].get_text()\n",
    "        qual = resp_qual[1].get_text()\n",
    "\n",
    "        job_dict = {\n",
    "            'job_id': job_id,\n",
    "            'title': job_title,\n",
    "            'location': location,\n",
    "            'intro': desc,\n",
    "            'resps': resp,\n",
    "            'quals': qual\n",
    "        }\n",
    "\n",
    "        jobs_list.append(job_dict)\n",
    "\n",
    "    # Store the current jobs list with all scraped lists before\n",
    "    jobs += jobs_list\n",
    "\n",
    "\n",
    "if __name__ == '__main__':\n",
    "    print('Start scraping all google jobs ...')\n",
    "\n",
    "    # Prepare the URL\n",
    "    base_url = 'https://careers.google.com/jobs'\n",
    "    params = {\n",
    "        't': 'sq',\n",
    "        'li': '20',\n",
    "        'st': '0',\n",
    "        'jlo': 'all'\n",
    "    }\n",
    "    result = requests.get(url=base_url, params=params)\n",
    "    url = result.url.replace('?', '#')\n",
    "    \n",
    "    print('Please, Do not close chrome driver. '\n",
    "          'It will be closed automatically after finished.')\n",
    "    print('This process maybe take more than 10 minutes')\n",
    "\n",
    "    chrome_options = webdriver.ChromeOptions(\"C:\\Program Files\\Google\\Chrome\\Application\\chrome.exe\")\n",
    "    # Set chrome in headless mode to hide the UI\n",
    "    # chrome_options.add_argument('headless')\n",
    "    \n",
    "    # Creates and open a new instance of the chrome driver\n",
    "    browser = webdriver.Chrome(chrome_options=chrome_options)\n",
    "\n",
    "    data_json = scrape(url)\n",
    "    print(data_json)\n",
    "    with open('data.json', 'w') as file:\n",
    "        json.dump(json.loads(data_json), file)"
   ]
  },
  {
   "cell_type": "code",
   "execution_count": 37,
   "id": "a7f063bd-466b-4da0-8433-4f33762ab362",
   "metadata": {},
   "outputs": [],
   "source": [
    "url = \"https://www.indeed.com/jobs?q=Data Scientist&start=0&vjk=e8bcf3fbe7498a5f\""
   ]
  },
  {
   "cell_type": "code",
   "execution_count": 11,
   "id": "c086a515-1385-43b9-bb36-7bcebcb704b7",
   "metadata": {},
   "outputs": [
    {
     "name": "stderr",
     "output_type": "stream",
     "text": [
      "c:\\users\\projet\\project_2\\.env\\lib\\site-packages\\ipykernel_launcher.py:1: DeprecationWarning: executable_path has been deprecated, please pass in a Service object\n",
      "  \"\"\"Entry point for launching an IPython kernel.\n"
     ]
    },
    {
     "ename": "NameError",
     "evalue": "name 'options' is not defined",
     "output_type": "error",
     "traceback": [
      "\u001b[1;31m---------------------------------------------------------------------------\u001b[0m",
      "\u001b[1;31mNameError\u001b[0m                                 Traceback (most recent call last)",
      "\u001b[1;32m~\\AppData\\Local\\Temp\\ipykernel_25012\\1962253795.py\u001b[0m in \u001b[0;36m<module>\u001b[1;34m\u001b[0m\n\u001b[0;32m      1\u001b[0m \u001b[0mdriver\u001b[0m \u001b[1;33m=\u001b[0m \u001b[0mwebdriver\u001b[0m\u001b[1;33m.\u001b[0m\u001b[0mChrome\u001b[0m\u001b[1;33m(\u001b[0m\u001b[0mexecutable_path\u001b[0m\u001b[1;33m=\u001b[0m\u001b[1;34m\"C:/Users/Projet/Downloads/chromedriver_win32/chromedriver.exe\"\u001b[0m\u001b[1;33m)\u001b[0m\u001b[1;33m\u001b[0m\u001b[1;33m\u001b[0m\u001b[0m\n\u001b[1;32m----> 2\u001b[1;33m \u001b[0mdriver\u001b[0m \u001b[1;33m=\u001b[0m \u001b[0mwebdriver\u001b[0m\u001b[1;33m.\u001b[0m\u001b[0mChrome\u001b[0m\u001b[1;33m(\u001b[0m\u001b[0moptions\u001b[0m \u001b[1;33m=\u001b[0m \u001b[0moptions\u001b[0m\u001b[1;33m)\u001b[0m\u001b[1;33m\u001b[0m\u001b[1;33m\u001b[0m\u001b[0m\n\u001b[0m\u001b[0;32m      3\u001b[0m \u001b[0mdriver\u001b[0m\u001b[1;33m.\u001b[0m\u001b[0mmaximize_window\u001b[0m\u001b[1;33m(\u001b[0m\u001b[1;33m)\u001b[0m\u001b[1;33m\u001b[0m\u001b[1;33m\u001b[0m\u001b[0m\n\u001b[0;32m      4\u001b[0m \u001b[0mdriver\u001b[0m\u001b[1;33m.\u001b[0m\u001b[0mget\u001b[0m\u001b[1;33m(\u001b[0m\u001b[1;34m\"https://www.reddit.com/\"\u001b[0m\u001b[1;33m)\u001b[0m\u001b[1;33m\u001b[0m\u001b[1;33m\u001b[0m\u001b[0m\n\u001b[0;32m      5\u001b[0m \u001b[0mwait\u001b[0m \u001b[1;33m=\u001b[0m \u001b[0mWebDriverWait\u001b[0m\u001b[1;33m(\u001b[0m\u001b[0mdriver\u001b[0m\u001b[1;33m,\u001b[0m \u001b[1;36m10\u001b[0m\u001b[1;33m)\u001b[0m\u001b[1;33m\u001b[0m\u001b[1;33m\u001b[0m\u001b[0m\n",
      "\u001b[1;31mNameError\u001b[0m: name 'options' is not defined"
     ]
    }
   ],
   "source": [
    "driver = webdriver.Chrome(executable_path=\"C:/Users/Projet/Downloads/chromedriver_win32/chromedriver.exe\")\n",
    "driver = webdriver.Chrome(options = options)\n",
    "driver.maximize_window()\n",
    "driver.get(\"https://www.reddit.com/\")\n",
    "wait = WebDriverWait(driver, 10)"
   ]
  },
  {
   "cell_type": "code",
   "execution_count": null,
   "id": "cc030a98-02c7-4425-831d-d4c6b05014f1",
   "metadata": {},
   "outputs": [],
   "source": [
    "keyword = input("
   ]
  },
  {
   "cell_type": "code",
   "execution_count": null,
   "id": "515e36df-a369-4a05-a1b7-6a96aa7a9b2f",
   "metadata": {},
   "outputs": [],
   "source": [
    "driver.get(\"https://www.indeed.com/jobs?q=Data Scientist&start=0&vjk=e8bcf3fbe7498a5f\")\n",
    "print(driver.page_source)"
   ]
  },
  {
   "cell_type": "code",
   "execution_count": null,
   "id": "02a7ec3a-fb45-46fd-abc3-cf7a9dcc887a",
   "metadata": {},
   "outputs": [],
   "source": [
    "def scrape(start_url):\n",
    "    \"\"\"Prepare a website url and scrape all pages\"\"\"\n",
    "\n",
    "    # Scrape all pages\n",
    "    start = time.time()\n",
    "    count_pages = 0\n",
    "    while True:\n",
    "        website_url = start_url.replace('st=0', 'st={}'.format(count_pages))\n",
    "        try:\n",
    "            parse(website_url)\n",
    "        except TimeoutException:\n",
    "            browser.quit()\n",
    "            print('All data successfully scraped!')\n",
    "            end = time.time()\n",
    "            print('Time: {} minutes \\n'.format(round((end - start) / 60), 1))\n",
    "            break\n",
    "        count_pages += 20\n",
    "\n",
    "    # Store all jobs and total count\n",
    "    data = {\n",
    "        'total': total,\n",
    "        'jobs': jobs\n",
    "    }\n",
    "    return json.dumps(data)"
   ]
  },
  {
   "cell_type": "code",
   "execution_count": 5,
   "id": "cdef76b1-8d9b-4a06-98b3-444f2beebdf1",
   "metadata": {},
   "outputs": [
    {
     "name": "stderr",
     "output_type": "stream",
     "text": [
      "c:\\users\\projet\\project_2\\.env\\lib\\site-packages\\ipykernel_launcher.py:1: DeprecationWarning: executable_path has been deprecated, please pass in a Service object\n",
      "  \"\"\"Entry point for launching an IPython kernel.\n"
     ]
    },
    {
     "ename": "WebDriverException",
     "evalue": "Message: Can not connect to the Service C:\\Program Files\\Google\\Chrome\\Application\\chrome.exe\n",
     "output_type": "error",
     "traceback": [
      "\u001b[1;31m---------------------------------------------------------------------------\u001b[0m",
      "\u001b[1;31mWebDriverException\u001b[0m                        Traceback (most recent call last)",
      "\u001b[1;32m~\\AppData\\Local\\Temp\\ipykernel_25012\\3693715870.py\u001b[0m in \u001b[0;36m<module>\u001b[1;34m\u001b[0m\n\u001b[1;32m----> 1\u001b[1;33m \u001b[0mdriver\u001b[0m \u001b[1;33m=\u001b[0m \u001b[0mwebdriver\u001b[0m\u001b[1;33m.\u001b[0m\u001b[0mChrome\u001b[0m\u001b[1;33m(\u001b[0m\u001b[1;34m\"C:\\Program Files\\Google\\Chrome\\Application\\chrome.exe\"\u001b[0m\u001b[1;33m)\u001b[0m\u001b[1;33m\u001b[0m\u001b[1;33m\u001b[0m\u001b[0m\n\u001b[0m\u001b[0;32m      2\u001b[0m \u001b[0mdriver\u001b[0m\u001b[1;33m.\u001b[0m\u001b[0mget\u001b[0m\u001b[1;33m(\u001b[0m\u001b[1;34m\"http://www.ebay.fr\"\u001b[0m\u001b[1;33m)\u001b[0m\u001b[1;33m\u001b[0m\u001b[1;33m\u001b[0m\u001b[0m\n\u001b[0;32m      3\u001b[0m \u001b[1;33m\u001b[0m\u001b[0m\n\u001b[0;32m      4\u001b[0m \u001b[1;31m# En fonction de notre connection et des performance de notre machine il faudra attendre\u001b[0m\u001b[1;33m\u001b[0m\u001b[1;33m\u001b[0m\u001b[1;33m\u001b[0m\u001b[0m\n\u001b[0;32m      5\u001b[0m \u001b[1;33m\u001b[0m\u001b[0m\n",
      "\u001b[1;32mc:\\users\\projet\\project_2\\.env\\lib\\site-packages\\selenium\\webdriver\\chrome\\webdriver.py\u001b[0m in \u001b[0;36m__init__\u001b[1;34m(self, executable_path, port, options, service_args, desired_capabilities, service_log_path, chrome_options, service, keep_alive)\u001b[0m\n\u001b[0;32m     70\u001b[0m                          \u001b[0mport\u001b[0m\u001b[1;33m,\u001b[0m \u001b[0moptions\u001b[0m\u001b[1;33m,\u001b[0m\u001b[1;33m\u001b[0m\u001b[1;33m\u001b[0m\u001b[0m\n\u001b[0;32m     71\u001b[0m                          \u001b[0mservice_args\u001b[0m\u001b[1;33m,\u001b[0m \u001b[0mdesired_capabilities\u001b[0m\u001b[1;33m,\u001b[0m\u001b[1;33m\u001b[0m\u001b[1;33m\u001b[0m\u001b[0m\n\u001b[1;32m---> 72\u001b[1;33m                          service_log_path, service, keep_alive)\n\u001b[0m",
      "\u001b[1;32mc:\\users\\projet\\project_2\\.env\\lib\\site-packages\\selenium\\webdriver\\chromium\\webdriver.py\u001b[0m in \u001b[0;36m__init__\u001b[1;34m(self, browser_name, vendor_prefix, port, options, service_args, desired_capabilities, service_log_path, service, keep_alive)\u001b[0m\n\u001b[0;32m     87\u001b[0m \u001b[1;33m\u001b[0m\u001b[0m\n\u001b[0;32m     88\u001b[0m         \u001b[0mself\u001b[0m\u001b[1;33m.\u001b[0m\u001b[0mservice\u001b[0m \u001b[1;33m=\u001b[0m \u001b[0mservice\u001b[0m\u001b[1;33m\u001b[0m\u001b[1;33m\u001b[0m\u001b[0m\n\u001b[1;32m---> 89\u001b[1;33m         \u001b[0mself\u001b[0m\u001b[1;33m.\u001b[0m\u001b[0mservice\u001b[0m\u001b[1;33m.\u001b[0m\u001b[0mstart\u001b[0m\u001b[1;33m(\u001b[0m\u001b[1;33m)\u001b[0m\u001b[1;33m\u001b[0m\u001b[1;33m\u001b[0m\u001b[0m\n\u001b[0m\u001b[0;32m     90\u001b[0m \u001b[1;33m\u001b[0m\u001b[0m\n\u001b[0;32m     91\u001b[0m         \u001b[1;32mtry\u001b[0m\u001b[1;33m:\u001b[0m\u001b[1;33m\u001b[0m\u001b[1;33m\u001b[0m\u001b[0m\n",
      "\u001b[1;32mc:\\users\\projet\\project_2\\.env\\lib\\site-packages\\selenium\\webdriver\\common\\service.py\u001b[0m in \u001b[0;36mstart\u001b[1;34m(self)\u001b[0m\n\u001b[0;32m    103\u001b[0m             \u001b[0msleep\u001b[0m\u001b[1;33m(\u001b[0m\u001b[1;36m0.5\u001b[0m\u001b[1;33m)\u001b[0m\u001b[1;33m\u001b[0m\u001b[1;33m\u001b[0m\u001b[0m\n\u001b[0;32m    104\u001b[0m             \u001b[1;32mif\u001b[0m \u001b[0mcount\u001b[0m \u001b[1;33m==\u001b[0m \u001b[1;36m60\u001b[0m\u001b[1;33m:\u001b[0m\u001b[1;33m\u001b[0m\u001b[1;33m\u001b[0m\u001b[0m\n\u001b[1;32m--> 105\u001b[1;33m                 \u001b[1;32mraise\u001b[0m \u001b[0mWebDriverException\u001b[0m\u001b[1;33m(\u001b[0m\u001b[1;34m\"Can not connect to the Service %s\"\u001b[0m \u001b[1;33m%\u001b[0m \u001b[0mself\u001b[0m\u001b[1;33m.\u001b[0m\u001b[0mpath\u001b[0m\u001b[1;33m)\u001b[0m\u001b[1;33m\u001b[0m\u001b[1;33m\u001b[0m\u001b[0m\n\u001b[0m\u001b[0;32m    106\u001b[0m \u001b[1;33m\u001b[0m\u001b[0m\n\u001b[0;32m    107\u001b[0m     \u001b[1;32mdef\u001b[0m \u001b[0massert_process_still_running\u001b[0m\u001b[1;33m(\u001b[0m\u001b[0mself\u001b[0m\u001b[1;33m)\u001b[0m\u001b[1;33m:\u001b[0m\u001b[1;33m\u001b[0m\u001b[1;33m\u001b[0m\u001b[0m\n",
      "\u001b[1;31mWebDriverException\u001b[0m: Message: Can not connect to the Service C:\\Program Files\\Google\\Chrome\\Application\\chrome.exe\n"
     ]
    }
   ],
   "source": [
    "driver = webdriver.Chrome(\"C:\\Program Files\\Google\\Chrome\\Application\\chrome.exe\")\n",
    "driver.get(\"http://www.ebay.fr\")\n",
    " \n",
    "# En fonction de notre connection et des performance de notre machine il faudra attendre\n",
    " \n"
   ]
  },
  {
   "cell_type": "code",
   "execution_count": null,
   "id": "48f36e7b-c247-4c6f-951f-6cfefa462979",
   "metadata": {},
   "outputs": [],
   "source": [
    "# que la page charge avant de passer à la suite\n",
    "time.sleep(10)"
   ]
  },
  {
   "cell_type": "code",
   "execution_count": null,
   "id": "28b681a8-5b6f-479f-89b0-9237cb2341fb",
   "metadata": {},
   "outputs": [],
   "source": [
    "search_bar = driver.find_element_by_name(\"_nkw\")\n",
    "search_bar.send_keys(\"iphone\")\n",
    "search_bar.send_keys(Keys.ENTER)"
   ]
  },
  {
   "cell_type": "code",
   "execution_count": null,
   "id": "fd7adca6-87dc-43ba-a9e8-e5495885c1c5",
   "metadata": {},
   "outputs": [],
   "source": [
    "is_last_page = False\n",
    "while not is_last_page:\n",
    "    offers = driver.find_elements_by_css_selector(\"div#ResultSetItems &amp;amp;amp;amp;amp;amp;gt; ul &amp;amp;amp;amp;amp;amp;gt; li.sresult\")\n",
    "    for offer in offers:\n",
    "        title = offer.find_element_by_css_selector(\"h3.lvtitle a\").get_attribute(\"title\")\n",
    "        print(\"Titre : \",title)\n",
    "        image = offer.find_element_by_css_selector(\"div.lvpicinner img.img\").get_attribute(\"src\")\n",
    "        print(\"Image : \",image)\n",
    "        price = offer.find_element_by_css_selector(\"li.lvprice span\").text\n",
    "        print(\"Prix : \",price)\n",
    "        print(\"\")\n",
    "    next_page = driver.find_element_by_css_selector(\"table#Pagination a.next\")\n",
    "    is_last_page = next_page.get_attribute(\"arial-disabled\")\n",
    "    if is_last_page == \"true\" or is_last_page == \"True\":\n",
    "        is_last_page = True\n",
    "    else:\n",
    "        next_page.click()\n",
    "    sleep(10)"
   ]
  },
  {
   "cell_type": "markdown",
   "id": "586b5a4d-b1e5-4ca3-a6e2-e8956fe9e72e",
   "metadata": {},
   "source": [
    "## Nouvelle demarche"
   ]
  },
  {
   "cell_type": "code",
   "execution_count": 88,
   "id": "7dfb926d-e6a9-4c76-a498-953754474ac8",
   "metadata": {},
   "outputs": [],
   "source": [
    "## library\n",
    "\n",
    "from selenium import webdriver\n",
    "from selenium.webdriver.common.by import By\n",
    "import time\n",
    "from selenium.webdriver.chrome.service import Service\n",
    "from selenium.common.exceptions import NoSuchElementException"
   ]
  },
  {
   "cell_type": "code",
   "execution_count": 75,
   "id": "ecf58f42-603f-40cb-91e7-6acc005d43d4",
   "metadata": {},
   "outputs": [],
   "source": [
    "path = Service(\"C:/Users/Projet/Downloads/chromedriver_win32/chromedriver.exe\")\n",
    "driver = webdriver.Chrome(service=path)\n",
    "fixed_url = \"https://www.google.com/search?q=job+google&rlz=1C1CHBD_frFR1026FR1026&oq=job+google&aqs=chrome..69i57j69i60l3.5851j0j7&sourceid=chrome&ie=UTF-8&ibp=htl;jobs&sa=X&ved=2ahUKEwjL6sPjxoL7AhUIxoUKHawtBkkQutcGKAB6BAgQEBA#htivrt=jobs&htidocid=r9W68HCPBhEAAAAAAAAAAA%3D%3D&fpstate=tldetail\"\n",
    "driver.get(fixed_url)"
   ]
  },
  {
   "cell_type": "code",
   "execution_count": 104,
   "id": "da2d8b7a-65de-4e49-9fd4-24ae0d9e608d",
   "metadata": {},
   "outputs": [],
   "source": [
    "## enter inside google jobs\n",
    "\n",
    "enter_google_job = driver.find_element(By.XPATH, '//*[@id=\"yDmH0d\"]/c-wiz/div/div/div/div[2]/div[1]/div[3]/div[1]/div[1]/form[2]/div/div/button')\n",
    "enter_google_job.click()\n",
    "time.sleep(2)"
   ]
  },
  {
   "cell_type": "code",
   "execution_count": 31,
   "id": "f076f7ff-67fe-420a-9893-52a76dd975dd",
   "metadata": {},
   "outputs": [],
   "source": []
  },
  {
   "cell_type": "code",
   "execution_count": 33,
   "id": "cce168d5-bc68-4b1e-ac4a-fc5860394c06",
   "metadata": {},
   "outputs": [],
   "source": []
  },
  {
   "cell_type": "code",
   "execution_count": 105,
   "id": "0a5a86a6-5e97-4eac-a691-17c53503622d",
   "metadata": {},
   "outputs": [],
   "source": [
    "## delete word in search barre\n",
    "empty_search = driver.find_element(By.XPATH, '//*[@id=\"hs-qsb\"]')\n",
    "time.sleep(2)\n",
    "empty_search.clear()\n",
    "time.sleep(2)"
   ]
  },
  {
   "cell_type": "code",
   "execution_count": 35,
   "id": "ed25dbcf-0ecd-447e-b05d-5087d12acf70",
   "metadata": {},
   "outputs": [],
   "source": []
  },
  {
   "cell_type": "code",
   "execution_count": 106,
   "id": "3a3c820e-3620-4084-a1f0-861e97c60676",
   "metadata": {},
   "outputs": [],
   "source": [
    "## key word search\n",
    "search_key_word = \"Data Scienist\"\n",
    "\n",
    "job_search = driver.find_element(By.XPATH, '//*[@id=\"hs-qsb\"]')\n",
    "time.sleep(2)\n",
    "job_search.send_keys(search_key_word)\n",
    "time.sleep(2)\n",
    "clique_to_search = driver.find_element(By.XPATH, '//*[@id=\"gb\"]/div[2]/div[2]/div/form/button[3]')\n",
    "clique_to_search.click()\n",
    "time.sleep(1)"
   ]
  },
  {
   "cell_type": "code",
   "execution_count": null,
   "id": "c67a366a-d116-4687-848a-e90b624cc4b2",
   "metadata": {},
   "outputs": [],
   "source": [
    "## recup job title\n",
    "job_title = driver.find_element(By.XPATH, '//*[@id=\"VoQFxe\"]/div[1]/div/ul/li[4]/div/div[2]/div[2]/div/div/div[2]/div[2]')\n",
    "job_title.get_attribute('textContent')\n",
    "time.sleep(2)"
   ]
  },
  {
   "cell_type": "code",
   "execution_count": null,
   "id": "b85915d0-0654-4122-aec2-db662f9b3471",
   "metadata": {},
   "outputs": [],
   "source": [
    "## recup compagnie\n",
    "\n",
    "compagnie = driver.find_element(By.XPATH, '//*[@id=\"VoQFxe\"]/div[1]/div/ul/li[2]/div/div[2]/div[2]/div/div/div[3]/div/div[1]')\n",
    "compagnie.get_attribute('textContent')"
   ]
  },
  {
   "cell_type": "code",
   "execution_count": null,
   "id": "4585df79-9aa4-41b3-a435-b4ad84225e91",
   "metadata": {},
   "outputs": [],
   "source": [
    "//*[@id=\"gws-plugins-horizon-jobs__job_details_page\"]/div/div[4]/div/span\n",
    "//*[@id=\"gws-plugins-horizon-jobs__job_details_page\"]/div/div[4]/div/span\n",
    "\n",
    "\n",
    "##########\n",
    "//*[@id=\"gws-plugins-horizon-jobs__job_details_page\"]/div/div[4]/div\n",
    "//*[@id=\"gws-plugins-horizon-jobs__job_details_page\"]/div/div[4]/div/span"
   ]
  },
  {
   "cell_type": "code",
   "execution_count": null,
   "id": "aca13fda-b05e-4766-a9fc-e3c513e532ef",
   "metadata": {},
   "outputs": [],
   "source": [
    "//*[@id=\"gws-plugins-horizon-jobs__job_details_page\"]/div/div[4]/div\n",
    "//*[@id=\"gws-plugins-horizon-jobs__job_details_page\"]\n",
    "//*[@id=\"gws-plugins-horizon-jobs__job_details_page\"]/div"
   ]
  },
  {
   "cell_type": "code",
   "execution_count": 118,
   "id": "a1fbe19d-52ac-48fd-acbd-83fba69a9244",
   "metadata": {},
   "outputs": [
    {
     "ename": "InvalidSelectorException",
     "evalue": "Message: invalid selector: Unable to locate an element with the xpath expression //*[@id=\"VoQFxe\"]/div[1]/div/ul/li[{i}]/div/div[2]/div[2]/div/div/div[2]/div[4]/span because of the following error:\nSyntaxError: Failed to execute 'evaluate' on 'Document': The string '//*[@id=\"VoQFxe\"]/div[1]/div/ul/li[{i}]/div/div[2]/div[2]/div/div/div[2]/div[4]/span' is not a valid XPath expression.\n  (Session info: chrome=106.0.5249.119)\nStacktrace:\nBacktrace:\n\tOrdinal0 [0x00F21ED3+2236115]\n\tOrdinal0 [0x00EB92F1+1807089]\n\tOrdinal0 [0x00DC66FD+812797]\n\tOrdinal0 [0x00DC92B4+823988]\n\tOrdinal0 [0x00DC9165+823653]\n\tOrdinal0 [0x00DC9400+824320]\n\tOrdinal0 [0x00DF5352+1004370]\n\tOrdinal0 [0x00DF57CB+1005515]\n\tOrdinal0 [0x00E27632+1209906]\n\tOrdinal0 [0x00E11AD4+1120980]\n\tOrdinal0 [0x00E259E2+1202658]\n\tOrdinal0 [0x00E118A6+1120422]\n\tOrdinal0 [0x00DEA73D+960317]\n\tOrdinal0 [0x00DEB71F+964383]\n\tGetHandleVerifier [0x011CE7E2+2743074]\n\tGetHandleVerifier [0x011C08D4+2685972]\n\tGetHandleVerifier [0x00FB2BAA+532202]\n\tGetHandleVerifier [0x00FB1990+527568]\n\tOrdinal0 [0x00EC080C+1837068]\n\tOrdinal0 [0x00EC4CD8+1854680]\n\tOrdinal0 [0x00EC4DC5+1854917]\n\tOrdinal0 [0x00ECED64+1895780]\n\tBaseThreadInitThunk [0x76A5FA29+25]\n\tRtlGetAppContainerNamedObjectPath [0x77897BBE+286]\n\tRtlGetAppContainerNamedObjectPath [0x77897B8E+238]\n",
     "output_type": "error",
     "traceback": [
      "\u001b[1;31m---------------------------------------------------------------------------\u001b[0m",
      "\u001b[1;31mInvalidSelectorException\u001b[0m                  Traceback (most recent call last)",
      "\u001b[1;32m~\\AppData\\Local\\Temp\\ipykernel_13880\\4140181892.py\u001b[0m in \u001b[0;36m<module>\u001b[1;34m\u001b[0m\n\u001b[1;32m----> 1\u001b[1;33m \u001b[0mtoto\u001b[0m \u001b[1;33m=\u001b[0m \u001b[0mdriver\u001b[0m\u001b[1;33m.\u001b[0m\u001b[0mfind_element\u001b[0m\u001b[1;33m(\u001b[0m\u001b[0mBy\u001b[0m\u001b[1;33m.\u001b[0m\u001b[0mXPATH\u001b[0m\u001b[1;33m,\u001b[0m \u001b[1;34m'//*[@id=\"VoQFxe\"]/div[1]/div/ul/li[{i}]/div/div[2]/div[2]/div/div/div[2]/div[4]/span'\u001b[0m\u001b[1;33m)\u001b[0m\u001b[1;33m\u001b[0m\u001b[1;33m\u001b[0m\u001b[0m\n\u001b[0m\u001b[0;32m      2\u001b[0m \u001b[0mtoto\u001b[0m\u001b[1;33m.\u001b[0m\u001b[0mget_attribute\u001b[0m\u001b[1;33m(\u001b[0m\u001b[1;34m'textContent'\u001b[0m\u001b[1;33m)\u001b[0m\u001b[1;33m\u001b[0m\u001b[1;33m\u001b[0m\u001b[0m\n",
      "\u001b[1;32mc:\\users\\projet\\project_2\\.env\\lib\\site-packages\\selenium\\webdriver\\remote\\webdriver.py\u001b[0m in \u001b[0;36mfind_element\u001b[1;34m(self, by, value)\u001b[0m\n\u001b[0;32m    856\u001b[0m         return self.execute(Command.FIND_ELEMENT, {\n\u001b[0;32m    857\u001b[0m             \u001b[1;34m'using'\u001b[0m\u001b[1;33m:\u001b[0m \u001b[0mby\u001b[0m\u001b[1;33m,\u001b[0m\u001b[1;33m\u001b[0m\u001b[1;33m\u001b[0m\u001b[0m\n\u001b[1;32m--> 858\u001b[1;33m             'value': value})['value']\n\u001b[0m\u001b[0;32m    859\u001b[0m \u001b[1;33m\u001b[0m\u001b[0m\n\u001b[0;32m    860\u001b[0m     \u001b[1;32mdef\u001b[0m \u001b[0mfind_elements\u001b[0m\u001b[1;33m(\u001b[0m\u001b[0mself\u001b[0m\u001b[1;33m,\u001b[0m \u001b[0mby\u001b[0m\u001b[1;33m=\u001b[0m\u001b[0mBy\u001b[0m\u001b[1;33m.\u001b[0m\u001b[0mID\u001b[0m\u001b[1;33m,\u001b[0m \u001b[0mvalue\u001b[0m\u001b[1;33m:\u001b[0m \u001b[0mOptional\u001b[0m\u001b[1;33m[\u001b[0m\u001b[0mstr\u001b[0m\u001b[1;33m]\u001b[0m \u001b[1;33m=\u001b[0m \u001b[1;32mNone\u001b[0m\u001b[1;33m)\u001b[0m \u001b[1;33m->\u001b[0m \u001b[0mList\u001b[0m\u001b[1;33m[\u001b[0m\u001b[0mWebElement\u001b[0m\u001b[1;33m]\u001b[0m\u001b[1;33m:\u001b[0m\u001b[1;33m\u001b[0m\u001b[1;33m\u001b[0m\u001b[0m\n",
      "\u001b[1;32mc:\\users\\projet\\project_2\\.env\\lib\\site-packages\\selenium\\webdriver\\remote\\webdriver.py\u001b[0m in \u001b[0;36mexecute\u001b[1;34m(self, driver_command, params)\u001b[0m\n\u001b[0;32m    427\u001b[0m         \u001b[0mresponse\u001b[0m \u001b[1;33m=\u001b[0m \u001b[0mself\u001b[0m\u001b[1;33m.\u001b[0m\u001b[0mcommand_executor\u001b[0m\u001b[1;33m.\u001b[0m\u001b[0mexecute\u001b[0m\u001b[1;33m(\u001b[0m\u001b[0mdriver_command\u001b[0m\u001b[1;33m,\u001b[0m \u001b[0mparams\u001b[0m\u001b[1;33m)\u001b[0m\u001b[1;33m\u001b[0m\u001b[1;33m\u001b[0m\u001b[0m\n\u001b[0;32m    428\u001b[0m         \u001b[1;32mif\u001b[0m \u001b[0mresponse\u001b[0m\u001b[1;33m:\u001b[0m\u001b[1;33m\u001b[0m\u001b[1;33m\u001b[0m\u001b[0m\n\u001b[1;32m--> 429\u001b[1;33m             \u001b[0mself\u001b[0m\u001b[1;33m.\u001b[0m\u001b[0merror_handler\u001b[0m\u001b[1;33m.\u001b[0m\u001b[0mcheck_response\u001b[0m\u001b[1;33m(\u001b[0m\u001b[0mresponse\u001b[0m\u001b[1;33m)\u001b[0m\u001b[1;33m\u001b[0m\u001b[1;33m\u001b[0m\u001b[0m\n\u001b[0m\u001b[0;32m    430\u001b[0m             response['value'] = self._unwrap_value(\n\u001b[0;32m    431\u001b[0m                 response.get('value', None))\n",
      "\u001b[1;32mc:\\users\\projet\\project_2\\.env\\lib\\site-packages\\selenium\\webdriver\\remote\\errorhandler.py\u001b[0m in \u001b[0;36mcheck_response\u001b[1;34m(self, response)\u001b[0m\n\u001b[0;32m    241\u001b[0m                 \u001b[0malert_text\u001b[0m \u001b[1;33m=\u001b[0m \u001b[0mvalue\u001b[0m\u001b[1;33m[\u001b[0m\u001b[1;34m'alert'\u001b[0m\u001b[1;33m]\u001b[0m\u001b[1;33m.\u001b[0m\u001b[0mget\u001b[0m\u001b[1;33m(\u001b[0m\u001b[1;34m'text'\u001b[0m\u001b[1;33m)\u001b[0m\u001b[1;33m\u001b[0m\u001b[1;33m\u001b[0m\u001b[0m\n\u001b[0;32m    242\u001b[0m             \u001b[1;32mraise\u001b[0m \u001b[0mexception_class\u001b[0m\u001b[1;33m(\u001b[0m\u001b[0mmessage\u001b[0m\u001b[1;33m,\u001b[0m \u001b[0mscreen\u001b[0m\u001b[1;33m,\u001b[0m \u001b[0mstacktrace\u001b[0m\u001b[1;33m,\u001b[0m \u001b[0malert_text\u001b[0m\u001b[1;33m)\u001b[0m  \u001b[1;31m# type: ignore[call-arg]  # mypy is not smart enough here\u001b[0m\u001b[1;33m\u001b[0m\u001b[1;33m\u001b[0m\u001b[0m\n\u001b[1;32m--> 243\u001b[1;33m         \u001b[1;32mraise\u001b[0m \u001b[0mexception_class\u001b[0m\u001b[1;33m(\u001b[0m\u001b[0mmessage\u001b[0m\u001b[1;33m,\u001b[0m \u001b[0mscreen\u001b[0m\u001b[1;33m,\u001b[0m \u001b[0mstacktrace\u001b[0m\u001b[1;33m)\u001b[0m\u001b[1;33m\u001b[0m\u001b[1;33m\u001b[0m\u001b[0m\n\u001b[0m",
      "\u001b[1;31mInvalidSelectorException\u001b[0m: Message: invalid selector: Unable to locate an element with the xpath expression //*[@id=\"VoQFxe\"]/div[1]/div/ul/li[{i}]/div/div[2]/div[2]/div/div/div[2]/div[4]/span because of the following error:\nSyntaxError: Failed to execute 'evaluate' on 'Document': The string '//*[@id=\"VoQFxe\"]/div[1]/div/ul/li[{i}]/div/div[2]/div[2]/div/div/div[2]/div[4]/span' is not a valid XPath expression.\n  (Session info: chrome=106.0.5249.119)\nStacktrace:\nBacktrace:\n\tOrdinal0 [0x00F21ED3+2236115]\n\tOrdinal0 [0x00EB92F1+1807089]\n\tOrdinal0 [0x00DC66FD+812797]\n\tOrdinal0 [0x00DC92B4+823988]\n\tOrdinal0 [0x00DC9165+823653]\n\tOrdinal0 [0x00DC9400+824320]\n\tOrdinal0 [0x00DF5352+1004370]\n\tOrdinal0 [0x00DF57CB+1005515]\n\tOrdinal0 [0x00E27632+1209906]\n\tOrdinal0 [0x00E11AD4+1120980]\n\tOrdinal0 [0x00E259E2+1202658]\n\tOrdinal0 [0x00E118A6+1120422]\n\tOrdinal0 [0x00DEA73D+960317]\n\tOrdinal0 [0x00DEB71F+964383]\n\tGetHandleVerifier [0x011CE7E2+2743074]\n\tGetHandleVerifier [0x011C08D4+2685972]\n\tGetHandleVerifier [0x00FB2BAA+532202]\n\tGetHandleVerifier [0x00FB1990+527568]\n\tOrdinal0 [0x00EC080C+1837068]\n\tOrdinal0 [0x00EC4CD8+1854680]\n\tOrdinal0 [0x00EC4DC5+1854917]\n\tOrdinal0 [0x00ECED64+1895780]\n\tBaseThreadInitThunk [0x76A5FA29+25]\n\tRtlGetAppContainerNamedObjectPath [0x77897BBE+286]\n\tRtlGetAppContainerNamedObjectPath [0x77897B8E+238]\n"
     ]
    }
   ],
   "source": [
    "toto = driver.find_element(By.XPATH, '//*[@id=\"VoQFxe\"]/div[1]/div/ul/li[{i}]/div/div[2]/div[2]/div/div/div[2]/div[4]/span')\n",
    "toto.get_attribute('textContent')"
   ]
  },
  {
   "cell_type": "code",
   "execution_count": 207,
   "id": "bf843219-56c9-4910-ab88-53bc5dc05d47",
   "metadata": {},
   "outputs": [],
   "source": [
    "job_title = driver.find_element(By.XPATH, \"\"\"//*[@id=\"VoQFxe\"]/div[1]/div/ul/li[2]/div/div[2]/div[2]/div/div/div[2]/div[2]\"\"\")\n",
    "                          \n",
    "        \n",
    "#### ajout fin\n",
    "job_title.click()"
   ]
  },
  {
   "cell_type": "code",
   "execution_count": 206,
   "id": "dc7f8ad2-ec57-4ed6-9d17-1c22683f71a9",
   "metadata": {},
   "outputs": [
    {
     "data": {
      "text/plain": [
       "'DATA SCIENTIST - CDI - PAS DE FULL REMOTE'"
      ]
     },
     "execution_count": 206,
     "metadata": {},
     "output_type": "execute_result"
    }
   ],
   "source": [
    "job_title"
   ]
  },
  {
   "cell_type": "code",
   "execution_count": 223,
   "id": "9520827f-0396-4bf0-90c3-8ae3027a6a11",
   "metadata": {},
   "outputs": [],
   "source": [
    "job_title = driver.find_element(By.XPATH, \"\"\"//*[@id=\"VoQFxe\"]/div[1]/div/ul/li[2]/div/div[2]/div[2]/div/div/div[2]/div[2]\"\"\")\n",
    "job_title.click()\n",
    "job_part1 = driver.find_element(By.XPATH, \"\"\"//*[@id=\"gws-plugins-horizon-jobs__job_details_page\"]/div/div[4]/div/span\"\"\")\\\n",
    "                                .get_attribute('textContent')"
   ]
  },
  {
   "cell_type": "code",
   "execution_count": 224,
   "id": "13a50d50-fb9c-4b84-b55d-487b844a61a6",
   "metadata": {},
   "outputs": [
    {
     "data": {
      "text/plain": [
       "\"Michael Page recherche …\\n\\nNotre client est reconnu par son expertise en produits de sécurité, de signalisation et d'identification. Il est aussi leader en solutions sur mesure et personnalisables.\\n\\nRattaché au Data Science & Digital Analytics Manager et au sein de la Direction Analyses, Direct & Digital Marketing, vous aurez dans un environnement international et en collaboration avec une équipe cross-fonctionnelle les principales missions suivantes :\\n- Développer des scripts SQL optimisés dans un environnement Cloud (GCP et Azure) afin d'interroger les données CRM et digitales selon le besoin des équipes.\\n- Explorer en profondeur les données CRM et digitales du Data Lake et construire des algorithmes prédictifs en utilisant des technologies de Machine Learning (R, Python, Google ML, Azure ML...).\\n- Développer et maintenir des tableaux de bord dynamiques sous DOMO offrant les visualisations et usages nécessaires à l'exploitation optimale des données issues du Cloud ainsi que les KPIs... et leurs dimensions.\\n- Piloter des projets de data management avec les équipes et prestataires informatiques afin d'étendre ou optimiser l'architecture des données pour nos campagnes marketing, l'engagement web, les données CRM.\\n- Assurer le support data & analytics auprès des équipes métiers notamment par la réalisation de demandes liées au Data Lake ou au déploiement des use-cases ainsi qu'à celles liées au digital analytics.\\nVous êtes …\\n\\nDe formation supérieure en informatique, vous justifiez d'une expérience significative d'au moins 5 ans en tant que Senior Data Scientist dans un environnement marketing.\\nEnvironnement technique à maîtriser :\\n- SAS Macros, SQL, R et/ou Python.\\n- Un outil de data visualisation (DOMO, Tableau, ClickView, Power BI...).\\n- Un outil de web analyse (Universal Analytics, ContentSquare, Eulerian...).\\n- Un outil de Tag Management (Tealium, Tag commander, GTM...).\\nDoté de fortes sensibilités en data, le digital et les nouvelles technologies, vous vous positionnez comme un interlocuteur persévérant et passionné.\\nConditions et Avantages\\nPoste évolutif.\\nEn résumé ...\\n• Lille - 59\\n• CDI\\n• Services aux Entreprises\\n• Bac +5\\n• Exp. 1 à 7 ans\\nPubliée le 26/10/2022. Réf : JN-082022-5733601 40819385\""
      ]
     },
     "execution_count": 224,
     "metadata": {},
     "output_type": "execute_result"
    }
   ],
   "source": [
    "job_part1"
   ]
  },
  {
   "cell_type": "code",
   "execution_count": 213,
   "id": "7212c201-df95-4b58-8e77-fa157465e115",
   "metadata": {},
   "outputs": [],
   "source": [
    "driver.back()"
   ]
  },
  {
   "cell_type": "code",
   "execution_count": 214,
   "id": "bf9af488-21c7-44e4-a784-2663380e6457",
   "metadata": {},
   "outputs": [
    {
     "name": "stdout",
     "output_type": "stream",
     "text": [
      "je suis là\n"
     ]
    },
    {
     "ename": "NoSuchElementException",
     "evalue": "Message: no such element: Unable to locate element: {\"method\":\"xpath\",\"selector\":\"//*[@id=\"gws-plugins-horizon-jobs__job_details_page\"]/div/div[2]/div/span\"}\n  (Session info: chrome=106.0.5249.119)\nStacktrace:\nBacktrace:\n\tOrdinal0 [0x00F21ED3+2236115]\n\tOrdinal0 [0x00EB92F1+1807089]\n\tOrdinal0 [0x00DC66FD+812797]\n\tOrdinal0 [0x00DF55DF+1005023]\n\tOrdinal0 [0x00DF57CB+1005515]\n\tOrdinal0 [0x00E27632+1209906]\n\tOrdinal0 [0x00E11AD4+1120980]\n\tOrdinal0 [0x00E259E2+1202658]\n\tOrdinal0 [0x00E118A6+1120422]\n\tOrdinal0 [0x00DEA73D+960317]\n\tOrdinal0 [0x00DEB71F+964383]\n\tGetHandleVerifier [0x011CE7E2+2743074]\n\tGetHandleVerifier [0x011C08D4+2685972]\n\tGetHandleVerifier [0x00FB2BAA+532202]\n\tGetHandleVerifier [0x00FB1990+527568]\n\tOrdinal0 [0x00EC080C+1837068]\n\tOrdinal0 [0x00EC4CD8+1854680]\n\tOrdinal0 [0x00EC4DC5+1854917]\n\tOrdinal0 [0x00ECED64+1895780]\n\tBaseThreadInitThunk [0x76A5FA29+25]\n\tRtlGetAppContainerNamedObjectPath [0x77897BBE+286]\n\tRtlGetAppContainerNamedObjectPath [0x77897B8E+238]\n",
     "output_type": "error",
     "traceback": [
      "\u001b[1;31m---------------------------------------------------------------------------\u001b[0m",
      "\u001b[1;31mNoSuchElementException\u001b[0m                    Traceback (most recent call last)",
      "\u001b[1;32m~\\AppData\\Local\\Temp\\ipykernel_13880\\3983437306.py\u001b[0m in \u001b[0;36m<module>\u001b[1;34m\u001b[0m\n\u001b[0;32m      5\u001b[0m \u001b[1;33m\u001b[0m\u001b[0m\n\u001b[1;32m----> 6\u001b[1;33m         \u001b[0mjob_title\u001b[0m \u001b[1;33m=\u001b[0m \u001b[0mdriver\u001b[0m\u001b[1;33m.\u001b[0m\u001b[0mfind_element\u001b[0m\u001b[1;33m(\u001b[0m\u001b[0mBy\u001b[0m\u001b[1;33m.\u001b[0m\u001b[0mXPATH\u001b[0m\u001b[1;33m,\u001b[0m \u001b[1;34mf\"\"\"//*[@id=\"VoQFxe\"]/div[1]/div/ul/li[{i}]/div/div[2]/div[2]/div/div/div[2]/div[2]\"\"\"\u001b[0m\u001b[1;33m)\u001b[0m\u001b[1;33m\u001b[0m\u001b[1;33m\u001b[0m\u001b[0m\n\u001b[0m\u001b[0;32m      7\u001b[0m \u001b[1;33m\u001b[0m\u001b[0m\n",
      "\u001b[1;32mc:\\users\\projet\\project_2\\.env\\lib\\site-packages\\selenium\\webdriver\\remote\\webdriver.py\u001b[0m in \u001b[0;36mfind_element\u001b[1;34m(self, by, value)\u001b[0m\n\u001b[0;32m    857\u001b[0m             \u001b[1;34m'using'\u001b[0m\u001b[1;33m:\u001b[0m \u001b[0mby\u001b[0m\u001b[1;33m,\u001b[0m\u001b[1;33m\u001b[0m\u001b[1;33m\u001b[0m\u001b[0m\n\u001b[1;32m--> 858\u001b[1;33m             'value': value})['value']\n\u001b[0m\u001b[0;32m    859\u001b[0m \u001b[1;33m\u001b[0m\u001b[0m\n",
      "\u001b[1;32mc:\\users\\projet\\project_2\\.env\\lib\\site-packages\\selenium\\webdriver\\remote\\webdriver.py\u001b[0m in \u001b[0;36mexecute\u001b[1;34m(self, driver_command, params)\u001b[0m\n\u001b[0;32m    428\u001b[0m         \u001b[1;32mif\u001b[0m \u001b[0mresponse\u001b[0m\u001b[1;33m:\u001b[0m\u001b[1;33m\u001b[0m\u001b[1;33m\u001b[0m\u001b[0m\n\u001b[1;32m--> 429\u001b[1;33m             \u001b[0mself\u001b[0m\u001b[1;33m.\u001b[0m\u001b[0merror_handler\u001b[0m\u001b[1;33m.\u001b[0m\u001b[0mcheck_response\u001b[0m\u001b[1;33m(\u001b[0m\u001b[0mresponse\u001b[0m\u001b[1;33m)\u001b[0m\u001b[1;33m\u001b[0m\u001b[1;33m\u001b[0m\u001b[0m\n\u001b[0m\u001b[0;32m    430\u001b[0m             response['value'] = self._unwrap_value(\n",
      "\u001b[1;32mc:\\users\\projet\\project_2\\.env\\lib\\site-packages\\selenium\\webdriver\\remote\\errorhandler.py\u001b[0m in \u001b[0;36mcheck_response\u001b[1;34m(self, response)\u001b[0m\n\u001b[0;32m    242\u001b[0m             \u001b[1;32mraise\u001b[0m \u001b[0mexception_class\u001b[0m\u001b[1;33m(\u001b[0m\u001b[0mmessage\u001b[0m\u001b[1;33m,\u001b[0m \u001b[0mscreen\u001b[0m\u001b[1;33m,\u001b[0m \u001b[0mstacktrace\u001b[0m\u001b[1;33m,\u001b[0m \u001b[0malert_text\u001b[0m\u001b[1;33m)\u001b[0m  \u001b[1;31m# type: ignore[call-arg]  # mypy is not smart enough here\u001b[0m\u001b[1;33m\u001b[0m\u001b[1;33m\u001b[0m\u001b[0m\n\u001b[1;32m--> 243\u001b[1;33m         \u001b[1;32mraise\u001b[0m \u001b[0mexception_class\u001b[0m\u001b[1;33m(\u001b[0m\u001b[0mmessage\u001b[0m\u001b[1;33m,\u001b[0m \u001b[0mscreen\u001b[0m\u001b[1;33m,\u001b[0m \u001b[0mstacktrace\u001b[0m\u001b[1;33m)\u001b[0m\u001b[1;33m\u001b[0m\u001b[1;33m\u001b[0m\u001b[0m\n\u001b[0m",
      "\u001b[1;31mNoSuchElementException\u001b[0m: Message: no such element: Unable to locate element: {\"method\":\"xpath\",\"selector\":\"//*[@id=\"VoQFxe\"]/div[1]/div/ul/li[1]/div/div[2]/div[2]/div/div/div[2]/div[2]\"}\n  (Session info: chrome=106.0.5249.119)\nStacktrace:\nBacktrace:\n\tOrdinal0 [0x00F21ED3+2236115]\n\tOrdinal0 [0x00EB92F1+1807089]\n\tOrdinal0 [0x00DC66FD+812797]\n\tOrdinal0 [0x00DF55DF+1005023]\n\tOrdinal0 [0x00DF57CB+1005515]\n\tOrdinal0 [0x00E27632+1209906]\n\tOrdinal0 [0x00E11AD4+1120980]\n\tOrdinal0 [0x00E259E2+1202658]\n\tOrdinal0 [0x00E118A6+1120422]\n\tOrdinal0 [0x00DEA73D+960317]\n\tOrdinal0 [0x00DEB71F+964383]\n\tGetHandleVerifier [0x011CE7E2+2743074]\n\tGetHandleVerifier [0x011C08D4+2685972]\n\tGetHandleVerifier [0x00FB2BAA+532202]\n\tGetHandleVerifier [0x00FB1990+527568]\n\tOrdinal0 [0x00EC080C+1837068]\n\tOrdinal0 [0x00EC4CD8+1854680]\n\tOrdinal0 [0x00EC4DC5+1854917]\n\tOrdinal0 [0x00ECED64+1895780]\n\tBaseThreadInitThunk [0x76A5FA29+25]\n\tRtlGetAppContainerNamedObjectPath [0x77897BBE+286]\n\tRtlGetAppContainerNamedObjectPath [0x77897B8E+238]\n",
      "\nDuring handling of the above exception, another exception occurred:\n",
      "\u001b[1;31mNoSuchElementException\u001b[0m                    Traceback (most recent call last)",
      "\u001b[1;32m~\\AppData\\Local\\Temp\\ipykernel_13880\\3983437306.py\u001b[0m in \u001b[0;36m<module>\u001b[1;34m\u001b[0m\n\u001b[0;32m     21\u001b[0m         \u001b[1;31m# job_title.click()\u001b[0m\u001b[1;33m\u001b[0m\u001b[1;33m\u001b[0m\u001b[1;33m\u001b[0m\u001b[0m\n\u001b[0;32m     22\u001b[0m \u001b[1;33m\u001b[0m\u001b[0m\n\u001b[1;32m---> 23\u001b[1;33m         \u001b[0mjob_part1\u001b[0m \u001b[1;33m=\u001b[0m \u001b[0mdriver\u001b[0m\u001b[1;33m.\u001b[0m\u001b[0mfind_element\u001b[0m\u001b[1;33m(\u001b[0m\u001b[0mBy\u001b[0m\u001b[1;33m.\u001b[0m\u001b[0mXPATH\u001b[0m\u001b[1;33m,\u001b[0m \u001b[1;34mf\"\"\"//*[@id=\"gws-plugins-horizon-jobs__job_details_page\"]/div/div[{i+1}]/div/span\"\"\"\u001b[0m\u001b[1;33m)\u001b[0m\u001b[0;31m\\\u001b[0m\u001b[1;33m\u001b[0m\u001b[1;33m\u001b[0m\u001b[0m\n\u001b[0m\u001b[0;32m     24\u001b[0m                                 \u001b[1;33m.\u001b[0m\u001b[0mget_attribute\u001b[0m\u001b[1;33m(\u001b[0m\u001b[1;34m'textContent'\u001b[0m\u001b[1;33m)\u001b[0m\u001b[1;33m\u001b[0m\u001b[1;33m\u001b[0m\u001b[0m\n\u001b[0;32m     25\u001b[0m \u001b[1;33m\u001b[0m\u001b[0m\n",
      "\u001b[1;32mc:\\users\\projet\\project_2\\.env\\lib\\site-packages\\selenium\\webdriver\\remote\\webdriver.py\u001b[0m in \u001b[0;36mfind_element\u001b[1;34m(self, by, value)\u001b[0m\n\u001b[0;32m    856\u001b[0m         return self.execute(Command.FIND_ELEMENT, {\n\u001b[0;32m    857\u001b[0m             \u001b[1;34m'using'\u001b[0m\u001b[1;33m:\u001b[0m \u001b[0mby\u001b[0m\u001b[1;33m,\u001b[0m\u001b[1;33m\u001b[0m\u001b[1;33m\u001b[0m\u001b[0m\n\u001b[1;32m--> 858\u001b[1;33m             'value': value})['value']\n\u001b[0m\u001b[0;32m    859\u001b[0m \u001b[1;33m\u001b[0m\u001b[0m\n\u001b[0;32m    860\u001b[0m     \u001b[1;32mdef\u001b[0m \u001b[0mfind_elements\u001b[0m\u001b[1;33m(\u001b[0m\u001b[0mself\u001b[0m\u001b[1;33m,\u001b[0m \u001b[0mby\u001b[0m\u001b[1;33m=\u001b[0m\u001b[0mBy\u001b[0m\u001b[1;33m.\u001b[0m\u001b[0mID\u001b[0m\u001b[1;33m,\u001b[0m \u001b[0mvalue\u001b[0m\u001b[1;33m:\u001b[0m \u001b[0mOptional\u001b[0m\u001b[1;33m[\u001b[0m\u001b[0mstr\u001b[0m\u001b[1;33m]\u001b[0m \u001b[1;33m=\u001b[0m \u001b[1;32mNone\u001b[0m\u001b[1;33m)\u001b[0m \u001b[1;33m->\u001b[0m \u001b[0mList\u001b[0m\u001b[1;33m[\u001b[0m\u001b[0mWebElement\u001b[0m\u001b[1;33m]\u001b[0m\u001b[1;33m:\u001b[0m\u001b[1;33m\u001b[0m\u001b[1;33m\u001b[0m\u001b[0m\n",
      "\u001b[1;32mc:\\users\\projet\\project_2\\.env\\lib\\site-packages\\selenium\\webdriver\\remote\\webdriver.py\u001b[0m in \u001b[0;36mexecute\u001b[1;34m(self, driver_command, params)\u001b[0m\n\u001b[0;32m    427\u001b[0m         \u001b[0mresponse\u001b[0m \u001b[1;33m=\u001b[0m \u001b[0mself\u001b[0m\u001b[1;33m.\u001b[0m\u001b[0mcommand_executor\u001b[0m\u001b[1;33m.\u001b[0m\u001b[0mexecute\u001b[0m\u001b[1;33m(\u001b[0m\u001b[0mdriver_command\u001b[0m\u001b[1;33m,\u001b[0m \u001b[0mparams\u001b[0m\u001b[1;33m)\u001b[0m\u001b[1;33m\u001b[0m\u001b[1;33m\u001b[0m\u001b[0m\n\u001b[0;32m    428\u001b[0m         \u001b[1;32mif\u001b[0m \u001b[0mresponse\u001b[0m\u001b[1;33m:\u001b[0m\u001b[1;33m\u001b[0m\u001b[1;33m\u001b[0m\u001b[0m\n\u001b[1;32m--> 429\u001b[1;33m             \u001b[0mself\u001b[0m\u001b[1;33m.\u001b[0m\u001b[0merror_handler\u001b[0m\u001b[1;33m.\u001b[0m\u001b[0mcheck_response\u001b[0m\u001b[1;33m(\u001b[0m\u001b[0mresponse\u001b[0m\u001b[1;33m)\u001b[0m\u001b[1;33m\u001b[0m\u001b[1;33m\u001b[0m\u001b[0m\n\u001b[0m\u001b[0;32m    430\u001b[0m             response['value'] = self._unwrap_value(\n\u001b[0;32m    431\u001b[0m                 response.get('value', None))\n",
      "\u001b[1;32mc:\\users\\projet\\project_2\\.env\\lib\\site-packages\\selenium\\webdriver\\remote\\errorhandler.py\u001b[0m in \u001b[0;36mcheck_response\u001b[1;34m(self, response)\u001b[0m\n\u001b[0;32m    241\u001b[0m                 \u001b[0malert_text\u001b[0m \u001b[1;33m=\u001b[0m \u001b[0mvalue\u001b[0m\u001b[1;33m[\u001b[0m\u001b[1;34m'alert'\u001b[0m\u001b[1;33m]\u001b[0m\u001b[1;33m.\u001b[0m\u001b[0mget\u001b[0m\u001b[1;33m(\u001b[0m\u001b[1;34m'text'\u001b[0m\u001b[1;33m)\u001b[0m\u001b[1;33m\u001b[0m\u001b[1;33m\u001b[0m\u001b[0m\n\u001b[0;32m    242\u001b[0m             \u001b[1;32mraise\u001b[0m \u001b[0mexception_class\u001b[0m\u001b[1;33m(\u001b[0m\u001b[0mmessage\u001b[0m\u001b[1;33m,\u001b[0m \u001b[0mscreen\u001b[0m\u001b[1;33m,\u001b[0m \u001b[0mstacktrace\u001b[0m\u001b[1;33m,\u001b[0m \u001b[0malert_text\u001b[0m\u001b[1;33m)\u001b[0m  \u001b[1;31m# type: ignore[call-arg]  # mypy is not smart enough here\u001b[0m\u001b[1;33m\u001b[0m\u001b[1;33m\u001b[0m\u001b[0m\n\u001b[1;32m--> 243\u001b[1;33m         \u001b[1;32mraise\u001b[0m \u001b[0mexception_class\u001b[0m\u001b[1;33m(\u001b[0m\u001b[0mmessage\u001b[0m\u001b[1;33m,\u001b[0m \u001b[0mscreen\u001b[0m\u001b[1;33m,\u001b[0m \u001b[0mstacktrace\u001b[0m\u001b[1;33m)\u001b[0m\u001b[1;33m\u001b[0m\u001b[1;33m\u001b[0m\u001b[0m\n\u001b[0m",
      "\u001b[1;31mNoSuchElementException\u001b[0m: Message: no such element: Unable to locate element: {\"method\":\"xpath\",\"selector\":\"//*[@id=\"gws-plugins-horizon-jobs__job_details_page\"]/div/div[2]/div/span\"}\n  (Session info: chrome=106.0.5249.119)\nStacktrace:\nBacktrace:\n\tOrdinal0 [0x00F21ED3+2236115]\n\tOrdinal0 [0x00EB92F1+1807089]\n\tOrdinal0 [0x00DC66FD+812797]\n\tOrdinal0 [0x00DF55DF+1005023]\n\tOrdinal0 [0x00DF57CB+1005515]\n\tOrdinal0 [0x00E27632+1209906]\n\tOrdinal0 [0x00E11AD4+1120980]\n\tOrdinal0 [0x00E259E2+1202658]\n\tOrdinal0 [0x00E118A6+1120422]\n\tOrdinal0 [0x00DEA73D+960317]\n\tOrdinal0 [0x00DEB71F+964383]\n\tGetHandleVerifier [0x011CE7E2+2743074]\n\tGetHandleVerifier [0x011C08D4+2685972]\n\tGetHandleVerifier [0x00FB2BAA+532202]\n\tGetHandleVerifier [0x00FB1990+527568]\n\tOrdinal0 [0x00EC080C+1837068]\n\tOrdinal0 [0x00EC4CD8+1854680]\n\tOrdinal0 [0x00EC4DC5+1854917]\n\tOrdinal0 [0x00ECED64+1895780]\n\tBaseThreadInitThunk [0x76A5FA29+25]\n\tRtlGetAppContainerNamedObjectPath [0x77897BBE+286]\n\tRtlGetAppContainerNamedObjectPath [0x77897B8E+238]\n"
     ]
    }
   ],
   "source": [
    "### job description \n",
    "for i in range(1,5):\n",
    "    try :\n",
    "        ### Ajout code ici\n",
    "        \n",
    "        job_title = driver.find_element(By.XPATH, f\"\"\"//*[@id=\"VoQFxe\"]/div[1]/div/ul/li[{i}]/div/div[2]/div[2]/div/div/div[2]/div[2]\"\"\")\n",
    "                          \n",
    "        #### ajout fin\n",
    "        job_title.click()\n",
    "        \n",
    "        job_part1 = driver.find_element(By.XPATH, \"\"\"//*[@id=\"gws-plugins-horizon-jobs__job_details_page\"]/div/div[4]/div/span\"\"\")\\\n",
    "                                .get_attribute('textContent')\n",
    "        \n",
    "        job_part2 = driver.find_element(By.XPATH, \"\"\"//*[@id=\"gws-plugins-horizon-jobs__job_details_page\"]/div/div[4]/div/span/span[2]\"\"\")\\\n",
    "                          .get_attribute('textContent')\n",
    "        \n",
    "    except NoSuchElementException:\n",
    "        print(\"je suis là\")\n",
    "        \n",
    "        job_title = driver.find_element(By.XPATH, f\"\"\"//*[@id=\"VoQFxe\"]/div[1]/div/ul/li[{i+1}]/div/div[2]/div[2]/div/div/div[2]/div[2]\"\"\")\n",
    "        # job_title.click()\n",
    "        \n",
    "        job_part1 = driver.find_element(By.XPATH, f\"\"\"//*[@id=\"gws-plugins-horizon-jobs__job_details_page\"]/div/div[{i+1}]/div/span\"\"\")\\\n",
    "                                .get_attribute('textContent')\n",
    "        \n",
    "        job_part2 = driver.find_element(By.XPATH, f\"\"\"//*[@id=\"gws-plugins-horizon-jobs__job_details_page\"]/div/div[{i+1}]/div/span/span[2]\"\"\")\\\n",
    "                          .get_attribute('textContent')\n",
    "\n",
    "    job_resume = ' '.join(job_part1.splitlines()) + ' '.join(job_part2.splitlines())\n",
    "    print(\"=========================================================================== je change de description ========================\")\n",
    "    print(job_resume)"
   ]
  },
  {
   "cell_type": "code",
   "execution_count": 80,
   "id": "4848d39c-d579-4c5c-a943-c576cf5ebae9",
   "metadata": {},
   "outputs": [
    {
     "data": {
      "text/plain": [
       "\"Publié le 28/10/2022  Partager cette offre  En tant que Data Scientist, vos principales missions seront de/d' • Améliorer les moteurs de recherche d'information pour prendre en compte différents attributs : titre, description, caractéristiques du document... • Optimiser des flux de livraison et d'approvisionnement • Développer des approches automatisées pour la prévision de séries temporelles • Mettre au point des métriques et dashboards qui parlent aux métiers du pricing, illustrant des concepts tels que l'élasticité, la cannibalisation, le halo • Innover au travers de méthodes classiques et/ou ML dans nos modèles de computer vision (détection d'objets et OCR) • Porter ces modèles vers les applications mobiles dans le cadre d'une utilisation en temps réel • Travailler avec les chefs de projets pour comprendre les besoins métier et délivrer des solutions pertinentes • Rédiger des documents scientifiques (études de l'état de l'art et rapports)  Profil du candidat  De formation... supérieure en informatique, statistiques, économétrie (Bac+4/5), vous disposez d'une expérience minimum de 3 ans en tant que Data Scientist.  Vous maitrisez impérativement les statistiques et les méthodes de machine learning.  Vous avez de l'expérience avec des sources de données variées, dont bases de données SQL.  Vous avez de solides connaissances solides en Python (pandas, numpy, numba, joblib, anaconda)  Vous avez des connaissances en Computer Vision (pre-processing, détection d'objets, OCR, OpenCV, CNN)  Une expérience avec une ou plusieurs de ces technologies est souhaitée : C++, git, Android (Kotlin, MVVM, CameraX), linux  Des notions en architecture patterns et design patterns est apprécié.  Vous avez idéalement une expérience dans le monde de la distribution/pricing/approvisionnement  Vous êtes passionné(e) par la Data et l'optimisation.  CDI - Métropole Lilloise - Rémunération attractive selon expérience. Télétravail partiel possible.  Description de l'entreprise  Harry Hope, cabinet de recrutement accompagne candidats et entreprises dans leurs recherches des meilleures opportunités en France et à l'international. Afin de mieux répondre à vos enjeux, tous nos consultants sont spécialisés par secteur d'activité et zone géographique.  Consultante en Recrutement spécialisée sur les métiers IT, je recrute pour le compte de mon client, UN DATA SCIENTIST H/F  Mon client est un éditeur de logiciels de pricing et Supply Chain à destination des acteurs de la Grande Distribution et du Retail. Le logiciel est commercialisé en mode Saas et, est composé de plusieurs modules pouvant être vendus séparément : web data collect, scan in store, linking pour la cohérence de gamme, dashboard, matching entre produits concurrents et produits de l'enseigne supérieure en informatique, statistiques, économétrie (Bac+4/5), vous disposez d'une expérience minimum de 3 ans en tant que Data Scientist.  Vous maitrisez impérativement les statistiques et les méthodes de machine learning.  Vous avez de l'expérience avec des sources de données variées, dont bases de données SQL.  Vous avez de solides connaissances solides en Python (pandas, numpy, numba, joblib, anaconda)  Vous avez des connaissances en Computer Vision (pre-processing, détection d'objets, OCR, OpenCV, CNN)  Une expérience avec une ou plusieurs de ces technologies est souhaitée : C++, git, Android (Kotlin, MVVM, CameraX), linux  Des notions en architecture patterns et design patterns est apprécié.  Vous avez idéalement une expérience dans le monde de la distribution/pricing/approvisionnement  Vous êtes passionné(e) par la Data et l'optimisation.  CDI - Métropole Lilloise - Rémunération attractive selon expérience. Télétravail partiel possible.  Description de l'entreprise  Harry Hope, cabinet de recrutement accompagne candidats et entreprises dans leurs recherches des meilleures opportunités en France et à l'international. Afin de mieux répondre à vos enjeux, tous nos consultants sont spécialisés par secteur d'activité et zone géographique.  Consultante en Recrutement spécialisée sur les métiers IT, je recrute pour le compte de mon client, UN DATA SCIENTIST H/F  Mon client est un éditeur de logiciels de pricing et Supply Chain à destination des acteurs de la Grande Distribution et du Retail. Le logiciel est commercialisé en mode Saas et, est composé de plusieurs modules pouvant être vendus séparément : web data collect, scan in store, linking pour la cohérence de gamme, dashboard, matching entre produits concurrents et produits de l'enseigne\""
      ]
     },
     "execution_count": 80,
     "metadata": {},
     "output_type": "execute_result"
    }
   ],
   "source": [
    "job_resume"
   ]
  },
  {
   "cell_type": "code",
   "execution_count": null,
   "id": "c5e62325-8cf9-475d-a9a0-71327ade832a",
   "metadata": {},
   "outputs": [],
   "source": [
    "//*[@id=\"VoQFxe\"]/div[1]/div/ul/li[1]/div/div[1]/div[2]/div/div/div[2]/div[2]"
   ]
  },
  {
   "cell_type": "code",
   "execution_count": 179,
   "id": "70f90831-6867-4d8f-b0a5-be273284d9bc",
   "metadata": {},
   "outputs": [],
   "source": [
    "\n",
    "pepe = driver.find_element(By.XPATH, '//*[@id=\"VoQFxe\"]/div[1]/div/ul/li[3]/div/div[2]/div[2]/div/div/div[2]/div[2]')\n",
    "pepe.click()\n",
    "job_part1 = driver.find_element(By.XPATH, '//*[@id=\"gws-plugins-horizon-jobs__job_details_page\"]/div/div[4]/div/span')\\\n",
    "                                .get_attribute('textContent')\n",
    "\n"
   ]
  },
  {
   "cell_type": "code",
   "execution_count": 162,
   "id": "f9c1d0a3-2634-46ec-8018-db9987b80806",
   "metadata": {},
   "outputs": [],
   "source": [
    "driver.back()"
   ]
  },
  {
   "cell_type": "code",
   "execution_count": 174,
   "id": "8dfb3190-8a3b-48c0-bb45-d4a186ec8cdb",
   "metadata": {},
   "outputs": [],
   "source": [
    "job_part1 = driver.find_element(By.XPATH, '//*[@id=\"gws-plugins-horizon-jobs__job_details_page\"]/div/div[4]/div/span')\\\n",
    "                                .get_attribute('textContent')"
   ]
  },
  {
   "cell_type": "code",
   "execution_count": 180,
   "id": "1965dacb-5caa-407b-8b05-9a31e65eb4c4",
   "metadata": {},
   "outputs": [
    {
     "data": {
      "text/plain": [
       "\"Michael Page recherche …\\n\\nNotre client est reconnu par son expertise en produits de sécurité, de signalisation et d'identification. Il est aussi leader en solutions sur mesure et personnalisables.\\n\\nRattaché au Data Science & Digital Analytics Manager et au sein de la Direction Analyses, Direct & Digital Marketing, vous aurez dans un environnement international et en collaboration avec une équipe cross-fonctionnelle les principales missions suivantes :\\n- Développer des scripts SQL optimisés dans un environnement Cloud (GCP et Azure) afin d'interroger les données CRM et digitales selon le besoin des équipes.\\n- Explorer en profondeur les données CRM et digitales du Data Lake et construire des algorithmes prédictifs en utilisant des technologies de Machine Learning (R, Python, Google ML, Azure ML...).\\n- Développer et maintenir des tableaux de bord dynamiques sous DOMO offrant les visualisations et usages nécessaires à l'exploitation optimale des données issues du Cloud ainsi que les KPIs... et leurs dimensions.\\n- Piloter des projets de data management avec les équipes et prestataires informatiques afin d'étendre ou optimiser l'architecture des données pour nos campagnes marketing, l'engagement web, les données CRM.\\n- Assurer le support data & analytics auprès des équipes métiers notamment par la réalisation de demandes liées au Data Lake ou au déploiement des use-cases ainsi qu'à celles liées au digital analytics.\\nVous êtes …\\n\\nDe formation supérieure en informatique, vous justifiez d'une expérience significative d'au moins 5 ans en tant que Senior Data Scientist dans un environnement marketing.\\nEnvironnement technique à maîtriser :\\n- SAS Macros, SQL, R et/ou Python.\\n- Un outil de data visualisation (DOMO, Tableau, ClickView, Power BI...).\\n- Un outil de web analyse (Universal Analytics, ContentSquare, Eulerian...).\\n- Un outil de Tag Management (Tealium, Tag commander, GTM...).\\nDoté de fortes sensibilités en data, le digital et les nouvelles technologies, vous vous positionnez comme un interlocuteur persévérant et passionné.\\nConditions et Avantages\\nPoste évolutif.\\nEn résumé ...\\n• Lille - 59\\n• CDI\\n• Services aux Entreprises\\n• Bac +5\\n• Exp. 1 à 7 ans\\nPubliée le 26/10/2022. Réf : JN-082022-5733601 40819385\""
      ]
     },
     "execution_count": 180,
     "metadata": {},
     "output_type": "execute_result"
    }
   ],
   "source": [
    "job_part1"
   ]
  },
  {
   "cell_type": "code",
   "execution_count": 156,
   "id": "0283a1e8-bf41-4936-a275-bb5209e85dd5",
   "metadata": {},
   "outputs": [
    {
     "name": "stdout",
     "output_type": "stream",
     "text": [
      "Publié le 28/10/2022\n",
      "\n",
      "Partager cette offre\n",
      "\n",
      "En tant que Data Scientist, vos principales missions seront de/d'\n",
      "• Améliorer les moteurs de recherche d'information pour prendre en compte différents attributs : titre, description, caractéristiques du document...\n",
      "• Optimiser des flux de livraison et d'approvisionnement\n",
      "• Développer des approches automatisées pour la prévision de séries temporelles\n",
      "• Mettre au point des métriques et dashboards qui parlent aux métiers du pricing, illustrant des concepts tels que l'élasticité, la cannibalisation, le halo\n",
      "• Innover au travers de méthodes classiques et/ou ML dans nos modèles de computer vision (détection d'objets et OCR)\n",
      "• Porter ces modèles vers les applications mobiles dans le cadre d'une utilisation en temps réel\n",
      "• Travailler avec les chefs de projets pour comprendre les besoins métier et délivrer des solutions pertinentes\n",
      "• Rédiger des documents scientifiques (études de l'état de l'art et rapports)\n",
      "\n",
      "Profil du candidat\n",
      "\n",
      "De formation... supérieure en informatique, statistiques, économétrie (Bac+4/5), vous disposez d'une expérience minimum de 3 ans en tant que Data Scientist.\n",
      "\n",
      "Vous maitrisez impérativement les statistiques et les méthodes de machine learning.\n",
      "\n",
      "Vous avez de l'expérience avec des sources de données variées, dont bases de données SQL.\n",
      "\n",
      "Vous avez de solides connaissances solides en Python (pandas, numpy, numba, joblib, anaconda)\n",
      "\n",
      "Vous avez des connaissances en Computer Vision (pre-processing, détection d'objets, OCR, OpenCV, CNN)\n",
      "\n",
      "Une expérience avec une ou plusieurs de ces technologies est souhaitée : C++, git, Android (Kotlin, MVVM, CameraX), linux\n",
      "\n",
      "Des notions en architecture patterns et design patterns est apprécié.\n",
      "\n",
      "Vous avez idéalement une expérience dans le monde de la distribution/pricing/approvisionnement\n",
      "\n",
      "Vous êtes passionné(e) par la Data et l'optimisation.\n",
      "\n",
      "CDI - Métropole Lilloise - Rémunération attractive selon expérience. Télétravail partiel possible.\n",
      "\n",
      "Description de l'entreprise\n",
      "\n",
      "Harry Hope, cabinet de recrutement accompagne candidats et entreprises dans leurs recherches des meilleures opportunités en France et à l'international. Afin de mieux répondre à vos enjeux, tous nos consultants sont spécialisés par secteur d'activité et zone géographique.\n",
      "\n",
      "Consultante en Recrutement spécialisée sur les métiers IT, je recrute pour le compte de mon client, UN DATA SCIENTIST H/F\n",
      "\n",
      "Mon client est un éditeur de logiciels de pricing et Supply Chain à destination des acteurs de la Grande Distribution et du Retail. Le logiciel est commercialisé en mode Saas et, est composé de plusieurs modules pouvant être vendus séparément : web data collect, scan in store, linking pour la cohérence de gamme, dashboard, matching entre produits concurrents et produits de l'enseigne\n"
     ]
    }
   ],
   "source": [
    "print(job_part1)"
   ]
  },
  {
   "cell_type": "code",
   "execution_count": null,
   "id": "1e88d534-886b-4a14-8ab2-5b446d87a75d",
   "metadata": {},
   "outputs": [],
   "source": []
  },
  {
   "cell_type": "code",
   "execution_count": 50,
   "id": "eda02300-f977-4a0c-8363-9e5b65db7fd9",
   "metadata": {},
   "outputs": [
    {
     "data": {
      "text/plain": [
       "2"
      ]
     },
     "execution_count": 50,
     "metadata": {},
     "output_type": "execute_result"
    }
   ],
   "source": [
    "len(ejample2)"
   ]
  },
  {
   "cell_type": "code",
   "execution_count": 65,
   "id": "a28e44d9-8017-4697-8930-aa483b3f76d6",
   "metadata": {},
   "outputs": [],
   "source": [
    "popo = driver.find_element(By.XPATH, '//*[@id=\"VoQFxe\"]/div[1]/div/ul/li[5]/div/div[2]/div[2]/div/div')"
   ]
  },
  {
   "cell_type": "code",
   "execution_count": 66,
   "id": "fc54e1ad-5688-4b47-86fc-4ad47de8ffbe",
   "metadata": {},
   "outputs": [],
   "source": [
    "popo.click()"
   ]
  },
  {
   "cell_type": "code",
   "execution_count": 67,
   "id": "5e5bf6e5-d5e2-45d1-b946-ff76a5499a0f",
   "metadata": {},
   "outputs": [],
   "source": [
    "recup_job_desc2 = driver.find_element(By.XPATH, '//*[@id=\"gws-plugins-horizon-jobs__job_details_page\"]/div/div[4]/div/span/span[2]').get_attribute('textContent')"
   ]
  },
  {
   "cell_type": "code",
   "execution_count": 101,
   "id": "bbc7d920-ff78-4638-943f-69e8c6163db4",
   "metadata": {},
   "outputs": [],
   "source": [
    "driver.back()"
   ]
  },
  {
   "cell_type": "code",
   "execution_count": 142,
   "id": "9eda33c8-8c19-48ba-b550-c11c484feeba",
   "metadata": {},
   "outputs": [
    {
     "data": {
      "text/plain": [
       "9"
      ]
     },
     "execution_count": 142,
     "metadata": {},
     "output_type": "execute_result"
    }
   ],
   "source": [
    "//*[@id=\"immersive_desktop_root\"]/div/div[3]/div[1]/div[1]"
   ]
  },
  {
   "cell_type": "code",
   "execution_count": 109,
   "id": "bf0bd104-d27e-41c1-b32d-336696a087da",
   "metadata": {},
   "outputs": [],
   "source": [
    "import collections as cls"
   ]
  },
  {
   "cell_type": "code",
   "execution_count": 111,
   "id": "7ee66b67-1c96-4e91-bab2-b2037fb47acf",
   "metadata": {},
   "outputs": [],
   "source": [
    "### job title\n",
    "collecteur_2 = cls.defaultdict(list)\n",
    "counts = len(driver.find_elements(By.XPATH, '//*[@id=\"VoQFxe\"]/div[1]/div/ul/li/div/div[2]/div[2]/div/div/div[2]/div[2]'))\n",
    "for i in range(1,counts):\n",
    "    \n",
    "    try:\n",
    "        \n",
    "        job_title = driver.find_element(By.XPATH, f\"\"\"//*[@id=\"VoQFxe\"]/div[1]/div/ul/li[{i}]/div/div[2]/div[2]/div/div/div[2]/div[2]\"\"\")\\\n",
    "                      .get_attribute('textContent')\n",
    "        time.sleep(1)\n",
    "        \n",
    "        compagnie = driver.find_element(By.XPATH, f\"\"\"//*[@id=\"VoQFxe\"]/div[1]/div/ul/li[{i}]/div/div[2]/div[2]/div/div/div[3]/div/div[1]\"\"\")\\\n",
    "                          .get_attribute('textContent')\n",
    "        \n",
    "    except NoSuchElementException:\n",
    "        try:\n",
    "            \n",
    "            job_title = driver.find_element(By.XPATH, f\"\"\"//*[@id=\"VoQFxe\"]/div[1]/div/ul/li[{i+1}]/div/div[2]/div[2]/div/div/div[2]/div[2]\"\"\")\\\n",
    "                          .get_attribute('textContent')\n",
    "            time.sleep(1)\n",
    "            \n",
    "            compagnie = driver.find_element(By.XPATH, f\"\"\"//*[@id=\"VoQFxe\"]/div[1]/div/ul/li[{i+1}]/div/div[2]/div[2]/div/div/div[3]/div/div[1]\"\"\")\\\n",
    "                              .get_attribute('textContent')\n",
    "        except NoSuchElementException:\n",
    "            pass\n",
    "    \n",
    "    collecteur_2['job_title'].append(job_title)\n",
    "    collecteur_2['compagnie'].append(compagnie)\n",
    "    \n",
    "    time.sleep(2)"
   ]
  },
  {
   "cell_type": "code",
   "execution_count": 112,
   "id": "595712d3-565b-4a98-83b9-0c3e13f5948d",
   "metadata": {},
   "outputs": [
    {
     "data": {
      "text/plain": [
       "defaultdict(list,\n",
       "            {'job_title': ['DATA SCIENTIST - CDI - PAS DE FULL REMOTE',\n",
       "              'DATA SCIENTIST - CDI - PAS DE FULL REMOTE',\n",
       "              'DATA SCIENTIST - CDI - PAS DE FULL REMOTE',\n",
       "              'Data Scientist F/H',\n",
       "              'Data Scientist',\n",
       "              'Data Scientist Ml - Dl & Dataviz H/F',\n",
       "              'Data Scientist H/F',\n",
       "              'LEAD DATA SCIENTIST - F/H',\n",
       "              'Data scientist F/H',\n",
       "              'Lead Data Scientist H/F',\n",
       "              'Lead Data Scientist H/F'],\n",
       "             'compagnie': ['Société Free-Work',\n",
       "              'Société Free-Work',\n",
       "              'Société Free-Work',\n",
       "              'HR TEAM',\n",
       "              'emagine Consulting SARL',\n",
       "              'Smily RH',\n",
       "              'Michael Page France',\n",
       "              'ADEO Services',\n",
       "              'WEB-TRANSITION',\n",
       "              'solinki',\n",
       "              'solinki']})"
      ]
     },
     "execution_count": 112,
     "metadata": {},
     "output_type": "execute_result"
    }
   ],
   "source": [
    "collecteur_2"
   ]
  },
  {
   "cell_type": "code",
   "execution_count": 97,
   "id": "5caf4959-f5d8-4335-b7ee-5086568e8cd2",
   "metadata": {},
   "outputs": [
    {
     "ename": "NoSuchElementException",
     "evalue": "Message: no such element: Unable to locate element: {\"method\":\"xpath\",\"selector\":\"//*[@id=\"VoQFxe\"]/div[1]/div/ul/li[19]/div/div[2]/div[2]/div/div/div[2]/div[2]\"}\n  (Session info: chrome=106.0.5249.119)\nStacktrace:\nBacktrace:\n\tOrdinal0 [0x00F21ED3+2236115]\n\tOrdinal0 [0x00EB92F1+1807089]\n\tOrdinal0 [0x00DC66FD+812797]\n\tOrdinal0 [0x00DF55DF+1005023]\n\tOrdinal0 [0x00DF57CB+1005515]\n\tOrdinal0 [0x00E27632+1209906]\n\tOrdinal0 [0x00E11AD4+1120980]\n\tOrdinal0 [0x00E259E2+1202658]\n\tOrdinal0 [0x00E118A6+1120422]\n\tOrdinal0 [0x00DEA73D+960317]\n\tOrdinal0 [0x00DEB71F+964383]\n\tGetHandleVerifier [0x011CE7E2+2743074]\n\tGetHandleVerifier [0x011C08D4+2685972]\n\tGetHandleVerifier [0x00FB2BAA+532202]\n\tGetHandleVerifier [0x00FB1990+527568]\n\tOrdinal0 [0x00EC080C+1837068]\n\tOrdinal0 [0x00EC4CD8+1854680]\n\tOrdinal0 [0x00EC4DC5+1854917]\n\tOrdinal0 [0x00ECED64+1895780]\n\tBaseThreadInitThunk [0x76A5FA29+25]\n\tRtlGetAppContainerNamedObjectPath [0x77897BBE+286]\n\tRtlGetAppContainerNamedObjectPath [0x77897B8E+238]\n",
     "output_type": "error",
     "traceback": [
      "\u001b[1;31m---------------------------------------------------------------------------\u001b[0m",
      "\u001b[1;31mNoSuchElementException\u001b[0m                    Traceback (most recent call last)",
      "\u001b[1;32m~\\AppData\\Local\\Temp\\ipykernel_13880\\3852753984.py\u001b[0m in \u001b[0;36m<module>\u001b[1;34m\u001b[0m\n\u001b[1;32m----> 1\u001b[1;33m \u001b[0mjob_title\u001b[0m \u001b[1;33m=\u001b[0m \u001b[0mdriver\u001b[0m\u001b[1;33m.\u001b[0m\u001b[0mfind_element\u001b[0m\u001b[1;33m(\u001b[0m\u001b[0mBy\u001b[0m\u001b[1;33m.\u001b[0m\u001b[0mXPATH\u001b[0m\u001b[1;33m,\u001b[0m \u001b[1;34m\"\"\"//*[@id=\"VoQFxe\"]/div[1]/div/ul/li[19]/div/div[2]/div[2]/div/div/div[2]/div[2]\"\"\"\u001b[0m\u001b[1;33m)\u001b[0m\u001b[0;31m\\\u001b[0m\u001b[1;33m\u001b[0m\u001b[1;33m\u001b[0m\u001b[0m\n\u001b[0m\u001b[0;32m      2\u001b[0m                       \u001b[1;33m.\u001b[0m\u001b[0mget_attribute\u001b[0m\u001b[1;33m(\u001b[0m\u001b[1;34m'textContent'\u001b[0m\u001b[1;33m)\u001b[0m\u001b[1;33m\u001b[0m\u001b[1;33m\u001b[0m\u001b[0m\n",
      "\u001b[1;32mc:\\users\\projet\\project_2\\.env\\lib\\site-packages\\selenium\\webdriver\\remote\\webdriver.py\u001b[0m in \u001b[0;36mfind_element\u001b[1;34m(self, by, value)\u001b[0m\n\u001b[0;32m    856\u001b[0m         return self.execute(Command.FIND_ELEMENT, {\n\u001b[0;32m    857\u001b[0m             \u001b[1;34m'using'\u001b[0m\u001b[1;33m:\u001b[0m \u001b[0mby\u001b[0m\u001b[1;33m,\u001b[0m\u001b[1;33m\u001b[0m\u001b[1;33m\u001b[0m\u001b[0m\n\u001b[1;32m--> 858\u001b[1;33m             'value': value})['value']\n\u001b[0m\u001b[0;32m    859\u001b[0m \u001b[1;33m\u001b[0m\u001b[0m\n\u001b[0;32m    860\u001b[0m     \u001b[1;32mdef\u001b[0m \u001b[0mfind_elements\u001b[0m\u001b[1;33m(\u001b[0m\u001b[0mself\u001b[0m\u001b[1;33m,\u001b[0m \u001b[0mby\u001b[0m\u001b[1;33m=\u001b[0m\u001b[0mBy\u001b[0m\u001b[1;33m.\u001b[0m\u001b[0mID\u001b[0m\u001b[1;33m,\u001b[0m \u001b[0mvalue\u001b[0m\u001b[1;33m:\u001b[0m \u001b[0mOptional\u001b[0m\u001b[1;33m[\u001b[0m\u001b[0mstr\u001b[0m\u001b[1;33m]\u001b[0m \u001b[1;33m=\u001b[0m \u001b[1;32mNone\u001b[0m\u001b[1;33m)\u001b[0m \u001b[1;33m->\u001b[0m \u001b[0mList\u001b[0m\u001b[1;33m[\u001b[0m\u001b[0mWebElement\u001b[0m\u001b[1;33m]\u001b[0m\u001b[1;33m:\u001b[0m\u001b[1;33m\u001b[0m\u001b[1;33m\u001b[0m\u001b[0m\n",
      "\u001b[1;32mc:\\users\\projet\\project_2\\.env\\lib\\site-packages\\selenium\\webdriver\\remote\\webdriver.py\u001b[0m in \u001b[0;36mexecute\u001b[1;34m(self, driver_command, params)\u001b[0m\n\u001b[0;32m    427\u001b[0m         \u001b[0mresponse\u001b[0m \u001b[1;33m=\u001b[0m \u001b[0mself\u001b[0m\u001b[1;33m.\u001b[0m\u001b[0mcommand_executor\u001b[0m\u001b[1;33m.\u001b[0m\u001b[0mexecute\u001b[0m\u001b[1;33m(\u001b[0m\u001b[0mdriver_command\u001b[0m\u001b[1;33m,\u001b[0m \u001b[0mparams\u001b[0m\u001b[1;33m)\u001b[0m\u001b[1;33m\u001b[0m\u001b[1;33m\u001b[0m\u001b[0m\n\u001b[0;32m    428\u001b[0m         \u001b[1;32mif\u001b[0m \u001b[0mresponse\u001b[0m\u001b[1;33m:\u001b[0m\u001b[1;33m\u001b[0m\u001b[1;33m\u001b[0m\u001b[0m\n\u001b[1;32m--> 429\u001b[1;33m             \u001b[0mself\u001b[0m\u001b[1;33m.\u001b[0m\u001b[0merror_handler\u001b[0m\u001b[1;33m.\u001b[0m\u001b[0mcheck_response\u001b[0m\u001b[1;33m(\u001b[0m\u001b[0mresponse\u001b[0m\u001b[1;33m)\u001b[0m\u001b[1;33m\u001b[0m\u001b[1;33m\u001b[0m\u001b[0m\n\u001b[0m\u001b[0;32m    430\u001b[0m             response['value'] = self._unwrap_value(\n\u001b[0;32m    431\u001b[0m                 response.get('value', None))\n",
      "\u001b[1;32mc:\\users\\projet\\project_2\\.env\\lib\\site-packages\\selenium\\webdriver\\remote\\errorhandler.py\u001b[0m in \u001b[0;36mcheck_response\u001b[1;34m(self, response)\u001b[0m\n\u001b[0;32m    241\u001b[0m                 \u001b[0malert_text\u001b[0m \u001b[1;33m=\u001b[0m \u001b[0mvalue\u001b[0m\u001b[1;33m[\u001b[0m\u001b[1;34m'alert'\u001b[0m\u001b[1;33m]\u001b[0m\u001b[1;33m.\u001b[0m\u001b[0mget\u001b[0m\u001b[1;33m(\u001b[0m\u001b[1;34m'text'\u001b[0m\u001b[1;33m)\u001b[0m\u001b[1;33m\u001b[0m\u001b[1;33m\u001b[0m\u001b[0m\n\u001b[0;32m    242\u001b[0m             \u001b[1;32mraise\u001b[0m \u001b[0mexception_class\u001b[0m\u001b[1;33m(\u001b[0m\u001b[0mmessage\u001b[0m\u001b[1;33m,\u001b[0m \u001b[0mscreen\u001b[0m\u001b[1;33m,\u001b[0m \u001b[0mstacktrace\u001b[0m\u001b[1;33m,\u001b[0m \u001b[0malert_text\u001b[0m\u001b[1;33m)\u001b[0m  \u001b[1;31m# type: ignore[call-arg]  # mypy is not smart enough here\u001b[0m\u001b[1;33m\u001b[0m\u001b[1;33m\u001b[0m\u001b[0m\n\u001b[1;32m--> 243\u001b[1;33m         \u001b[1;32mraise\u001b[0m \u001b[0mexception_class\u001b[0m\u001b[1;33m(\u001b[0m\u001b[0mmessage\u001b[0m\u001b[1;33m,\u001b[0m \u001b[0mscreen\u001b[0m\u001b[1;33m,\u001b[0m \u001b[0mstacktrace\u001b[0m\u001b[1;33m)\u001b[0m\u001b[1;33m\u001b[0m\u001b[1;33m\u001b[0m\u001b[0m\n\u001b[0m",
      "\u001b[1;31mNoSuchElementException\u001b[0m: Message: no such element: Unable to locate element: {\"method\":\"xpath\",\"selector\":\"//*[@id=\"VoQFxe\"]/div[1]/div/ul/li[19]/div/div[2]/div[2]/div/div/div[2]/div[2]\"}\n  (Session info: chrome=106.0.5249.119)\nStacktrace:\nBacktrace:\n\tOrdinal0 [0x00F21ED3+2236115]\n\tOrdinal0 [0x00EB92F1+1807089]\n\tOrdinal0 [0x00DC66FD+812797]\n\tOrdinal0 [0x00DF55DF+1005023]\n\tOrdinal0 [0x00DF57CB+1005515]\n\tOrdinal0 [0x00E27632+1209906]\n\tOrdinal0 [0x00E11AD4+1120980]\n\tOrdinal0 [0x00E259E2+1202658]\n\tOrdinal0 [0x00E118A6+1120422]\n\tOrdinal0 [0x00DEA73D+960317]\n\tOrdinal0 [0x00DEB71F+964383]\n\tGetHandleVerifier [0x011CE7E2+2743074]\n\tGetHandleVerifier [0x011C08D4+2685972]\n\tGetHandleVerifier [0x00FB2BAA+532202]\n\tGetHandleVerifier [0x00FB1990+527568]\n\tOrdinal0 [0x00EC080C+1837068]\n\tOrdinal0 [0x00EC4CD8+1854680]\n\tOrdinal0 [0x00EC4DC5+1854917]\n\tOrdinal0 [0x00ECED64+1895780]\n\tBaseThreadInitThunk [0x76A5FA29+25]\n\tRtlGetAppContainerNamedObjectPath [0x77897BBE+286]\n\tRtlGetAppContainerNamedObjectPath [0x77897B8E+238]\n"
     ]
    }
   ],
   "source": [
    "job_title = driver.find_element(By.XPATH, \"\"\"//*[@id=\"VoQFxe\"]/div[1]/div/ul/li[19]/div/div[2]/div[2]/div/div/div[2]/div[2]\"\"\")\\\n",
    "                      .get_attribute('textContent')"
   ]
  },
  {
   "cell_type": "code",
   "execution_count": 72,
   "id": "43409b2c-210b-42a4-81ff-4b2133ba3614",
   "metadata": {},
   "outputs": [
    {
     "data": {
      "text/plain": [
       "'Data Scientist F/H'"
      ]
     },
     "execution_count": 72,
     "metadata": {},
     "output_type": "execute_result"
    }
   ],
   "source": [
    "job_title = driver.find_element(By.XPATH, '//*[@id=\"VoQFxe\"]/div[1]/div/ul/li[4]/div/div[2]/div[2]/div/div/div[2]/div[2]')\n",
    "job_title.get_attribute('textContent')\n",
    "time.sleep(2)"
   ]
  },
  {
   "cell_type": "code",
   "execution_count": null,
   "id": "0d1aace5-a7bf-45b7-8eac-4df8adb48d8d",
   "metadata": {},
   "outputs": [],
   "source": [
    "## compagnie\n",
    "\n",
    "//*[@id=\"VoQFxe\"]/div[1]/div/ul/li[2]/div/div[2]/div[2]/div/div/div[3]/div/div[1]\n",
    "//*[@id=\"VoQFxe\"]/div[1]/div/ul/li[1]/div/div[1]/div[2]/div/div/div[3]/div/div[1]\n",
    "//*[@id=\"VoQFxe\"]/div[1]/div/ul/li[4]/div/div[2]/div[2]/div/div/div[3]/div/div[1]"
   ]
  },
  {
   "cell_type": "code",
   "execution_count": 70,
   "id": "da122290-7b59-4a86-932a-810c146c755d",
   "metadata": {},
   "outputs": [],
   "source": [
    "\n"
   ]
  },
  {
   "cell_type": "code",
   "execution_count": 71,
   "id": "e5801589-6ac4-4362-b5f0-7f71222dbd0a",
   "metadata": {},
   "outputs": [
    {
     "data": {
      "text/plain": [
       "'Société Free-Work'"
      ]
     },
     "execution_count": 71,
     "metadata": {},
     "output_type": "execute_result"
    }
   ],
   "source": []
  },
  {
   "cell_type": "code",
   "execution_count": 57,
   "id": "57a20c86-eaef-47e9-8351-ec854f25f116",
   "metadata": {},
   "outputs": [],
   "source": [
    "popo.back()"
   ]
  },
  {
   "cell_type": "code",
   "execution_count": null,
   "id": "4cb93da0-679b-4284-b014-d166df98e35f",
   "metadata": {},
   "outputs": [],
   "source": [
    "//*[@id=\"VoQFxe\"]/div[1]/div/ul/li[1]/div/div[1]/div[2]/div/div\n",
    "//*[@id=\"VoQFxe\"]/div[1]/div/ul/li[2]/div/div[2]/div[2]/div/div\n",
    "//*[@id=\"VoQFxe\"]/div[1]/div/ul/li[4]/div/div[2]/div[2]/div/div\n",
    "//*[@id=\"VoQFxe\"]/div[1]/div/ul/li[5]/div/div[2]/div[2]/div/div"
   ]
  },
  {
   "cell_type": "code",
   "execution_count": null,
   "id": "912433af-631f-49a8-a627-d110f3dce8ce",
   "metadata": {},
   "outputs": [],
   "source": [
    "//*[@id=\"VoQFxe\"]/div/div/ul/li[1]/div/div[1]/div[2]\n",
    "//*[@id=\"VoQFxe\"]/div/div/ul/li[2]/div/div[2]/div[2]/div\n"
   ]
  },
  {
   "cell_type": "code",
   "execution_count": 23,
   "id": "d70480fa-1600-4d64-b380-0ce19c9f7440",
   "metadata": {},
   "outputs": [],
   "source": [
    "ejample = driver.find_elements(By.XPATH, '//*[@id=\"VoQFxe\"]/div/div/ul/li[1]')"
   ]
  },
  {
   "cell_type": "code",
   "execution_count": 51,
   "id": "0b881e9b-e383-4446-a083-5d80c1a9308a",
   "metadata": {},
   "outputs": [
    {
     "data": {
      "text/plain": [
       "[<selenium.webdriver.remote.webelement.WebElement (session=\"fcb1b578cff262406670522a96b5e333\", element=\"27613155-3d1d-40dd-bc7f-50c6dc978981\")>,\n",
       " <selenium.webdriver.remote.webelement.WebElement (session=\"fcb1b578cff262406670522a96b5e333\", element=\"73c15865-f0d6-447e-bf92-7c62dc26006d\")>]"
      ]
     },
     "execution_count": 51,
     "metadata": {},
     "output_type": "execute_result"
    }
   ],
   "source": [
    "ejample2"
   ]
  },
  {
   "cell_type": "code",
   "execution_count": 25,
   "id": "372e25f0-7fc8-4918-b509-d8a44aa9232b",
   "metadata": {},
   "outputs": [
    {
     "data": {
      "text/plain": [
       "[<selenium.webdriver.remote.webelement.WebElement (session=\"630dcf6ff907076c7d3fbe2377900ecb\", element=\"673f064b-1b63-4508-943f-8aabd49046d8\")>,\n",
       " <selenium.webdriver.remote.webelement.WebElement (session=\"630dcf6ff907076c7d3fbe2377900ecb\", element=\"56d8d9e8-4406-4d2c-9ab2-8fe7a79949cd\")>,\n",
       " <selenium.webdriver.remote.webelement.WebElement (session=\"630dcf6ff907076c7d3fbe2377900ecb\", element=\"ad678e82-ae82-4ec1-97f5-5ff92aeec847\")>,\n",
       " <selenium.webdriver.remote.webelement.WebElement (session=\"630dcf6ff907076c7d3fbe2377900ecb\", element=\"8ab211f8-6bbd-42cd-a6f2-e53d06b8c5bb\")>,\n",
       " <selenium.webdriver.remote.webelement.WebElement (session=\"630dcf6ff907076c7d3fbe2377900ecb\", element=\"79540aea-2879-4cc2-8ab1-c9ee707ef717\")>,\n",
       " <selenium.webdriver.remote.webelement.WebElement (session=\"630dcf6ff907076c7d3fbe2377900ecb\", element=\"d1fff805-a687-4f61-a19d-753613a1d1ac\")>,\n",
       " <selenium.webdriver.remote.webelement.WebElement (session=\"630dcf6ff907076c7d3fbe2377900ecb\", element=\"6ddce9da-1b2e-4bf6-92d6-dd7bce875e0f\")>,\n",
       " <selenium.webdriver.remote.webelement.WebElement (session=\"630dcf6ff907076c7d3fbe2377900ecb\", element=\"265df72d-a0fc-4b81-897a-da0de721510f\")>,\n",
       " <selenium.webdriver.remote.webelement.WebElement (session=\"630dcf6ff907076c7d3fbe2377900ecb\", element=\"44b4a1c7-29c4-43c3-818a-9668eae298a8\")>,\n",
       " <selenium.webdriver.remote.webelement.WebElement (session=\"630dcf6ff907076c7d3fbe2377900ecb\", element=\"3fe27513-692e-42ff-b4d2-8e6403d72f17\")>,\n",
       " <selenium.webdriver.remote.webelement.WebElement (session=\"630dcf6ff907076c7d3fbe2377900ecb\", element=\"663af60f-f7a5-4530-8e1a-052786731d6a\")>,\n",
       " <selenium.webdriver.remote.webelement.WebElement (session=\"630dcf6ff907076c7d3fbe2377900ecb\", element=\"5d831856-6742-4ea2-a3b7-deea4aaa639c\")>,\n",
       " <selenium.webdriver.remote.webelement.WebElement (session=\"630dcf6ff907076c7d3fbe2377900ecb\", element=\"883924fe-c300-4693-8230-c98836d6976b\")>]"
      ]
     },
     "execution_count": 25,
     "metadata": {},
     "output_type": "execute_result"
    }
   ],
   "source": [
    "//*[@id=\"_-s5bY73RB8HglwTtkJ_4Bg_5\"]"
   ]
  },
  {
   "cell_type": "code",
   "execution_count": 26,
   "id": "e2d2a306-7038-4fcc-a3df-667e16397dd8",
   "metadata": {},
   "outputs": [],
   "source": [
    "list_scraped = []"
   ]
  },
  {
   "cell_type": "code",
   "execution_count": 42,
   "id": "1290f270-2020-4fdc-bd71-4b57c02ec0af",
   "metadata": {},
   "outputs": [],
   "source": [
    "ejample2 = driver.find_elements(By.XPATH, '//*[@id=\"VoQFxe\"]/div/div/ul/li[2]')"
   ]
  },
  {
   "cell_type": "code",
   "execution_count": 28,
   "id": "572e5d7c-1049-464d-a562-27e615efb23a",
   "metadata": {},
   "outputs": [
    {
     "data": {
      "text/plain": [
       "[<selenium.webdriver.remote.webelement.WebElement (session=\"630dcf6ff907076c7d3fbe2377900ecb\", element=\"e9deca8c-78ba-49f1-baef-343ff8ba1a09\")>,\n",
       " <selenium.webdriver.remote.webelement.WebElement (session=\"630dcf6ff907076c7d3fbe2377900ecb\", element=\"c8b1523a-0bbd-464d-8b36-9e0ef49e220e\")>,\n",
       " <selenium.webdriver.remote.webelement.WebElement (session=\"630dcf6ff907076c7d3fbe2377900ecb\", element=\"ebe7b1a8-dd6c-4609-8127-864a7b7c9cb5\")>,\n",
       " <selenium.webdriver.remote.webelement.WebElement (session=\"630dcf6ff907076c7d3fbe2377900ecb\", element=\"82b51e70-279f-400f-a95d-acfd21eb5421\")>,\n",
       " <selenium.webdriver.remote.webelement.WebElement (session=\"630dcf6ff907076c7d3fbe2377900ecb\", element=\"5c8ab672-73c9-4bbf-ad80-50f2f8d8fdc2\")>,\n",
       " <selenium.webdriver.remote.webelement.WebElement (session=\"630dcf6ff907076c7d3fbe2377900ecb\", element=\"f703aa35-c066-4225-8beb-2d0128a64e42\")>,\n",
       " <selenium.webdriver.remote.webelement.WebElement (session=\"630dcf6ff907076c7d3fbe2377900ecb\", element=\"d78e979b-c782-4a6c-9af3-248116151b19\")>,\n",
       " <selenium.webdriver.remote.webelement.WebElement (session=\"630dcf6ff907076c7d3fbe2377900ecb\", element=\"8f9a1a79-9d60-4424-b4c5-8031aadb9396\")>,\n",
       " <selenium.webdriver.remote.webelement.WebElement (session=\"630dcf6ff907076c7d3fbe2377900ecb\", element=\"4bc453cd-449e-4766-a3d7-0a6d9a7fc89b\")>,\n",
       " <selenium.webdriver.remote.webelement.WebElement (session=\"630dcf6ff907076c7d3fbe2377900ecb\", element=\"967ab764-437d-4994-99a9-8786b7f1e8e5\")>,\n",
       " <selenium.webdriver.remote.webelement.WebElement (session=\"630dcf6ff907076c7d3fbe2377900ecb\", element=\"701157be-db07-453e-8c92-49f5329dc7d9\")>,\n",
       " <selenium.webdriver.remote.webelement.WebElement (session=\"630dcf6ff907076c7d3fbe2377900ecb\", element=\"42597368-ce72-4f16-b8e3-6904551f1b1a\")>,\n",
       " <selenium.webdriver.remote.webelement.WebElement (session=\"630dcf6ff907076c7d3fbe2377900ecb\", element=\"95f6f62a-248d-4398-a1b8-d3545d01b3a0\")>]"
      ]
     },
     "execution_count": 28,
     "metadata": {},
     "output_type": "execute_result"
    }
   ],
   "source": [
    "ejample2"
   ]
  },
  {
   "cell_type": "code",
   "execution_count": null,
   "id": "ec8955ed-4636-47e6-8240-f082ac441783",
   "metadata": {},
   "outputs": [],
   "source": [
    "retour = driver.back()"
   ]
  },
  {
   "cell_type": "code",
   "execution_count": null,
   "id": "acd0b672-0ae8-4b74-adb1-4667ca0b45a8",
   "metadata": {},
   "outputs": [],
   "source": [
    "//*[@id=\"VoQFxe\"]/div/div/ul/li[1]"
   ]
  },
  {
   "cell_type": "code",
   "execution_count": 10,
   "id": "6e29d46e-6f33-4545-a782-e41ebe834a62",
   "metadata": {},
   "outputs": [
    {
     "data": {
      "text/plain": [
       "\"Dans un souci d’accessibilité et de clarté, l’écriture inclusive n’est pas utilisée dans cette annonce. Les termes employés au masculin se réfèrent aussi bien au genre féminin que masculin.\\n\\nEt si vous viviez l’expérience du changement à nos côtés ?\\n\\nIntégrez un univers où le design de solutions rencontre la technologie de pointe et transformez en profondeur les plus grandes entreprises et institutions. Construisez une carrière agile dans un environnement de travail flexible qui vise à favoriser l’équilibre entre vie professionnelle et vie personnelle : télétravail à la carte, semaine de 4 à 5 jours, projet de mobilité…\\n\\nRejoignez Accenture certifiée Great Place To Work, et venez imaginer, transformer et impacter positivement le monde. Be a change maker.\\n\\nEn tant qu'Ingénieur Data Google Cloud Platform , vos missions seront :\\n• Etre garant de la chaîne de production de la donnée et de son bon déroulement, de l’extraction de la donnée à sa visualisation\\n• Travailler avec nos... architectes Cloud GCP & nos clients\\n• Mise en place de pipelines de données (ingestion, stockage, transformation), analyse des données et mise en place de solutions de visualisation\\n• Développer vos connaissances sur le Cloud computing et ses enjeux\\n\\nLe métier d’Ingénieur Data Google Cloud Platform est fait pour vous si :\\n• Vous avez des connaissances approfondies de SQL et d’autres langages de base de données, d’un langage de programmation appliqué à l’analyse de données (Python, Scala, R, Java)\\n• Vous avez des compétences dans la mise en production de modèles de Machine Learning et d’architecture des pipelines et bases de données, de l’ingestion de données jusqu’à son exploitation finale, méthodologies d’analyse et de visualisation\\n\\nVous tirerez également votre épingle du jeu grâce aux éléments suivants :\\n• Vous avez obtenu une certification Data Engineer sur Google Cloud Platform\\n• Vous avez des expériences sur des architectures Data legacy (Cloudera, Hortonworks, Teradata, Netezza)\\n• Vous maîtrisez des concepts DevOps (Docker, Kubernetes, CI/CD etc...)\\n\\nEn tant qu'Ingénieur Data G, vous rejoignez nos experts en technologie pour exploiter la puissance du digital, stimuler l’innovation et améliorer le quotidien de nos clients. Conjuguez expertise business et connaissance des technologies de pointe pour aider nos clients à réinventer leur entreprise, tout en renforçant leur cyber-résilience.\\n\\nA propos de nous\\n\\nAccenture, c'est une communauté de plus de 700 000 talents et une mission commune : réaliser la promesse technologique alliée à l’ingéniosité humaine.\\n\\nDans un monde en perpétuel changement, nous accélérons la transformation des plus grandes entreprises, de la stratégie à la réalisation des projets, à l’aide des technologies de demain et dynamisons leur croissance grâce à l'expertise multi-sectorielle de nos experts !\\n\\nVivez l’expérience du changement en rejoignant notre équipe, une équipe qui aspire à créer de la valeur pour ses clients et à faire toujours mieux pour ses talents.\\n\\nEnvie d’en savoir plus sur le quotidien des collaborateurs Accenture ? Posez-leur directement vos questions.\\n\\nVivez l’expérience du changement, postulez dès maintenant\""
      ]
     },
     "execution_count": 10,
     "metadata": {},
     "output_type": "execute_result"
    }
   ],
   "source": [
    "recup_job_desc1"
   ]
  },
  {
   "cell_type": "code",
   "execution_count": 11,
   "id": "02216293-3ad9-4ae6-839f-21caf34d6cf4",
   "metadata": {},
   "outputs": [
    {
     "data": {
      "text/plain": [
       "\"Dans un souci d’accessibilité et de clarté, l’écriture inclusive n’est pas utilisée dans cette annonce. Les termes employés au masculin se réfèrent aussi bien au genre féminin que masculin.  Et si vous viviez l’expérience du changement à nos côtés ?  Intégrez un univers où le design de solutions rencontre la technologie de pointe et transformez en profondeur les plus grandes entreprises et institutions. Construisez une carrière agile dans un environnement de travail flexible qui vise à favoriser l’équilibre entre vie professionnelle et vie personnelle : télétravail à la carte, semaine de 4 à 5 jours, projet de mobilité…  Rejoignez Accenture certifiée Great Place To Work, et venez imaginer, transformer et impacter positivement le monde. Be a change maker.  En tant qu'Ingénieur Data Google Cloud Platform , vos missions seront : • Etre garant de la chaîne de production de la donnée et de son bon déroulement, de l’extraction de la donnée à sa visualisation • Travailler avec nos... architectes Cloud GCP & nos clients • Mise en place de pipelines de données (ingestion, stockage, transformation), analyse des données et mise en place de solutions de visualisation • Développer vos connaissances sur le Cloud computing et ses enjeux  Le métier d’Ingénieur Data Google Cloud Platform est fait pour vous si : • Vous avez des connaissances approfondies de SQL et d’autres langages de base de données, d’un langage de programmation appliqué à l’analyse de données (Python, Scala, R, Java) • Vous avez des compétences dans la mise en production de modèles de Machine Learning et d’architecture des pipelines et bases de données, de l’ingestion de données jusqu’à son exploitation finale, méthodologies d’analyse et de visualisation  Vous tirerez également votre épingle du jeu grâce aux éléments suivants : • Vous avez obtenu une certification Data Engineer sur Google Cloud Platform • Vous avez des expériences sur des architectures Data legacy (Cloudera, Hortonworks, Teradata, Netezza) • Vous maîtrisez des concepts DevOps (Docker, Kubernetes, CI/CD etc...)  En tant qu'Ingénieur Data G, vous rejoignez nos experts en technologie pour exploiter la puissance du digital, stimuler l’innovation et améliorer le quotidien de nos clients. Conjuguez expertise business et connaissance des technologies de pointe pour aider nos clients à réinventer leur entreprise, tout en renforçant leur cyber-résilience.  A propos de nous  Accenture, c'est une communauté de plus de 700 000 talents et une mission commune : réaliser la promesse technologique alliée à l’ingéniosité humaine.  Dans un monde en perpétuel changement, nous accélérons la transformation des plus grandes entreprises, de la stratégie à la réalisation des projets, à l’aide des technologies de demain et dynamisons leur croissance grâce à l'expertise multi-sectorielle de nos experts !  Vivez l’expérience du changement en rejoignant notre équipe, une équipe qui aspire à créer de la valeur pour ses clients et à faire toujours mieux pour ses talents.  Envie d’en savoir plus sur le quotidien des collaborateurs Accenture ? Posez-leur directement vos questions.  Vivez l’expérience du changement, postulez dès maintenant\""
      ]
     },
     "execution_count": 11,
     "metadata": {},
     "output_type": "execute_result"
    }
   ],
   "source": [
    "' '.join(recup_job_desc1.splitlines())"
   ]
  },
  {
   "cell_type": "code",
   "execution_count": 12,
   "id": "ff1fd9cf-ad19-4514-9e60-3adae43cc69b",
   "metadata": {},
   "outputs": [],
   "source": [
    "recup_job_desc2 = driver.find_element(By.XPATH, '//*[@id=\"gws-plugins-horizon-jobs__job_details_page\"]/div/div[4]/div/span/span[2]').get_attribute('textContent')"
   ]
  },
  {
   "cell_type": "code",
   "execution_count": 13,
   "id": "f2fd227c-cc46-4ebe-b5d3-833f3829f085",
   "metadata": {},
   "outputs": [],
   "source": []
  },
  {
   "cell_type": "code",
   "execution_count": 15,
   "id": "0ad96c02-8fc4-48a6-8fae-fe83b9a5df23",
   "metadata": {},
   "outputs": [
    {
     "data": {
      "text/plain": [
       "\" architectes Cloud GCP & nos clients\\n• Mise en place de pipelines de données (ingestion, stockage, transformation), analyse des données et mise en place de solutions de visualisation\\n• Développer vos connaissances sur le Cloud computing et ses enjeux\\n\\nLe métier d’Ingénieur Data Google Cloud Platform est fait pour vous si :\\n• Vous avez des connaissances approfondies de SQL et d’autres langages de base de données, d’un langage de programmation appliqué à l’analyse de données (Python, Scala, R, Java)\\n• Vous avez des compétences dans la mise en production de modèles de Machine Learning et d’architecture des pipelines et bases de données, de l’ingestion de données jusqu’à son exploitation finale, méthodologies d’analyse et de visualisation\\n\\nVous tirerez également votre épingle du jeu grâce aux éléments suivants :\\n• Vous avez obtenu une certification Data Engineer sur Google Cloud Platform\\n• Vous avez des expériences sur des architectures Data legacy (Cloudera, Hortonworks, Teradata, Netezza)\\n• Vous maîtrisez des concepts DevOps (Docker, Kubernetes, CI/CD etc...)\\n\\nEn tant qu'Ingénieur Data G, vous rejoignez nos experts en technologie pour exploiter la puissance du digital, stimuler l’innovation et améliorer le quotidien de nos clients. Conjuguez expertise business et connaissance des technologies de pointe pour aider nos clients à réinventer leur entreprise, tout en renforçant leur cyber-résilience.\\n\\nA propos de nous\\n\\nAccenture, c'est une communauté de plus de 700 000 talents et une mission commune : réaliser la promesse technologique alliée à l’ingéniosité humaine.\\n\\nDans un monde en perpétuel changement, nous accélérons la transformation des plus grandes entreprises, de la stratégie à la réalisation des projets, à l’aide des technologies de demain et dynamisons leur croissance grâce à l'expertise multi-sectorielle de nos experts !\\n\\nVivez l’expérience du changement en rejoignant notre équipe, une équipe qui aspire à créer de la valeur pour ses clients et à faire toujours mieux pour ses talents.\\n\\nEnvie d’en savoir plus sur le quotidien des collaborateurs Accenture ? Posez-leur directement vos questions.\\n\\nVivez l’expérience du changement, postulez dès maintenant\""
      ]
     },
     "execution_count": 15,
     "metadata": {},
     "output_type": "execute_result"
    }
   ],
   "source": [
    "recup_job_desc2"
   ]
  },
  {
   "cell_type": "code",
   "execution_count": 14,
   "id": "5b83999e-ca4f-4f61-afea-78930f26cf3d",
   "metadata": {},
   "outputs": [
    {
     "data": {
      "text/plain": [
       "\"Dans un souci d’accessibilité et de clarté, l’écriture inclusive n’est pas utilisée dans cette annonce. Les termes employés au masculin se réfèrent aussi bien au genre féminin que masculin.  Et si vous viviez l’expérience du changement à nos côtés ?  Intégrez un univers où le design de solutions rencontre la technologie de pointe et transformez en profondeur les plus grandes entreprises et institutions. Construisez une carrière agile dans un environnement de travail flexible qui vise à favoriser l’équilibre entre vie professionnelle et vie personnelle : télétravail à la carte, semaine de 4 à 5 jours, projet de mobilité…  Rejoignez Accenture certifiée Great Place To Work, et venez imaginer, transformer et impacter positivement le monde. Be a change maker.  En tant qu'Ingénieur Data Google Cloud Platform , vos missions seront : • Etre garant de la chaîne de production de la donnée et de son bon déroulement, de l’extraction de la donnée à sa visualisation • Travailler avec nos... architectes Cloud GCP & nos clients • Mise en place de pipelines de données (ingestion, stockage, transformation), analyse des données et mise en place de solutions de visualisation • Développer vos connaissances sur le Cloud computing et ses enjeux  Le métier d’Ingénieur Data Google Cloud Platform est fait pour vous si : • Vous avez des connaissances approfondies de SQL et d’autres langages de base de données, d’un langage de programmation appliqué à l’analyse de données (Python, Scala, R, Java) • Vous avez des compétences dans la mise en production de modèles de Machine Learning et d’architecture des pipelines et bases de données, de l’ingestion de données jusqu’à son exploitation finale, méthodologies d’analyse et de visualisation  Vous tirerez également votre épingle du jeu grâce aux éléments suivants : • Vous avez obtenu une certification Data Engineer sur Google Cloud Platform • Vous avez des expériences sur des architectures Data legacy (Cloudera, Hortonworks, Teradata, Netezza) • Vous maîtrisez des concepts DevOps (Docker, Kubernetes, CI/CD etc...)  En tant qu'Ingénieur Data G, vous rejoignez nos experts en technologie pour exploiter la puissance du digital, stimuler l’innovation et améliorer le quotidien de nos clients. Conjuguez expertise business et connaissance des technologies de pointe pour aider nos clients à réinventer leur entreprise, tout en renforçant leur cyber-résilience.  A propos de nous  Accenture, c'est une communauté de plus de 700 000 talents et une mission commune : réaliser la promesse technologique alliée à l’ingéniosité humaine.  Dans un monde en perpétuel changement, nous accélérons la transformation des plus grandes entreprises, de la stratégie à la réalisation des projets, à l’aide des technologies de demain et dynamisons leur croissance grâce à l'expertise multi-sectorielle de nos experts !  Vivez l’expérience du changement en rejoignant notre équipe, une équipe qui aspire à créer de la valeur pour ses clients et à faire toujours mieux pour ses talents.  Envie d’en savoir plus sur le quotidien des collaborateurs Accenture ? Posez-leur directement vos questions.  Vivez l’expérience du changement, postulez dès maintenant architectes Cloud GCP & nos clients • Mise en place de pipelines de données (ingestion, stockage, transformation), analyse des données et mise en place de solutions de visualisation • Développer vos connaissances sur le Cloud computing et ses enjeux  Le métier d’Ingénieur Data Google Cloud Platform est fait pour vous si : • Vous avez des connaissances approfondies de SQL et d’autres langages de base de données, d’un langage de programmation appliqué à l’analyse de données (Python, Scala, R, Java) • Vous avez des compétences dans la mise en production de modèles de Machine Learning et d’architecture des pipelines et bases de données, de l’ingestion de données jusqu’à son exploitation finale, méthodologies d’analyse et de visualisation  Vous tirerez également votre épingle du jeu grâce aux éléments suivants : • Vous avez obtenu une certification Data Engineer sur Google Cloud Platform • Vous avez des expériences sur des architectures Data legacy (Cloudera, Hortonworks, Teradata, Netezza) • Vous maîtrisez des concepts DevOps (Docker, Kubernetes, CI/CD etc...)  En tant qu'Ingénieur Data G, vous rejoignez nos experts en technologie pour exploiter la puissance du digital, stimuler l’innovation et améliorer le quotidien de nos clients. Conjuguez expertise business et connaissance des technologies de pointe pour aider nos clients à réinventer leur entreprise, tout en renforçant leur cyber-résilience.  A propos de nous  Accenture, c'est une communauté de plus de 700 000 talents et une mission commune : réaliser la promesse technologique alliée à l’ingéniosité humaine.  Dans un monde en perpétuel changement, nous accélérons la transformation des plus grandes entreprises, de la stratégie à la réalisation des projets, à l’aide des technologies de demain et dynamisons leur croissance grâce à l'expertise multi-sectorielle de nos experts !  Vivez l’expérience du changement en rejoignant notre équipe, une équipe qui aspire à créer de la valeur pour ses clients et à faire toujours mieux pour ses talents.  Envie d’en savoir plus sur le quotidien des collaborateurs Accenture ? Posez-leur directement vos questions.  Vivez l’expérience du changement, postulez dès maintenant\""
      ]
     },
     "execution_count": 14,
     "metadata": {},
     "output_type": "execute_result"
    }
   ],
   "source": [
    "rec_desc"
   ]
  },
  {
   "cell_type": "code",
   "execution_count": 90,
   "id": "0715fa28-81a0-4fcf-a7af-41f7a6729d79",
   "metadata": {},
   "outputs": [
    {
     "data": {
      "text/plain": [
       "\"Publié le 28/10/2022\\n\\nPartager cette offre\\n\\nEn tant que Data Scientist, vos principales missions seront de/d'\\n• Améliorer les moteurs de recherche d'information pour prendre en compte différents attributs : titre, description, caractéristiques du document...\\n• Optimiser des flux de livraison et d'approvisionnement\\n• Développer des approches automatisées pour la prévision de séries temporelles\\n• Mettre au point des métriques et dashboards qui parlent aux métiers du pricing, illustrant des concepts tels que l'élasticité, la cannibalisation, le halo\\n• Innover au travers de méthodes classiques et/ou ML dans nos modèles de computer vision (détection d'objets et OCR)\\n• Porter ces modèles vers les applications mobiles dans le cadre d'une utilisation en temps réel\\n• Travailler avec les chefs de projets pour comprendre les besoins métier et délivrer des solutions pertinentes\\n• Rédiger des documents scientifiques (études de l'état de l'art et rapports)\\n\\nProfil du candidat\\n\\nDe formation... supérieure en informatique, statistiques, économétrie (Bac+4/5), vous disposez d'une expérience minimum de 3 ans en tant que Data Scientist.\\n\\nVous maitrisez impérativement les statistiques et les méthodes de machine learning.\\n\\nVous avez de l'expérience avec des sources de données variées, dont bases de données SQL.\\n\\nVous avez de solides connaissances solides en Python (pandas, numpy, numba, joblib, anaconda)\\n\\nVous avez des connaissances en Computer Vision (pre-processing, détection d'objets, OCR, OpenCV, CNN)\\n\\nUne expérience avec une ou plusieurs de ces technologies est souhaitée : C++, git, Android (Kotlin, MVVM, CameraX), linux\\n\\nDes notions en architecture patterns et design patterns est apprécié.\\n\\nVous avez idéalement une expérience dans le monde de la distribution/pricing/approvisionnement\\n\\nVous êtes passionné(e) par la Data et l'optimisation.\\n\\nCDI - Métropole Lilloise - Rémunération attractive selon expérience. Télétravail partiel possible.\\n\\nDescription de l'entreprise\\n\\nHarry Hope, cabinet de recrutement accompagne candidats et entreprises dans leurs recherches des meilleures opportunités en France et à l'international. Afin de mieux répondre à vos enjeux, tous nos consultants sont spécialisés par secteur d'activité et zone géographique.\\n\\nConsultante en Recrutement spécialisée sur les métiers IT, je recrute pour le compte de mon client, UN DATA SCIENTIST H/F\\n\\nMon client est un éditeur de logiciels de pricing et Supply Chain à destination des acteurs de la Grande Distribution et du Retail. Le logiciel est commercialisé en mode Saas et, est composé de plusieurs modules pouvant être vendus séparément : web data collect, scan in store, linking pour la cohérence de gamme, dashboard, matching entre produits concurrents et produits de l'enseigne\""
      ]
     },
     "execution_count": 90,
     "metadata": {},
     "output_type": "execute_result"
    }
   ],
   "source": []
  },
  {
   "cell_type": "code",
   "execution_count": null,
   "id": "fbe2cb25-d36c-4a53-ba3b-759309511463",
   "metadata": {},
   "outputs": [],
   "source": []
  },
  {
   "cell_type": "code",
   "execution_count": 56,
   "id": "5becb342-5ffe-4de3-a728-4f4b6a1b6f23",
   "metadata": {},
   "outputs": [
    {
     "ename": "AttributeError",
     "evalue": "'list' object has no attribute 'find_elements'",
     "output_type": "error",
     "traceback": [
      "\u001b[1;31m---------------------------------------------------------------------------\u001b[0m",
      "\u001b[1;31mAttributeError\u001b[0m                            Traceback (most recent call last)",
      "\u001b[1;32m~\\AppData\\Local\\Temp\\ipykernel_34168\\2945603453.py\u001b[0m in \u001b[0;36m<module>\u001b[1;34m\u001b[0m\n\u001b[0;32m      1\u001b[0m \u001b[0mhtml_list\u001b[0m \u001b[1;33m=\u001b[0m \u001b[0mdriver\u001b[0m\u001b[1;33m.\u001b[0m\u001b[0mfind_elements\u001b[0m\u001b[1;33m(\u001b[0m\u001b[0mBy\u001b[0m\u001b[1;33m.\u001b[0m\u001b[0mCLASS_NAME\u001b[0m\u001b[1;33m,\u001b[0m \u001b[1;34m\"tl-async-corelist nJXhWc\"\u001b[0m\u001b[1;33m)\u001b[0m\u001b[1;33m\u001b[0m\u001b[1;33m\u001b[0m\u001b[0m\n\u001b[1;32m----> 2\u001b[1;33m \u001b[0mitems\u001b[0m \u001b[1;33m=\u001b[0m \u001b[0mhtml_list\u001b[0m\u001b[1;33m.\u001b[0m\u001b[0mfind_elements\u001b[0m\u001b[1;33m(\u001b[0m\u001b[0mBy\u001b[0m\u001b[1;33m.\u001b[0m\u001b[0mTAG_NAME\u001b[0m\u001b[1;33m,\u001b[0m \u001b[1;34m\"li\"\u001b[0m\u001b[1;33m)\u001b[0m\u001b[1;33m\u001b[0m\u001b[1;33m\u001b[0m\u001b[0m\n\u001b[0m\u001b[0;32m      3\u001b[0m \u001b[1;32mfor\u001b[0m \u001b[0mitem\u001b[0m \u001b[1;32min\u001b[0m \u001b[0mitems\u001b[0m\u001b[1;33m:\u001b[0m\u001b[1;33m\u001b[0m\u001b[1;33m\u001b[0m\u001b[0m\n\u001b[0;32m      4\u001b[0m     \u001b[0mtext\u001b[0m \u001b[1;33m=\u001b[0m \u001b[0mitem\u001b[0m\u001b[1;33m.\u001b[0m\u001b[0mtext\u001b[0m\u001b[1;33m\u001b[0m\u001b[1;33m\u001b[0m\u001b[0m\n\u001b[0;32m      5\u001b[0m     \u001b[0mprint\u001b[0m\u001b[1;33m(\u001b[0m\u001b[0mtext\u001b[0m\u001b[1;33m)\u001b[0m\u001b[1;33m\u001b[0m\u001b[1;33m\u001b[0m\u001b[0m\n",
      "\u001b[1;31mAttributeError\u001b[0m: 'list' object has no attribute 'find_elements'"
     ]
    }
   ],
   "source": [
    "html_list = driver.find_elements(By.CLASS_NAME, \"tl-async-corelist nJXhWc\")\n",
    "items = html_list.find_elements(By.TAG_NAME, \"li\")\n",
    "for item in items:\n",
    "    text = item.text\n",
    "    print(text)"
   ]
  },
  {
   "cell_type": "code",
   "execution_count": null,
   "id": "a617fc5e-18b0-4251-86e4-450ca695d044",
   "metadata": {},
   "outputs": [],
   "source": []
  },
  {
   "cell_type": "code",
   "execution_count": null,
   "id": "37bc1c58-d03d-4d71-a873-e6ea22559ee0",
   "metadata": {},
   "outputs": [],
   "source": []
  },
  {
   "cell_type": "code",
   "execution_count": null,
   "id": "2cd2de3a-53cc-4343-a911-f865e8806799",
   "metadata": {},
   "outputs": [],
   "source": []
  },
  {
   "cell_type": "code",
   "execution_count": null,
   "id": "9eb4618a-92fd-437d-b1e5-c74fe833e0c7",
   "metadata": {},
   "outputs": [],
   "source": []
  },
  {
   "cell_type": "code",
   "execution_count": null,
   "id": "1c2d2b1c-18e7-434b-9261-1de2551944e7",
   "metadata": {},
   "outputs": [],
   "source": []
  },
  {
   "cell_type": "code",
   "execution_count": null,
   "id": "5d6588e4-086c-4a39-8d89-bb10ec274f93",
   "metadata": {},
   "outputs": [],
   "source": []
  },
  {
   "cell_type": "code",
   "execution_count": null,
   "id": "ca3a2dbf-861b-46ed-afd4-faf238835e1f",
   "metadata": {},
   "outputs": [],
   "source": []
  },
  {
   "cell_type": "code",
   "execution_count": null,
   "id": "d5dce2b1-5923-4dbf-9dfd-c0b6e41fd5b6",
   "metadata": {},
   "outputs": [],
   "source": []
  },
  {
   "cell_type": "code",
   "execution_count": 40,
   "id": "ddd419fc-e6d1-423b-b6f1-9b2362e8fb05",
   "metadata": {},
   "outputs": [],
   "source": [
    "## change location\n",
    "here_location = \"Paris\"\n",
    "velide_location = driver.find_element(By.XPATH, '//*[@id=\"location\"]')"
   ]
  },
  {
   "cell_type": "code",
   "execution_count": 43,
   "id": "1d9feba7-6ddf-43dd-8e0e-ee104a5e4dd4",
   "metadata": {},
   "outputs": [],
   "source": [
    "velide_location.send_keys(here_location)"
   ]
  },
  {
   "cell_type": "code",
   "execution_count": 44,
   "id": "8e70fb0f-f1b2-40bd-a4aa-ed192288fe72",
   "metadata": {},
   "outputs": [],
   "source": [
    "filter_validation = driver.find_element(By.ID, \"autocomplete-results-71\")\n",
    "filter_validation.click()"
   ]
  },
  {
   "cell_type": "code",
   "execution_count": 45,
   "id": "bcd4f210-fb4b-43db-9e59-1aa2146225f7",
   "metadata": {},
   "outputs": [
    {
     "name": "stdout",
     "output_type": "stream",
     "text": [
      "<selenium.webdriver.remote.webelement.WebElement (session=\"d9fedd7a006501036f087a1b865541cc\", element=\"c187eff8-a3ab-4a29-b714-0420b642db10\")>\n"
     ]
    }
   ],
   "source": []
  },
  {
   "cell_type": "code",
   "execution_count": 46,
   "id": "ed518f0d-83ad-40db-b8b3-f7e8b4006f82",
   "metadata": {},
   "outputs": [],
   "source": []
  },
  {
   "cell_type": "code",
   "execution_count": null,
   "id": "1006d82c-c5a0-4d69-8320-7004554e60d0",
   "metadata": {},
   "outputs": [],
   "source": []
  },
  {
   "cell_type": "code",
   "execution_count": 15,
   "id": "d3083fb2-b0b3-45fb-96b8-0300a73f828a",
   "metadata": {},
   "outputs": [],
   "source": [
    "email = \"princeobiang@gmail.com\""
   ]
  },
  {
   "cell_type": "code",
   "execution_count": 16,
   "id": "f1210b7e-b8da-4688-a238-1b5f5fcfbd21",
   "metadata": {},
   "outputs": [],
   "source": [
    "info_email = driver.find_element(By.ID, 'ifl-InputFormField-3').send_keys(email)"
   ]
  },
  {
   "cell_type": "code",
   "execution_count": 17,
   "id": "e1a71c71-fe38-4847-9980-6d1d588499f7",
   "metadata": {},
   "outputs": [],
   "source": [
    "valide_email = driver.find_element(By.XPATH, '//*[@id=\"emailform\"]/button')"
   ]
  },
  {
   "cell_type": "code",
   "execution_count": 18,
   "id": "62f85573-7949-4c61-bb24-fc5c79ed0c51",
   "metadata": {},
   "outputs": [],
   "source": [
    "valide_email.click()"
   ]
  },
  {
   "cell_type": "code",
   "execution_count": null,
   "id": "aa2d712e-c45e-436d-92fe-d0d31bbee5f7",
   "metadata": {},
   "outputs": [],
   "source": []
  }
 ],
 "metadata": {
  "kernelspec": {
   "display_name": "Python 3 (ipykernel)",
   "language": "python",
   "name": "python3"
  },
  "language_info": {
   "codemirror_mode": {
    "name": "ipython",
    "version": 3
   },
   "file_extension": ".py",
   "mimetype": "text/x-python",
   "name": "python",
   "nbconvert_exporter": "python",
   "pygments_lexer": "ipython3",
   "version": "3.7.7"
  }
 },
 "nbformat": 4,
 "nbformat_minor": 5
}
